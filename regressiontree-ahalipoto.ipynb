{
 "cells": [
  {
   "cell_type": "markdown",
   "id": "f1f8ceb6-5eb5-4a18-b99e-5dcb4abb60c1",
   "metadata": {},
   "source": [
    "# __D209 PA Task 2:__ *Prediction Analysis using Decision Trees*\n",
    ">### Aaminah Halipoto\n",
    ">### Western Governor's University\n",
    ">### D209: Data Mining I\n",
    ">### Prof. Festus Elleh\n",
    ">### Oct 1. 2024"
   ]
  },
  {
   "cell_type": "markdown",
   "id": "a53f94d9-5997-4c2f-9725-b11e06b958af",
   "metadata": {},
   "source": [
    "### Table of Contents\n",
    ">A1. [Proposal of Question](#question) </br>\n",
    "A2. [Defined Goal](#goal)</br>\n",
    "B1. [Explanation of Classification Method](#prediction)</br>\n",
    "B2. [Summary of Method Assumption](#summary)</br>\n",
    "B3. [Packages and Libraries](#packages)</br>\n",
    "C1. [Data preprocessing](#preprocessing)</br>\n",
    "C2. [Dataset variables](#dataset)</br>\n",
    "C3. [Steps for analysis](#steps)</br>\n",
    "C4. [Cleaned dataset](#cleaned)</br>\n",
    "D1. [Splitting data](#splitting)</br>\n",
    "D2. [Output and intermediate calculations](#output)</br>\n",
    "D3. [Code execution](#code)</br> \n",
    "E1. [Accuracy and MSE](#accuracy)</br>\n",
    "E2. [Results and implications](#results)</br>\n",
    "E3. [Limitations](#limitations)</br>\n",
    "E4. [Course of action](#course)</br>\n",
    "F. [Panopto Demonstration](#panoptolink)</br>\n",
    "G. [Sources of Third-Party Code](#codesources)</br>\n",
    "H. [Web Sources](#sources)</br>"
   ]
  },
  {
   "cell_type": "markdown",
   "id": "b700768a-481f-4281-99f7-af3367834104",
   "metadata": {},
   "source": [
    "#### __A1. Proposal of Question__ <a name=\"toolsbenefits\"></a>\n",
    "<i>Can a decision tree regressor be used to determine whether high technological familiarity and shorter customer contracts predicts a customer's bandwidth usage? "
   ]
  },
  {
   "cell_type": "markdown",
   "id": "d7be6a73-ebc1-457b-98cd-8bd161a3dd6b",
   "metadata": {},
   "source": [
    "#### __A2. Defined Goal__ <a name=\"goal\"></a>\n",
    "My goal is to create a decision tree regressor that accurately predicts a customer's bandwidth usage based on variables within the dataset. This model should be able to be used to give actionable insights to the service provider that leads to increased profits and higher service usage amongst their customer base."
   ]
  },
  {
   "cell_type": "markdown",
   "id": "9cbdde25-33f3-47bc-96f0-9a23f6fb65fa",
   "metadata": {},
   "source": [
    "#### __B1. Explanation of Prediction__ <a name=\"prediction\"></a>\n",
    "Decision trees are models, consisting of nodes and leaves, that categorize features (or explanatory variables) based on their labels (values within each variable). I'm using a regression tree as I am targeting a continuous quantitative response variable for predictions, as opposed to a classifier tree used for categorical predictor variables. \n",
    "\n",
    "The tree begins with the root question -- 'What is the customer's bandwidth?' -- and continuously splits data along decision nodes by asking questions to eventually provide a leaf, or prediction, for the response variable. Decision nodes may fork at boundaries within feature labels such as ‘Age > 30’ or ‘Contract = One year’, creating branches that successively culminate in a leaf. The depth of the model indicates how many levels the tree will split from the root; a depth of 3 suggests a maximum of 2 decision nodes before budding into a prediction. \n",
    "\n",
    "I plan to split the data amongst 70% training material and 30% subsequent testing material with a depth of 4 levels, ensuring that the decision tree has sufficient data and decision nodes to learn from. I expect that testing the data against the tree’s predictions will show that the tree can accurately predict continuous values of bandwidth usage for customers. \n"
   ]
  },
  {
   "cell_type": "markdown",
   "id": "38fb50ab-b886-4a70-b141-e0970b3fedea",
   "metadata": {},
   "source": [
    "#### __B2. Summary of Method Assumption__ <a name=\"summary\"></a>\n",
    "I am building a regressor tree with the assumption that the root node takes into account all training data. Because the root node is so foundational, it needs to run on all present data in order to split into decision nodes, the fork at which a decision is made in the decision path. This assumption bolsters the need for a thorough data cleaning process."
   ]
  },
  {
   "cell_type": "markdown",
   "id": "d7c0ebb4-3d41-484d-b2b5-cb44d947a867",
   "metadata": {},
   "source": [
    "#### __B3. Packages and Libraries__ <a name=\"packages\"></a>\n",
    "I am using Python v. 3.12 in the JupyterLabs IDE, with several useful analytical libraries. Firstly, Pandas is used for its myriad capabilities in manipulating dataframes. Seaborn and matplotlib both render detailed visualizations such as the histogram and boxplot, essential to my process in identifying outliers. Scikit-learn contains the breadth of functions for data-mining: the decision tree regressor, train_test_split to split mining data, as well as evaluation tools such as classification_report, the accuracy score, and mean squared error. The Statsmodels package contains the useful APIs for creating regression models and providing summary info on model structures, seen in the mosaic function."
   ]
  },
  {
   "cell_type": "markdown",
   "id": "8406932c-116a-41b4-9a92-ecffd30b0dc1",
   "metadata": {},
   "source": [
    "#### __C1. Data preprocessing__ <a name=\"preprocessing\"></a>\n",
    "One of my goals is to ensure that the dataset is free of duplicates, as they misrepresent the reality of the dataset. Decision trees can handle outliers and null values both, so I pay extra attention ot make sure duplicate records aren’t present to affect the model. "
   ]
  },
  {
   "cell_type": "markdown",
   "id": "86dd2af6-cbdb-4920-93d7-f10908da7ca6",
   "metadata": {
    "jp-MarkdownHeadingCollapsed": true
   },
   "source": [
    "#### __C2. Dataset variables__ <a name=\"dataset\"></a>\n",
    "Narrowed down via linear regression modelling,  the variables to be used in the decision tree regression are as follows:\n",
    ">Bandwidth_GB_Year, a numeric variable and the target of analysis;\n",
    "\n",
    ">Tenure, a numeric variable;\n",
    "\n",
    ">Contract, a categorical variable;\n",
    "\n",
    ">Age, a numeric variable;\n",
    "\n",
    ">Tenure, a numeric variable;\n",
    "\n",
    ">Children, a numeric variable;\n",
    "\n",
    ">Churn, a categorical variable; and\n",
    "\n",
    ">Techie, a categorical variable."
   ]
  },
  {
   "cell_type": "markdown",
   "id": "dc0dfc07-cf30-44f7-9592-3d795af23944",
   "metadata": {},
   "source": [
    "#### __C3. Steps for analysis__ <a name=\"steps\"></a>\n",
    "In order to make my efforts successful, all duplicates, nulls, and outliers need to be cleaned in the dataset. Additionally, any categorical variables will be one-hot encoded to numerical values. Decision trees do not require data to be normalized before data mining, so the resulting dataframe from this process should suffice as training data."
   ]
  },
  {
   "cell_type": "code",
   "execution_count": 11,
   "id": "e2422928-b8ce-4abc-8aa2-74962f5439fc",
   "metadata": {},
   "outputs": [
    {
     "name": "stdout",
     "output_type": "stream",
     "text": [
      "<class 'pandas.core.frame.DataFrame'>\n",
      "RangeIndex: 10000 entries, 0 to 9999\n",
      "Data columns (total 50 columns):\n",
      " #   Column                Non-Null Count  Dtype  \n",
      "---  ------                --------------  -----  \n",
      " 0   CaseOrder             10000 non-null  int64  \n",
      " 1   Customer_id           10000 non-null  object \n",
      " 2   Interaction           10000 non-null  object \n",
      " 3   UID                   10000 non-null  object \n",
      " 4   City                  10000 non-null  object \n",
      " 5   State                 10000 non-null  object \n",
      " 6   County                10000 non-null  object \n",
      " 7   Zip                   10000 non-null  int64  \n",
      " 8   Lat                   10000 non-null  float64\n",
      " 9   Lng                   10000 non-null  float64\n",
      " 10  Population            10000 non-null  int64  \n",
      " 11  Area                  10000 non-null  object \n",
      " 12  TimeZone              10000 non-null  object \n",
      " 13  Job                   10000 non-null  object \n",
      " 14  Children              10000 non-null  int64  \n",
      " 15  Age                   10000 non-null  int64  \n",
      " 16  Income                10000 non-null  float64\n",
      " 17  Marital               10000 non-null  object \n",
      " 18  Gender                10000 non-null  object \n",
      " 19  Churn                 10000 non-null  object \n",
      " 20  Outage_sec_perweek    10000 non-null  float64\n",
      " 21  Email                 10000 non-null  int64  \n",
      " 22  Contacts              10000 non-null  int64  \n",
      " 23  Yearly_equip_failure  10000 non-null  int64  \n",
      " 24  Techie                10000 non-null  object \n",
      " 25  Contract              10000 non-null  object \n",
      " 26  Port_modem            10000 non-null  object \n",
      " 27  Tablet                10000 non-null  object \n",
      " 28  InternetService       7871 non-null   object \n",
      " 29  Phone                 10000 non-null  object \n",
      " 30  Multiple              10000 non-null  object \n",
      " 31  OnlineSecurity        10000 non-null  object \n",
      " 32  OnlineBackup          10000 non-null  object \n",
      " 33  DeviceProtection      10000 non-null  object \n",
      " 34  TechSupport           10000 non-null  object \n",
      " 35  StreamingTV           10000 non-null  object \n",
      " 36  StreamingMovies       10000 non-null  object \n",
      " 37  PaperlessBilling      10000 non-null  object \n",
      " 38  PaymentMethod         10000 non-null  object \n",
      " 39  Tenure                10000 non-null  float64\n",
      " 40  MonthlyCharge         10000 non-null  float64\n",
      " 41  Bandwidth_GB_Year     10000 non-null  float64\n",
      " 42  Item1                 10000 non-null  int64  \n",
      " 43  Item2                 10000 non-null  int64  \n",
      " 44  Item3                 10000 non-null  int64  \n",
      " 45  Item4                 10000 non-null  int64  \n",
      " 46  Item5                 10000 non-null  int64  \n",
      " 47  Item6                 10000 non-null  int64  \n",
      " 48  Item7                 10000 non-null  int64  \n",
      " 49  Item8                 10000 non-null  int64  \n",
      "dtypes: float64(7), int64(16), object(27)\n",
      "memory usage: 3.8+ MB\n"
     ]
    }
   ],
   "source": [
    "#import necessary functions\n",
    "import pandas as pd\n",
    "import numpy as np\n",
    "import scipy.stats as stats\n",
    "import statsmodels.api as sm\n",
    "from statsmodels.api import qqplot\n",
    "import matplotlib.pyplot as plt\n",
    "import seaborn as sb\n",
    "from statsmodels.formula.api import logit\n",
    "from statsmodels.graphics.mosaicplot import mosaic\n",
    "from sklearn.model_selection import train_test_split as tts\n",
    "from sklearn.tree import DecisionTreeRegressor\n",
    "from sklearn.metrics import classification_report\n",
    "from sklearn.metrics import confusion_matrix\n",
    "from sklearn.metrics import mean_squared_error as MSE\n",
    "from sklearn.metrics import accuracy_score\n",
    "\n",
    "#setting \"clean\" data as a dataframe\n",
    "df = pd.read_csv('C://Users/Aaminah/Desktop/masters/D208/churn_clean.csv')\n",
    "\n",
    "#allowing our dictionaries to cast between datatypes\n",
    "pd.set_option('future.no_silent_downcasting', True)\n",
    "\n",
    "df.info()"
   ]
  },
  {
   "cell_type": "code",
   "execution_count": 12,
   "id": "9799414c-78a9-44c6-a56f-1d03b8082eb6",
   "metadata": {},
   "outputs": [
    {
     "data": {
      "text/plain": [
       "0       False\n",
       "1       False\n",
       "2       False\n",
       "3       False\n",
       "4       False\n",
       "        ...  \n",
       "9995    False\n",
       "9996    False\n",
       "9997    False\n",
       "9998    False\n",
       "9999    False\n",
       "Length: 10000, dtype: bool"
      ]
     },
     "execution_count": 12,
     "metadata": {},
     "output_type": "execute_result"
    }
   ],
   "source": [
    "df.duplicated()"
   ]
  },
  {
   "cell_type": "code",
   "execution_count": 13,
   "id": "f655be6b-60fe-4cc7-8bee-0619eecefe34",
   "metadata": {},
   "outputs": [],
   "source": [
    "df.fillna({'InternetService': \"None\"}, inplace = True)"
   ]
  },
  {
   "cell_type": "code",
   "execution_count": 14,
   "id": "516f1926-2019-4a27-b6f6-778e37a293e8",
   "metadata": {},
   "outputs": [
    {
     "data": {
      "text/plain": [
       "CaseOrder               0\n",
       "Customer_id             0\n",
       "Interaction             0\n",
       "UID                     0\n",
       "City                    0\n",
       "State                   0\n",
       "County                  0\n",
       "Zip                     0\n",
       "Lat                     0\n",
       "Lng                     0\n",
       "Population              0\n",
       "Area                    0\n",
       "TimeZone                0\n",
       "Job                     0\n",
       "Children                0\n",
       "Age                     0\n",
       "Income                  0\n",
       "Marital                 0\n",
       "Gender                  0\n",
       "Churn                   0\n",
       "Outage_sec_perweek      0\n",
       "Email                   0\n",
       "Contacts                0\n",
       "Yearly_equip_failure    0\n",
       "Techie                  0\n",
       "Contract                0\n",
       "Port_modem              0\n",
       "Tablet                  0\n",
       "InternetService         0\n",
       "Phone                   0\n",
       "Multiple                0\n",
       "OnlineSecurity          0\n",
       "OnlineBackup            0\n",
       "DeviceProtection        0\n",
       "TechSupport             0\n",
       "StreamingTV             0\n",
       "StreamingMovies         0\n",
       "PaperlessBilling        0\n",
       "PaymentMethod           0\n",
       "Tenure                  0\n",
       "MonthlyCharge           0\n",
       "Bandwidth_GB_Year       0\n",
       "Item1                   0\n",
       "Item2                   0\n",
       "Item3                   0\n",
       "Item4                   0\n",
       "Item5                   0\n",
       "Item6                   0\n",
       "Item7                   0\n",
       "Item8                   0\n",
       "dtype: int64"
      ]
     },
     "execution_count": 14,
     "metadata": {},
     "output_type": "execute_result"
    }
   ],
   "source": [
    "df.isnull().sum()"
   ]
  },
  {
   "cell_type": "code",
   "execution_count": 15,
   "id": "a09a0f47-af6d-4017-b827-24351ae4cfcd",
   "metadata": {},
   "outputs": [],
   "source": [
    "#initing tentative dataset to be cleaned and encoded\n",
    "initdata = df[['Bandwidth_GB_Year', 'Tenure', 'Contract', 'Age', 'Children', \n",
    "               'Churn','Techie']]"
   ]
  },
  {
   "cell_type": "code",
   "execution_count": 16,
   "id": "ace983ba-6eff-40c4-a4e3-56e0646cfe2a",
   "metadata": {
    "scrolled": true
   },
   "outputs": [
    {
     "data": {
      "image/png": "[encoded data removed]",
      "text/plain": [
       "<Figure size 640x480 with 1 Axes>"
      ]
     },
     "metadata": {},
     "output_type": "display_data"
    },
    {
     "data": {
      "image/png": "[encoded data removed]",
      "text/plain": [
       "<Figure size 640x480 with 1 Axes>"
      ]
     },
     "metadata": {},
     "output_type": "display_data"
    },
    {
     "data": {
      "image/png": "[encoded data removed]",
      "text/plain": [
       "<Figure size 640x480 with 1 Axes>"
      ]
     },
     "metadata": {},
     "output_type": "display_data"
    },
    {
     "data": {
      "image/png": "[encoded data removed]",
      "text/plain": [
       "<Figure size 640x480 with 1 Axes>"
      ]
     },
     "metadata": {},
     "output_type": "display_data"
    }
   ],
   "source": [
    "#all outliers seem to be in order, move on\n",
    "for col in initdata: \n",
    "    if pd.api.types.is_numeric_dtype(initdata[col]):\n",
    "        boxplot = sb.boxplot(x=initdata[col], data=initdata)\n",
    "        plt.tight_layout()\n",
    "        plt.title(col)\n",
    "        plt.show()\n",
    "    else: continue"
   ]
  },
  {
   "cell_type": "code",
   "execution_count": 17,
   "id": "c2a8a647-6aef-444b-bd7a-cea01fbb01ad",
   "metadata": {},
   "outputs": [],
   "source": [
    "#encoding churn to a single column, numerically\n",
    "df['Churn_numeric'] = df['Churn']\n",
    "dict_churn = {\"Churn_numeric\": {\"No\": 0, \"Yes\": 1}}\n",
    "df = df.replace(dict_churn)\n",
    "df[\"Churn_numeric\"]= df[\"Churn_numeric\"].astype(int)"
   ]
  },
  {
   "cell_type": "code",
   "execution_count": 18,
   "id": "9751b381-61c1-450f-a95c-5623c05f7724",
   "metadata": {},
   "outputs": [
    {
     "data": {
      "text/html": [
       "<div>\n",
       "<style scoped>\n",
       "    .dataframe tbody tr th:only-of-type {\n",
       "        vertical-align: middle;\n",
       "    }\n",
       "\n",
       "    .dataframe tbody tr th {\n",
       "        vertical-align: top;\n",
       "    }\n",
       "\n",
       "    .dataframe thead th {\n",
       "        text-align: right;\n",
       "    }\n",
       "</style>\n",
       "<table border=\"1\" class=\"dataframe\">\n",
       "  <thead>\n",
       "    <tr style=\"text-align: right;\">\n",
       "      <th></th>\n",
       "      <th>Month-to-month</th>\n",
       "      <th>One year</th>\n",
       "      <th>Two Year</th>\n",
       "    </tr>\n",
       "  </thead>\n",
       "  <tbody>\n",
       "    <tr>\n",
       "      <th>0</th>\n",
       "      <td>0</td>\n",
       "      <td>1</td>\n",
       "      <td>0</td>\n",
       "    </tr>\n",
       "    <tr>\n",
       "      <th>1</th>\n",
       "      <td>1</td>\n",
       "      <td>0</td>\n",
       "      <td>0</td>\n",
       "    </tr>\n",
       "    <tr>\n",
       "      <th>2</th>\n",
       "      <td>0</td>\n",
       "      <td>0</td>\n",
       "      <td>1</td>\n",
       "    </tr>\n",
       "    <tr>\n",
       "      <th>3</th>\n",
       "      <td>0</td>\n",
       "      <td>0</td>\n",
       "      <td>1</td>\n",
       "    </tr>\n",
       "    <tr>\n",
       "      <th>4</th>\n",
       "      <td>1</td>\n",
       "      <td>0</td>\n",
       "      <td>0</td>\n",
       "    </tr>\n",
       "  </tbody>\n",
       "</table>\n",
       "</div>"
      ],
      "text/plain": [
       "   Month-to-month  One year  Two Year\n",
       "0               0         1         0\n",
       "1               1         0         0\n",
       "2               0         0         1\n",
       "3               0         0         1\n",
       "4               1         0         0"
      ]
     },
     "execution_count": 18,
     "metadata": {},
     "output_type": "execute_result"
    }
   ],
   "source": [
    "contract_encoded = pd.get_dummies(df['Contract'], dtype = int)\n",
    "contract_encoded.head()"
   ]
  },
  {
   "cell_type": "code",
   "execution_count": 19,
   "id": "c6cbe2ce-a70d-4991-84bc-81b45fb25e08",
   "metadata": {},
   "outputs": [
    {
     "name": "stdout",
     "output_type": "stream",
     "text": [
      "0       0\n",
      "1       0\n",
      "2       1\n",
      "3       1\n",
      "4       0\n",
      "       ..\n",
      "9995    0\n",
      "9996    1\n",
      "9997    0\n",
      "9998    1\n",
      "9999    0\n",
      "Name: Contract_two, Length: 10000, dtype: int32\n"
     ]
    },
    {
     "data": {
      "text/plain": [
       "Contract_one\n",
       "0    7898\n",
       "1    2102\n",
       "Name: count, dtype: int64"
      ]
     },
     "execution_count": 19,
     "metadata": {},
     "output_type": "execute_result"
    }
   ],
   "source": [
    "#transferring dummy variables into dataframe\n",
    "df['Contract_monthly'] = contract_encoded['Month-to-month']\n",
    "df['Contract_one'] = contract_encoded['One year']\n",
    "df['Contract_two'] = contract_encoded['Two Year']\n",
    "print(df['Contract_two'])\n",
    "df['Contract_one'].value_counts()"
   ]
  },
  {
   "cell_type": "code",
   "execution_count": 20,
   "id": "e757a248-517f-46f5-b84c-264246526010",
   "metadata": {},
   "outputs": [],
   "source": [
    "df['Techie_numeric'] = df['Techie']\n",
    "dict_techie = {\"Techie_numeric\": {\"No\": 0, \"Yes\": 1}}\n",
    "df = df.replace(dict_techie)\n",
    "df[\"Techie_numeric\"]= df[\"Techie_numeric\"].astype(int)"
   ]
  },
  {
   "cell_type": "markdown",
   "id": "cd09425a-2c54-4284-adf0-a06bdd92b222",
   "metadata": {},
   "source": [
    "#### __C4. Cleaned dataset__ <a name=\"cleaned\"></a>"
   ]
  },
  {
   "cell_type": "code",
   "execution_count": 22,
   "id": "30cb766c-c999-4a9d-8797-14b73e86dc74",
   "metadata": {},
   "outputs": [
    {
     "data": {
      "text/html": [
       "<div>\n",
       "<style scoped>\n",
       "    .dataframe tbody tr th:only-of-type {\n",
       "        vertical-align: middle;\n",
       "    }\n",
       "\n",
       "    .dataframe tbody tr th {\n",
       "        vertical-align: top;\n",
       "    }\n",
       "\n",
       "    .dataframe thead th {\n",
       "        text-align: right;\n",
       "    }\n",
       "</style>\n",
       "<table border=\"1\" class=\"dataframe\">\n",
       "  <thead>\n",
       "    <tr style=\"text-align: right;\">\n",
       "      <th></th>\n",
       "      <th>Bandwidth_GB_Year</th>\n",
       "      <th>Tenure</th>\n",
       "      <th>Contract_monthly</th>\n",
       "      <th>Age</th>\n",
       "      <th>Children</th>\n",
       "      <th>Churn_numeric</th>\n",
       "      <th>Techie_numeric</th>\n",
       "    </tr>\n",
       "  </thead>\n",
       "  <tbody>\n",
       "    <tr>\n",
       "      <th>0</th>\n",
       "      <td>904.536110</td>\n",
       "      <td>6.795513</td>\n",
       "      <td>0</td>\n",
       "      <td>68</td>\n",
       "      <td>0</td>\n",
       "      <td>0</td>\n",
       "      <td>0</td>\n",
       "    </tr>\n",
       "    <tr>\n",
       "      <th>1</th>\n",
       "      <td>800.982766</td>\n",
       "      <td>1.156681</td>\n",
       "      <td>1</td>\n",
       "      <td>27</td>\n",
       "      <td>1</td>\n",
       "      <td>1</td>\n",
       "      <td>1</td>\n",
       "    </tr>\n",
       "    <tr>\n",
       "      <th>2</th>\n",
       "      <td>2054.706961</td>\n",
       "      <td>15.754144</td>\n",
       "      <td>0</td>\n",
       "      <td>50</td>\n",
       "      <td>4</td>\n",
       "      <td>0</td>\n",
       "      <td>1</td>\n",
       "    </tr>\n",
       "    <tr>\n",
       "      <th>3</th>\n",
       "      <td>2164.579412</td>\n",
       "      <td>17.087227</td>\n",
       "      <td>0</td>\n",
       "      <td>48</td>\n",
       "      <td>1</td>\n",
       "      <td>0</td>\n",
       "      <td>1</td>\n",
       "    </tr>\n",
       "    <tr>\n",
       "      <th>4</th>\n",
       "      <td>271.493436</td>\n",
       "      <td>1.670972</td>\n",
       "      <td>1</td>\n",
       "      <td>83</td>\n",
       "      <td>0</td>\n",
       "      <td>1</td>\n",
       "      <td>0</td>\n",
       "    </tr>\n",
       "  </tbody>\n",
       "</table>\n",
       "</div>"
      ],
      "text/plain": [
       "   Bandwidth_GB_Year     Tenure  Contract_monthly  Age  Children  \\\n",
       "0         904.536110   6.795513                 0   68         0   \n",
       "1         800.982766   1.156681                 1   27         1   \n",
       "2        2054.706961  15.754144                 0   50         4   \n",
       "3        2164.579412  17.087227                 0   48         1   \n",
       "4         271.493436   1.670972                 1   83         0   \n",
       "\n",
       "   Churn_numeric  Techie_numeric  \n",
       "0              0               0  \n",
       "1              1               1  \n",
       "2              0               1  \n",
       "3              0               1  \n",
       "4              1               0  "
      ]
     },
     "execution_count": 22,
     "metadata": {},
     "output_type": "execute_result"
    }
   ],
   "source": [
    "#dropping dummy variable from Contract to form testdata dataframe\n",
    "testdata = df[['Bandwidth_GB_Year', 'Tenure', 'Contract_monthly', 'Age', 'Children', \n",
    "               'Churn_numeric','Techie_numeric']]\n",
    "testdata.head()"
   ]
  },
  {
   "cell_type": "code",
   "execution_count": 23,
   "id": "a8d81673-5aa5-41b2-bb05-8692f1c60286",
   "metadata": {},
   "outputs": [],
   "source": [
    "#testdata.to_csv('C://Users/Aaminah/Desktop/masters/D209/testdata_pt2.csv', index=False)"
   ]
  },
  {
   "cell_type": "markdown",
   "id": "8a76222c-29e2-428f-9c6c-cb04b51758f9",
   "metadata": {},
   "source": [
    "#### __D1. Splitting data__ <a name=\"splitting\"></a>\n",
    "Below details the process of splitting the data 70/30 into training/testing data, respectively. The model's y is initialized as the response variable 'Bandwidth_GB_Year', and the X as the remaining predictor variables."
   ]
  },
  {
   "cell_type": "code",
   "execution_count": 25,
   "id": "b5d07f28-7eac-450e-b021-600106b40467",
   "metadata": {},
   "outputs": [
    {
     "name": "stdout",
     "output_type": "stream",
     "text": [
      "(10000, 6) (10000, 1)\n"
     ]
    }
   ],
   "source": [
    "y = testdata[['Bandwidth_GB_Year']].values\n",
    "X = testdata.drop('Bandwidth_GB_Year', axis=1).values\n",
    "print(X.shape, y.shape)"
   ]
  },
  {
   "cell_type": "code",
   "execution_count": 26,
   "id": "43c3ad86-3952-4874-9a2d-fa9058ed053c",
   "metadata": {},
   "outputs": [],
   "source": [
    "# Split dataset into 70% train, 30% test\n",
    "X_train, X_test, y_train, y_test= tts(X, y,\n",
    "                                      test_size=0.3,\n",
    "                                      random_state=3)\n",
    "# Instantiate dt\n",
    "#(Datacamp, 2024)\n",
    "dt = DecisionTreeRegressor(max_depth=4, min_samples_leaf=0.1, random_state=3)"
   ]
  },
  {
   "cell_type": "code",
   "execution_count": 27,
   "id": "0531b4ff-611e-4988-92eb-65e21937dbff",
   "metadata": {},
   "outputs": [],
   "source": [
    "# Fit dt to the training set\n",
    "dt.fit(X_train,y_train)\n",
    "# Predict test-set labels\n",
    "y_pred= dt.predict(X_test)"
   ]
  },
  {
   "cell_type": "code",
   "execution_count": 28,
   "id": "11c62098-230b-4f39-86c4-a601919e7381",
   "metadata": {},
   "outputs": [],
   "source": [
    "#exporting all sets as .csv\n",
    "df_X_train = pd.DataFrame(X_train) \n",
    "df_X_train.to_csv('C://Users/Aaminah/Desktop/masters/D209/X_train_pt2.csv', index=False, header= ['Tenure','Contract_monthly','Age','Children','Churn_numeric','Techie_numeric'])"
   ]
  },
  {
   "cell_type": "code",
   "execution_count": 29,
   "id": "ee0acd0e-b1b0-4074-9efc-7656c76e9399",
   "metadata": {},
   "outputs": [],
   "source": [
    "df_X_test = pd.DataFrame(X_test) \n",
    "df_X_test.to_csv('C://Users/Aaminah/Desktop/masters/D209/X_test_pt2.csv', index=False, header=['Tenure','Contract_monthly','Age','Children','Churn_numeric','Techie_numeric'])"
   ]
  },
  {
   "cell_type": "code",
   "execution_count": 30,
   "id": "b3add520-cf9a-4f66-b318-d52372bbbb17",
   "metadata": {},
   "outputs": [],
   "source": [
    "df_y_train = pd.DataFrame(y_train) \n",
    "df_y_train.to_csv('C://Users/Aaminah/Desktop/masters/D209/y_train_pt2.csv', index=False, header=['Bandwidth_GB_Year'])"
   ]
  },
  {
   "cell_type": "code",
   "execution_count": 31,
   "id": "eaf13122-4865-4c5e-bd10-c8cd3d2036e5",
   "metadata": {},
   "outputs": [],
   "source": [
    "df_y_test = pd.DataFrame(y_test) \n",
    "df_y_test.to_csv('C://Users/Aaminah/Desktop/masters/D209/y_test_pt2.csv', index=False, header=['Bandwidth_GB_Year'])"
   ]
  },
  {
   "cell_type": "markdown",
   "id": "589bfd65-2291-4f94-b77d-e81e24024ea8",
   "metadata": {},
   "source": [
    "#### __D2. Output and intermediate calculations__ <a name=\"output\"></a>\n",
    "Regression tree modelling necessitates sectioning the X and y datasets, with a larger proportion going into training sets, and a smaller proportion used for testing. This is to ensure that the model has enough data to learn from, but not so much that we are unable to assess its accuracy against the dataset. I create a regression tree with a depth (maximum number of branches before predictions are made) of 4, and fit both training sets to the tree. This enables the tree to create predictions based on the data it just learned from, which I stored in y_pred. To test the accuracy of the model and ensure it is usable, I compare the prediction data to the y_test data and see how it differs.  \n",
    "\n",
    "Calculations for splitting the data and calculating error reports are provided in the above and below sections. \n",
    "\n",
    "The process for finding the relevant variables for regression analysis was conducted via multilinear regression modelling. Dummy variables are dropped to prevent multicollinearity. Below is the model exhibiting these few variables, where the feature p-values less than 0.05 indicate correlation to the response variable."
   ]
  },
  {
   "cell_type": "code",
   "execution_count": 33,
   "id": "092553db-1565-4f0d-a8e7-8632925d751f",
   "metadata": {},
   "outputs": [
    {
     "name": "stdout",
     "output_type": "stream",
     "text": [
      "                            OLS Regression Results                            \n",
      "==============================================================================\n",
      "Dep. Variable:                      y   R-squared:                       0.987\n",
      "Model:                            OLS   Adj. R-squared:                  0.987\n",
      "Method:                 Least Squares   F-statistic:                 1.299e+05\n",
      "Date:                Tue, 15 Oct 2024   Prob (F-statistic):               0.00\n",
      "Time:                        22:24:46   Log-Likelihood:                -69236.\n",
      "No. Observations:               10000   AIC:                         1.385e+05\n",
      "Df Residuals:                    9993   BIC:                         1.385e+05\n",
      "Df Model:                           6                                         \n",
      "Covariance Type:            nonrobust                                         \n",
      "====================================================================================\n",
      "                       coef    std err          t      P>|t|      [0.025      0.975]\n",
      "------------------------------------------------------------------------------------\n",
      "Tenure              84.3378      0.108    784.409      0.000      84.127      84.549\n",
      "Contract_monthly   -75.2456      5.180    -14.526      0.000     -85.400     -65.092\n",
      "Age                 -3.3091      0.119    -27.829      0.000      -3.542      -3.076\n",
      "Children            30.1849      1.146     26.333      0.000      27.938      32.432\n",
      "Churn_numeric      291.5008      6.700     43.509      0.000     278.368     304.634\n",
      "Techie_numeric     -18.4170      6.598     -2.791      0.005     -31.351      -5.483\n",
      "const              560.0007      8.828     63.436      0.000     542.696     577.305\n",
      "==============================================================================\n",
      "Omnibus:                      427.020   Durbin-Watson:                   1.975\n",
      "Prob(Omnibus):                  0.000   Jarque-Bera (JB):              288.216\n",
      "Skew:                           0.301   Prob(JB):                     2.60e-63\n",
      "Kurtosis:                       2.427   Cond. No.                         255.\n",
      "==============================================================================\n",
      "\n",
      "Notes:\n",
      "[1] Standard Errors assume that the covariance matrix of the errors is correctly specified.\n"
     ]
    }
   ],
   "source": [
    "model = sm.OLS(y, testdata.drop('Bandwidth_GB_Year', axis=1).assign(const=1)).fit()\n",
    "print(model.summary())"
   ]
  },
  {
   "cell_type": "markdown",
   "id": "af69772f-f59f-44ac-81f4-19f2d5c9d363",
   "metadata": {},
   "source": [
    "#### __D3. Code execution__ <a name=\"code\"></a>\n",
    "All procedures and code are provided in the file 'regressiontree-ahalipoto.ipynb'."
   ]
  },
  {
   "cell_type": "code",
   "execution_count": 35,
   "id": "ecf86964-b892-40be-806b-ea6cd9b416cb",
   "metadata": {},
   "outputs": [
    {
     "name": "stdout",
     "output_type": "stream",
     "text": [
      " The mean accuracy is 0.9688089672385882\n"
     ]
    }
   ],
   "source": [
    "print(f' The mean accuracy is {dt.score(X_test, y_test)}')"
   ]
  },
  {
   "cell_type": "code",
   "execution_count": 36,
   "id": "c85a1f29-7d1b-41ac-8dc4-42ad53de102d",
   "metadata": {},
   "outputs": [
    {
     "name": "stdout",
     "output_type": "stream",
     "text": [
      "The mean squared error is 149041.874735\n"
     ]
    }
   ],
   "source": [
    "#(Datacamp, 2024)\n",
    "mse = MSE(y_test, y_pred)\n",
    "print(f'The mean squared error is {mse:2f}')"
   ]
  },
  {
   "cell_type": "code",
   "execution_count": 37,
   "id": "fddcaac9-d4de-4606-94ab-f56731c23f39",
   "metadata": {},
   "outputs": [
    {
     "name": "stdout",
     "output_type": "stream",
     "text": [
      "The root mean squared error is 386.059419\n"
     ]
    }
   ],
   "source": [
    "print(f'The root mean squared error is {np.sqrt(mse):2f}')"
   ]
  },
  {
   "cell_type": "markdown",
   "id": "c7d64052-89a0-4a70-a713-bb4223a39bce",
   "metadata": {},
   "source": [
    "#### __E1. Accuracy and MSE__ <a name=\"accuracy\"></a>\n",
    "Regression tree accuracy can be measured by using the score function on the test data, which returns the mean training accuracy of the model. I found the test score to be 96.881%, indicating the proportion of correct predictions made by the regressor tree against the original testing data.\n",
    "Accuracy for regression trees can also be indicated by measures such as the mean squared error, as well as the root mean squared error (as calculated above) (scikit, 2024). RMSE is a metric in the same units as the target variable: the value I calculated at 386.1 indicates that there are some issues with the model and is not a completely accurate predictor for the target variable. However, because the scale of the MSE is 0 to infinity, I can note that the MSE of 149041.9 is a small proportion of that range and as such, my regressor tree is still usable for predictions."
   ]
  },
  {
   "cell_type": "markdown",
   "id": "cf505756-99ee-4a57-81ec-334ca996bd0d",
   "metadata": {},
   "source": [
    "#### __E2. Results and implications__ <a name=\"results\"></a>\n",
    "The high accuracy, as well as MSE and RMSE of the model is significant at the depth of 4 nodes, meaning that the model is not completely accurate, but is also a moderately good predictor for the target variable. If I were to continue hyperparameter tuning, I would adjust the depth of the tree to make the predictions more specific, which would likely render a smaller RMSE. "
   ]
  },
  {
   "cell_type": "markdown",
   "id": "9d3b8f29-2efa-4133-a449-179d721e8e0e",
   "metadata": {},
   "source": [
    "#### __E3. Limitations__ <a name=\"limitations\"></a>\n",
    "Regressor trees are different from classifiers in that null values are taken care of during analysis (Geeksforgeeks, 2024), but outliers are a significant threat to both types of models. It is entirely possible that my model was affected by outliers retained during data cleaning. It is also possible that the depth of the tree is too shallow to perform at the maximum capability for predictions. "
   ]
  },
  {
   "cell_type": "markdown",
   "id": "d9f59e51-522c-4201-8e3e-003cf81f55f7",
   "metadata": {},
   "source": [
    "#### __E4. Course of action__ <a name=\"course\"></a>\n",
    "I have found that I can predict customer bandwidth, to some degree of error, using a decision tree regressor, using the variables isolated via regression analysis -- 'Age', 'Tenure', 'Contract', 'Churn', 'Techie', and 'Children'. This model is not perfect, so I would advise the client to use this generally, and not when in need of exact answers. This opens up several use cases: identifying what groups of customers tend to be forecasted as more frequent users, predicting the general trend of use for newly-onboarded customers, and highlighting attributes of high-use in potential customers."
   ]
  },
  {
   "cell_type": "markdown",
   "id": "ede4a464-a3eb-4d72-829a-2b559197d08d",
   "metadata": {},
   "source": [
    "#### __F. Panopto Demonstration__ <a name=\"panoptolink\"></a>\n",
    "https://wgu.hosted.panopto.com/Panopto/Pages/Viewer.aspx?id=608e5397-eca4-44e2-8881-b20b0037feba"
   ]
  },
  {
   "cell_type": "markdown",
   "id": "3b9fd23c-433e-4ef0-91ee-4ea004cfd5f8",
   "metadata": {},
   "source": [
    "#### __G. Sources of Third-Party Code__ <a name=\"codesources\"></a>\n",
    "Datacamp. Evaluate the regression tree. Python. (n.d.). https://campus.datacamp.com/courses/machine-learning-with-tree-based-models-in-python/classification-and-regression-trees?ex=11 "
   ]
  },
  {
   "cell_type": "markdown",
   "id": "58d49dbe-ee61-4056-a9ec-b2ba9f2918f7",
   "metadata": {},
   "source": [
    "#### __H. Web Sources__ <a name=\"sources\"></a>\n",
    "3.4. metrics and scoring: Quantifying the quality of predictions. scikit. (n.d.). https://scikit-learn.org/stable/modules/model_evaluation.html#regression-metrics \n",
    "\n",
    "GeeksforGeeks. (2024, March 19). Handling missing data in decision tree models. https://www.geeksforgeeks.org/handling-missing-data-in-decision-tree-models/ "
   ]
  },
  {
   "cell_type": "code",
   "execution_count": null,
   "id": "e8a39b94-67ca-4e01-a85f-f7daf673bf57",
   "metadata": {},
   "outputs": [],
   "source": []
  }
 ],
 "metadata": {
  "kernelspec": {
   "display_name": "Python 3 (ipykernel)",
   "language": "python",
   "name": "python3"
  },
  "language_info": {
   "codemirror_mode": {
    "name": "ipython",
    "version": 3
   },
   "file_extension": ".py",
   "mimetype": "text/x-python",
   "name": "python",
   "nbconvert_exporter": "python",
   "pygments_lexer": "ipython3",
   "version": "3.12.3"
  }
 },
 "nbformat": 4,
 "nbformat_minor": 5
}
