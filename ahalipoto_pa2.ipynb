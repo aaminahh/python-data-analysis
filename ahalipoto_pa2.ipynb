{
 "cells": [
  {
   "cell_type": "markdown",
   "id": "3203b3be-536f-4460-b20e-71f03b6713dc",
   "metadata": {},
   "source": [
    "# __D213 PA Task 2:__ *Sentiment analysis*\n",
    ">### Aaminah Halipoto\n",
    ">### Western Governor's University\n",
    ">### D213: Advanced Data Analytics\n",
    ">### Prof. William Sewell\n",
    ">### Nov 17. 2024"
   ]
  },
  {
   "cell_type": "markdown",
   "id": "9be6dd58-5910-4170-a290-4ebd30bd210c",
   "metadata": {},
   "source": [
    "### Table of Contents\n",
    ">A1. [Research Question](#question) </br>\n",
    ">A2. [Objectives or Goals](#goal)</br>\n",
    ">A3. [Prescribed network](#prescribed)</br>\n",
    ">B1. [Data exploration](#data)</br>\n",
    ">B2. [Tokenization](#token)</br>\n",
    ">B3. [Padding process](#pad)</br>\n",
    ">B4. [Categories of sentiment](#cat)</br>\n",
    ">B5. [Steps to prepare the data](#steps)</br>\n",
    ">B6. [Prepared dataset](#dataset)</br>\n",
    ">C1. [Model summary](#modelsum)</br>\n",
    ">C2. [Network architecture](#net)</br>\n",
    ">C3. [Hyperparameters](#hyper)</br>\n",
    ">D1. [Stopping criteria](#stopping)</br> \n",
    ">D2. [Fitness](#fitness)</br>\n",
    ">D3. [Training process](#training)</br>\n",
    ">D4. [Predictive accuracy](#pred)</br>\n",
    ">E. [Code](#code)</br>\n",
    ">F. [Functionality](#funct)</br>\n",
    ">G. [Recommendations](#rec)</br>\n",
    ">H. [Reporting](#report)</br>\n",
    ">I. [Sources for third-party code](#sourcescode)</br>\n",
    ">J. [Sources](#sources)</br>\r\n"
   ]
  },
  {
   "cell_type": "markdown",
   "id": "5f5ad462-ed6a-4567-9ade-402bc3e3ca6e",
   "metadata": {},
   "source": [
    "#### __A1. Research Question__ <a name=\"question\"></a>\n",
    "Using sentiment analysis via recurrent neural networks, can we accurately determine customer's satisfaction as positive or negative from user reviews in the Amazon, IMDB, and Yelp datasets? "
   ]
  },
  {
   "cell_type": "markdown",
   "id": "57c649d8-f928-4c30-94c0-41c0d868b7a0",
   "metadata": {},
   "source": [
    "#### __A2. Objectives or Goals__ <a name=\"goal\"></a>\n",
    "My goal in this project is to use sentiment analysis to create a recurrent neural network model that can process user reviews from all 3 datasets and accurately quantify a customer's sentiment as positive or negative in order to adjust our services to their needs."
   ]
  },
  {
   "cell_type": "markdown",
   "id": "7b5b6762-e543-47ae-87e3-0a285af1a56b",
   "metadata": {},
   "source": [
    "#### __A3. Prescribed network__ <a name=\"prescribed\"></a>\n",
    "The network used is a recurrent neural network, which handles sequential data and will classify text inputs to predict binary outcomes -- in this case, whether a review is expressing a positive or negative sentiment (AWS). The recursive memory storage feature allows RNNs to more accurately predict text-based sequences, which is necessary when working with large amounts of sequential data. "
   ]
  },
  {
   "cell_type": "code",
   "execution_count": 6,
   "id": "2501e55e-d76e-49b2-ad75-b7cc26f8170e",
   "metadata": {},
   "outputs": [
    {
     "name": "stderr",
     "output_type": "stream",
     "text": [
      "[nltk_data] Downloading package stopwords to\n",
      "[nltk_data]     C:\\Users\\Aaminah\\AppData\\Roaming\\nltk_data...\n",
      "[nltk_data]   Package stopwords is already up-to-date!\n",
      "[nltk_data] Downloading package punkt to\n",
      "[nltk_data]     C:\\Users\\Aaminah\\AppData\\Roaming\\nltk_data...\n",
      "[nltk_data]   Package punkt is already up-to-date!\n",
      "[nltk_data] Downloading package wordnet to\n",
      "[nltk_data]     C:\\Users\\Aaminah\\AppData\\Roaming\\nltk_data...\n",
      "[nltk_data]   Package wordnet is already up-to-date!\n"
     ]
    },
    {
     "data": {
      "text/html": [
       "<div>\n",
       "<style scoped>\n",
       "    .dataframe tbody tr th:only-of-type {\n",
       "        vertical-align: middle;\n",
       "    }\n",
       "\n",
       "    .dataframe tbody tr th {\n",
       "        vertical-align: top;\n",
       "    }\n",
       "\n",
       "    .dataframe thead th {\n",
       "        text-align: right;\n",
       "    }\n",
       "</style>\n",
       "<table border=\"1\" class=\"dataframe\">\n",
       "  <thead>\n",
       "    <tr style=\"text-align: right;\">\n",
       "      <th></th>\n",
       "      <th>review</th>\n",
       "      <th>sentiment</th>\n",
       "    </tr>\n",
       "  </thead>\n",
       "  <tbody>\n",
       "    <tr>\n",
       "      <th>0</th>\n",
       "      <td>So there is no way for me to plug it in here in the US unless I go by a converter.</td>\n",
       "      <td>0</td>\n",
       "    </tr>\n",
       "    <tr>\n",
       "      <th>1</th>\n",
       "      <td>Good case, Excellent value.</td>\n",
       "      <td>1</td>\n",
       "    </tr>\n",
       "    <tr>\n",
       "      <th>2</th>\n",
       "      <td>Great for the jawbone.</td>\n",
       "      <td>1</td>\n",
       "    </tr>\n",
       "    <tr>\n",
       "      <th>3</th>\n",
       "      <td>Tied to charger for conversations lasting more than 45 minutes.MAJOR PROBLEMS!!</td>\n",
       "      <td>0</td>\n",
       "    </tr>\n",
       "    <tr>\n",
       "      <th>4</th>\n",
       "      <td>The mic is great.</td>\n",
       "      <td>1</td>\n",
       "    </tr>\n",
       "    <tr>\n",
       "      <th>...</th>\n",
       "      <td>...</td>\n",
       "      <td>...</td>\n",
       "    </tr>\n",
       "    <tr>\n",
       "      <th>2743</th>\n",
       "      <td>I think food should have flavor and texture and both were lacking.</td>\n",
       "      <td>0</td>\n",
       "    </tr>\n",
       "    <tr>\n",
       "      <th>2744</th>\n",
       "      <td>Appetite instantly gone.</td>\n",
       "      <td>0</td>\n",
       "    </tr>\n",
       "    <tr>\n",
       "      <th>2745</th>\n",
       "      <td>Overall I was not impressed and would not go back.</td>\n",
       "      <td>0</td>\n",
       "    </tr>\n",
       "    <tr>\n",
       "      <th>2746</th>\n",
       "      <td>The whole experience was underwhelming, and I think we'll just go to Ninja Sushi next time.</td>\n",
       "      <td>0</td>\n",
       "    </tr>\n",
       "    <tr>\n",
       "      <th>2747</th>\n",
       "      <td>Then, as if I hadn't wasted enough of my life there, they poured salt in the wound by drawing out the time it took to bring the check.</td>\n",
       "      <td>0</td>\n",
       "    </tr>\n",
       "  </tbody>\n",
       "</table>\n",
       "<p>2748 rows × 2 columns</p>\n",
       "</div>"
      ],
      "text/plain": [
       "                                                                                                                                      review  \\\n",
       "0                                                         So there is no way for me to plug it in here in the US unless I go by a converter.   \n",
       "1                                                                                                                Good case, Excellent value.   \n",
       "2                                                                                                                     Great for the jawbone.   \n",
       "3                                                            Tied to charger for conversations lasting more than 45 minutes.MAJOR PROBLEMS!!   \n",
       "4                                                                                                                          The mic is great.   \n",
       "...                                                                                                                                      ...   \n",
       "2743                                                                      I think food should have flavor and texture and both were lacking.   \n",
       "2744                                                                                                                Appetite instantly gone.   \n",
       "2745                                                                                      Overall I was not impressed and would not go back.   \n",
       "2746                                             The whole experience was underwhelming, and I think we'll just go to Ninja Sushi next time.   \n",
       "2747  Then, as if I hadn't wasted enough of my life there, they poured salt in the wound by drawing out the time it took to bring the check.   \n",
       "\n",
       "      sentiment  \n",
       "0             0  \n",
       "1             1  \n",
       "2             1  \n",
       "3             0  \n",
       "4             1  \n",
       "...         ...  \n",
       "2743          0  \n",
       "2744          0  \n",
       "2745          0  \n",
       "2746          0  \n",
       "2747          0  \n",
       "\n",
       "[2748 rows x 2 columns]"
      ]
     },
     "execution_count": 6,
     "metadata": {},
     "output_type": "execute_result"
    }
   ],
   "source": [
    "%matplotlib inline\n",
    "import pandas as pd\n",
    "import math\n",
    "import numpy as np\n",
    "import matplotlib.pyplot as plt\n",
    "import scipy\n",
    "import scipy.stats as stats\n",
    "import seaborn as sb\n",
    "from sklearn.model_selection import train_test_split\n",
    "import tensorflow as tf\n",
    "from tensorflow.keras import Sequential\n",
    "from tensorflow.keras.layers import LSTM, Dropout, Dense, Embedding\n",
    "from tensorflow.keras.datasets import imdb\n",
    "from tensorflow.keras.preprocessing.sequence import pad_sequences\n",
    "from tensorflow.keras.preprocessing.text import Tokenizer\n",
    "from matplotlib import rcParams\n",
    "import re\n",
    "import warnings\n",
    "warnings.filterwarnings(\"ignore\")\n",
    "rcParams['figure.figsize'] = (10, 6)\n",
    "import nltk\n",
    "from nltk.tokenize import word_tokenize\n",
    "nltk.download('stopwords')\n",
    "nltk.download('punkt')\n",
    "nltk.download('wordnet')\n",
    "from nltk.corpus import stopwords\n",
    "from nltk.stem import PorterStemmer\n",
    "from nltk.stem import WordNetLemmatizer\n",
    "porter = PorterStemmer()\n",
    "from tensorflow import keras\n",
    "from keras.layers import *\n",
    "from tensorflow.keras.preprocessing.text import Tokenizer\n",
    "from keras.preprocessing import sequence\n",
    "from keras.callbacks import ModelCheckpoint, EarlyStopping\n",
    "\n",
    "#import os\n",
    "#dirname = os.getcwd()\n",
    "#filename = os.path.join(dirname, 'amazon_cells_labelled.txt')\n",
    "#df = pd.read_csv(filename, sep=\"\\t\", header=None, names=[\"text\", \"label\"])\n",
    "\n",
    "#(Sewell, n.d.)\n",
    "amazon = pd.read_csv(\"C://Users/Aaminah/Desktop/masters/d213/sentiment labelled sentences/amazon_cells_labelled.txt\", sep=\"\\t\", header=None, names=[\"review\", \"sentiment\"])\n",
    "imdb = pd.read_csv(\"C://Users/Aaminah/Desktop/masters/d213/sentiment labelled sentences/imdb_labelled.txt\", sep=\"\\t\", header=None, names=[\"review\", \"sentiment\"])\n",
    "yelp = pd.read_csv(\"C://Users/Aaminah/Desktop/masters/d213/sentiment labelled sentences/yelp_labelled.txt\", sep=\"\\t\", header=None, names=[\"review\", \"sentiment\"])\n",
    "\n",
    "# Concatenate\n",
    "df = pd.concat((amazon, imdb, yelp), ignore_index=True)\n",
    "pd.set_option('max_colwidth', 160)\n",
    "# Print the first few rows of the concatenated dataframe\n",
    "df"
   ]
  },
  {
   "cell_type": "markdown",
   "id": "44ca6a9e-6ac3-4249-be12-c04a9e265a1f",
   "metadata": {},
   "source": [
    "#### __B1. Data exploration__ <a name=\"data\"></a>\n",
    "Initial data analysis on the concatenated 3 datasets is included below."
   ]
  },
  {
   "cell_type": "code",
   "execution_count": 8,
   "id": "b965a0b5-e181-4682-a077-8952971d4e27",
   "metadata": {},
   "outputs": [
    {
     "data": {
      "text/plain": [
       "(2748, 2)"
      ]
     },
     "execution_count": 8,
     "metadata": {},
     "output_type": "execute_result"
    }
   ],
   "source": [
    "df.shape"
   ]
  },
  {
   "cell_type": "code",
   "execution_count": 9,
   "id": "75964bb5-fb6f-4004-ab66-b7f0bfadf8c4",
   "metadata": {},
   "outputs": [
    {
     "data": {
      "text/plain": [
       "0       False\n",
       "1       False\n",
       "2       False\n",
       "3       False\n",
       "4       False\n",
       "        ...  \n",
       "2743    False\n",
       "2744    False\n",
       "2745    False\n",
       "2746    False\n",
       "2747    False\n",
       "Length: 2748, dtype: bool"
      ]
     },
     "execution_count": 9,
     "metadata": {},
     "output_type": "execute_result"
    }
   ],
   "source": [
    "df.duplicated()"
   ]
  },
  {
   "cell_type": "code",
   "execution_count": 10,
   "id": "b4df5964-e4c9-415b-91d4-d4d0a4951ca9",
   "metadata": {},
   "outputs": [
    {
     "data": {
      "text/plain": [
       "review       False\n",
       "sentiment    False\n",
       "dtype: bool"
      ]
     },
     "execution_count": 10,
     "metadata": {},
     "output_type": "execute_result"
    }
   ],
   "source": [
    "df.isnull().any()"
   ]
  },
  {
   "cell_type": "raw",
   "id": "f482ad8b-2ef1-4202-b21b-5aef2f317323",
   "metadata": {},
   "source": [
    "Positive and negative sentiments are almost equal -- 50.4% positive and 49.6% negative."
   ]
  },
  {
   "cell_type": "code",
   "execution_count": 11,
   "id": "68b148fa-b466-48b2-bc37-b62bf0d37c9c",
   "metadata": {},
   "outputs": [
    {
     "name": "stdout",
     "output_type": "stream",
     "text": [
      "sentiment\n",
      "1    1386\n",
      "0    1362\n",
      "Name: count, dtype: int64\n"
     ]
    },
    {
     "data": {
      "text/plain": [
       "<Axes: xlabel='sentiment'>"
      ]
     },
     "execution_count": 11,
     "metadata": {},
     "output_type": "execute_result"
    },
    {
     "data": {
      "image/png": "[encoded data removed]",
      "text/plain": [
       "<Figure size 1000x600 with 1 Axes>"
      ]
     },
     "metadata": {},
     "output_type": "display_data"
    }
   ],
   "source": [
    "print(df['sentiment'].value_counts())\n",
    "df['sentiment'].value_counts().plot(kind='bar')"
   ]
  },
  {
   "cell_type": "markdown",
   "id": "f02a90f4-7ab9-4148-823a-9e033a2bc70c",
   "metadata": {},
   "source": [
    "Punctuation characters such as commas, exclamation points, and apostraphes are sought and removed via Regex. "
   ]
  },
  {
   "cell_type": "code",
   "execution_count": 13,
   "id": "bed627c5-cbaf-4519-8dc3-b452ee0a42d3",
   "metadata": {},
   "outputs": [
    {
     "data": {
      "text/html": [
       "<div>\n",
       "<style scoped>\n",
       "    .dataframe tbody tr th:only-of-type {\n",
       "        vertical-align: middle;\n",
       "    }\n",
       "\n",
       "    .dataframe tbody tr th {\n",
       "        vertical-align: top;\n",
       "    }\n",
       "\n",
       "    .dataframe thead th {\n",
       "        text-align: right;\n",
       "    }\n",
       "</style>\n",
       "<table border=\"1\" class=\"dataframe\">\n",
       "  <thead>\n",
       "    <tr style=\"text-align: right;\">\n",
       "      <th></th>\n",
       "      <th>review</th>\n",
       "      <th>sentiment</th>\n",
       "    </tr>\n",
       "  </thead>\n",
       "  <tbody>\n",
       "    <tr>\n",
       "      <th>0</th>\n",
       "      <td>So there is no way for me to plug it in here in the US unless I go by a converter</td>\n",
       "      <td>0</td>\n",
       "    </tr>\n",
       "    <tr>\n",
       "      <th>1</th>\n",
       "      <td>Good case  Excellent value</td>\n",
       "      <td>1</td>\n",
       "    </tr>\n",
       "    <tr>\n",
       "      <th>2</th>\n",
       "      <td>Great for the jawbone</td>\n",
       "      <td>1</td>\n",
       "    </tr>\n",
       "    <tr>\n",
       "      <th>3</th>\n",
       "      <td>Tied to charger for conversations lasting more than 45 minutes MAJOR PROBLEMS</td>\n",
       "      <td>0</td>\n",
       "    </tr>\n",
       "    <tr>\n",
       "      <th>4</th>\n",
       "      <td>The mic is great</td>\n",
       "      <td>1</td>\n",
       "    </tr>\n",
       "    <tr>\n",
       "      <th>...</th>\n",
       "      <td>...</td>\n",
       "      <td>...</td>\n",
       "    </tr>\n",
       "    <tr>\n",
       "      <th>2743</th>\n",
       "      <td>I think food should have flavor and texture and both were lacking</td>\n",
       "      <td>0</td>\n",
       "    </tr>\n",
       "    <tr>\n",
       "      <th>2744</th>\n",
       "      <td>Appetite instantly gone</td>\n",
       "      <td>0</td>\n",
       "    </tr>\n",
       "    <tr>\n",
       "      <th>2745</th>\n",
       "      <td>Overall I was not impressed and would not go back</td>\n",
       "      <td>0</td>\n",
       "    </tr>\n",
       "    <tr>\n",
       "      <th>2746</th>\n",
       "      <td>The whole experience was underwhelming  and I think we ll just go to Ninja Sushi next time</td>\n",
       "      <td>0</td>\n",
       "    </tr>\n",
       "    <tr>\n",
       "      <th>2747</th>\n",
       "      <td>Then  as if I hadn t wasted enough of my life there  they poured salt in the wound by drawing out the time it took to bring the check</td>\n",
       "      <td>0</td>\n",
       "    </tr>\n",
       "  </tbody>\n",
       "</table>\n",
       "<p>2748 rows × 2 columns</p>\n",
       "</div>"
      ],
      "text/plain": [
       "                                                                                                                                      review  \\\n",
       "0                                                         So there is no way for me to plug it in here in the US unless I go by a converter    \n",
       "1                                                                                                                Good case  Excellent value    \n",
       "2                                                                                                                     Great for the jawbone    \n",
       "3                                                             Tied to charger for conversations lasting more than 45 minutes MAJOR PROBLEMS    \n",
       "4                                                                                                                          The mic is great    \n",
       "...                                                                                                                                      ...   \n",
       "2743                                                                      I think food should have flavor and texture and both were lacking    \n",
       "2744                                                                                                                Appetite instantly gone    \n",
       "2745                                                                                      Overall I was not impressed and would not go back    \n",
       "2746                                             The whole experience was underwhelming  and I think we ll just go to Ninja Sushi next time    \n",
       "2747  Then  as if I hadn t wasted enough of my life there  they poured salt in the wound by drawing out the time it took to bring the check    \n",
       "\n",
       "      sentiment  \n",
       "0             0  \n",
       "1             1  \n",
       "2             1  \n",
       "3             0  \n",
       "4             1  \n",
       "...         ...  \n",
       "2743          0  \n",
       "2744          0  \n",
       "2745          0  \n",
       "2746          0  \n",
       "2747          0  \n",
       "\n",
       "[2748 rows x 2 columns]"
      ]
     },
     "execution_count": 13,
     "metadata": {},
     "output_type": "execute_result"
    }
   ],
   "source": [
    "#(Gupta, 2023)\n",
    "p = re.compile(r'[^\\w\\s]+')\n",
    "df['review'] = [p.sub(' ', x) for x in df['review'].tolist()]\n",
    "df"
   ]
  },
  {
   "cell_type": "markdown",
   "id": "022b7c1a-5f09-4dd7-a554-517b97789656",
   "metadata": {},
   "source": [
    "All reviews are converted to lowercase."
   ]
  },
  {
   "cell_type": "code",
   "execution_count": 15,
   "id": "aa40ddf1-5219-4984-a1ef-7bef76ea3a07",
   "metadata": {},
   "outputs": [
    {
     "data": {
      "text/html": [
       "<div>\n",
       "<style scoped>\n",
       "    .dataframe tbody tr th:only-of-type {\n",
       "        vertical-align: middle;\n",
       "    }\n",
       "\n",
       "    .dataframe tbody tr th {\n",
       "        vertical-align: top;\n",
       "    }\n",
       "\n",
       "    .dataframe thead th {\n",
       "        text-align: right;\n",
       "    }\n",
       "</style>\n",
       "<table border=\"1\" class=\"dataframe\">\n",
       "  <thead>\n",
       "    <tr style=\"text-align: right;\">\n",
       "      <th></th>\n",
       "      <th>review</th>\n",
       "      <th>sentiment</th>\n",
       "    </tr>\n",
       "  </thead>\n",
       "  <tbody>\n",
       "    <tr>\n",
       "      <th>0</th>\n",
       "      <td>so there is no way for me to plug it in here in the us unless i go by a converter</td>\n",
       "      <td>0</td>\n",
       "    </tr>\n",
       "    <tr>\n",
       "      <th>1</th>\n",
       "      <td>good case  excellent value</td>\n",
       "      <td>1</td>\n",
       "    </tr>\n",
       "    <tr>\n",
       "      <th>2</th>\n",
       "      <td>great for the jawbone</td>\n",
       "      <td>1</td>\n",
       "    </tr>\n",
       "    <tr>\n",
       "      <th>3</th>\n",
       "      <td>tied to charger for conversations lasting more than 45 minutes major problems</td>\n",
       "      <td>0</td>\n",
       "    </tr>\n",
       "    <tr>\n",
       "      <th>4</th>\n",
       "      <td>the mic is great</td>\n",
       "      <td>1</td>\n",
       "    </tr>\n",
       "    <tr>\n",
       "      <th>...</th>\n",
       "      <td>...</td>\n",
       "      <td>...</td>\n",
       "    </tr>\n",
       "    <tr>\n",
       "      <th>2743</th>\n",
       "      <td>i think food should have flavor and texture and both were lacking</td>\n",
       "      <td>0</td>\n",
       "    </tr>\n",
       "    <tr>\n",
       "      <th>2744</th>\n",
       "      <td>appetite instantly gone</td>\n",
       "      <td>0</td>\n",
       "    </tr>\n",
       "    <tr>\n",
       "      <th>2745</th>\n",
       "      <td>overall i was not impressed and would not go back</td>\n",
       "      <td>0</td>\n",
       "    </tr>\n",
       "    <tr>\n",
       "      <th>2746</th>\n",
       "      <td>the whole experience was underwhelming  and i think we ll just go to ninja sushi next time</td>\n",
       "      <td>0</td>\n",
       "    </tr>\n",
       "    <tr>\n",
       "      <th>2747</th>\n",
       "      <td>then  as if i hadn t wasted enough of my life there  they poured salt in the wound by drawing out the time it took to bring the check</td>\n",
       "      <td>0</td>\n",
       "    </tr>\n",
       "  </tbody>\n",
       "</table>\n",
       "<p>2748 rows × 2 columns</p>\n",
       "</div>"
      ],
      "text/plain": [
       "                                                                                                                                      review  \\\n",
       "0                                                         so there is no way for me to plug it in here in the us unless i go by a converter    \n",
       "1                                                                                                                good case  excellent value    \n",
       "2                                                                                                                     great for the jawbone    \n",
       "3                                                             tied to charger for conversations lasting more than 45 minutes major problems    \n",
       "4                                                                                                                          the mic is great    \n",
       "...                                                                                                                                      ...   \n",
       "2743                                                                      i think food should have flavor and texture and both were lacking    \n",
       "2744                                                                                                                appetite instantly gone    \n",
       "2745                                                                                      overall i was not impressed and would not go back    \n",
       "2746                                             the whole experience was underwhelming  and i think we ll just go to ninja sushi next time    \n",
       "2747  then  as if i hadn t wasted enough of my life there  they poured salt in the wound by drawing out the time it took to bring the check    \n",
       "\n",
       "      sentiment  \n",
       "0             0  \n",
       "1             1  \n",
       "2             1  \n",
       "3             0  \n",
       "4             1  \n",
       "...         ...  \n",
       "2743          0  \n",
       "2744          0  \n",
       "2745          0  \n",
       "2746          0  \n",
       "2747          0  \n",
       "\n",
       "[2748 rows x 2 columns]"
      ]
     },
     "execution_count": 15,
     "metadata": {},
     "output_type": "execute_result"
    }
   ],
   "source": [
    "#(Sewell, n.d.-a)\n",
    "df['review'] = df['review'].str.lower()\n",
    "df"
   ]
  },
  {
   "cell_type": "markdown",
   "id": "3f2869ca-c873-451f-900f-09530ce15023",
   "metadata": {},
   "source": [
    "The maximum length of reviews is 7944 characters, the minimum is 7 characters, and the mean of all reviews is about 72 characters."
   ]
  },
  {
   "cell_type": "code",
   "execution_count": 17,
   "id": "c78310f7-9ab6-4d91-9dad-f14bdbb23beb",
   "metadata": {},
   "outputs": [
    {
     "data": {
      "text/plain": [
       "7923"
      ]
     },
     "execution_count": 17,
     "metadata": {},
     "output_type": "execute_result"
    }
   ],
   "source": [
    "reviewlength = df['review'].str.len()\n",
    "reviewlength.max()"
   ]
  },
  {
   "cell_type": "code",
   "execution_count": 18,
   "id": "649446f0-cba0-4213-9b67-185fc87d9aae",
   "metadata": {},
   "outputs": [
    {
     "data": {
      "text/plain": [
       "7"
      ]
     },
     "execution_count": 18,
     "metadata": {},
     "output_type": "execute_result"
    }
   ],
   "source": [
    "reviewlength.min()"
   ]
  },
  {
   "cell_type": "code",
   "execution_count": 19,
   "id": "98c590f1-c7e4-4d27-b1d4-6826b240b48f",
   "metadata": {},
   "outputs": [
    {
     "data": {
      "text/plain": [
       "71.31077147016012"
      ]
     },
     "execution_count": 19,
     "metadata": {},
     "output_type": "execute_result"
    }
   ],
   "source": [
    "reviewlength.mean()"
   ]
  },
  {
   "cell_type": "markdown",
   "id": "ce24c208-c0b3-46aa-b936-26947e1d5425",
   "metadata": {},
   "source": [
    "Lemmatization is the process of reducing words to their root word by removing all tenses, plurals, and so on -- for example, 'advancing' after lemmatization becomes 'advance'."
   ]
  },
  {
   "cell_type": "code",
   "execution_count": 21,
   "id": "e450c390-894b-4547-b4bc-a9251b6404ad",
   "metadata": {},
   "outputs": [
    {
     "data": {
      "text/html": [
       "<div>\n",
       "<style scoped>\n",
       "    .dataframe tbody tr th:only-of-type {\n",
       "        vertical-align: middle;\n",
       "    }\n",
       "\n",
       "    .dataframe tbody tr th {\n",
       "        vertical-align: top;\n",
       "    }\n",
       "\n",
       "    .dataframe thead th {\n",
       "        text-align: right;\n",
       "    }\n",
       "</style>\n",
       "<table border=\"1\" class=\"dataframe\">\n",
       "  <thead>\n",
       "    <tr style=\"text-align: right;\">\n",
       "      <th></th>\n",
       "      <th>review</th>\n",
       "      <th>sentiment</th>\n",
       "      <th>Lemmed_words</th>\n",
       "      <th>Lemmed_chars</th>\n",
       "    </tr>\n",
       "  </thead>\n",
       "  <tbody>\n",
       "    <tr>\n",
       "      <th>0</th>\n",
       "      <td>so there is no way for me to plug it in here in the us unless i go by a converter</td>\n",
       "      <td>0</td>\n",
       "      <td>21</td>\n",
       "      <td>82</td>\n",
       "    </tr>\n",
       "    <tr>\n",
       "      <th>1</th>\n",
       "      <td>good case  excellent value</td>\n",
       "      <td>1</td>\n",
       "      <td>4</td>\n",
       "      <td>27</td>\n",
       "    </tr>\n",
       "    <tr>\n",
       "      <th>2</th>\n",
       "      <td>great for the jawbone</td>\n",
       "      <td>1</td>\n",
       "      <td>4</td>\n",
       "      <td>22</td>\n",
       "    </tr>\n",
       "    <tr>\n",
       "      <th>3</th>\n",
       "      <td>tied to charger for conversations lasting more than 45 minutes major problems</td>\n",
       "      <td>0</td>\n",
       "      <td>12</td>\n",
       "      <td>78</td>\n",
       "    </tr>\n",
       "    <tr>\n",
       "      <th>4</th>\n",
       "      <td>the mic is great</td>\n",
       "      <td>1</td>\n",
       "      <td>4</td>\n",
       "      <td>17</td>\n",
       "    </tr>\n",
       "    <tr>\n",
       "      <th>...</th>\n",
       "      <td>...</td>\n",
       "      <td>...</td>\n",
       "      <td>...</td>\n",
       "      <td>...</td>\n",
       "    </tr>\n",
       "    <tr>\n",
       "      <th>2743</th>\n",
       "      <td>i think food should have flavor and texture and both were lacking</td>\n",
       "      <td>0</td>\n",
       "      <td>12</td>\n",
       "      <td>66</td>\n",
       "    </tr>\n",
       "    <tr>\n",
       "      <th>2744</th>\n",
       "      <td>appetite instantly gone</td>\n",
       "      <td>0</td>\n",
       "      <td>3</td>\n",
       "      <td>24</td>\n",
       "    </tr>\n",
       "    <tr>\n",
       "      <th>2745</th>\n",
       "      <td>overall i was not impressed and would not go back</td>\n",
       "      <td>0</td>\n",
       "      <td>10</td>\n",
       "      <td>50</td>\n",
       "    </tr>\n",
       "    <tr>\n",
       "      <th>2746</th>\n",
       "      <td>the whole experience was underwhelming  and i think we ll just go to ninja sushi next time</td>\n",
       "      <td>0</td>\n",
       "      <td>17</td>\n",
       "      <td>91</td>\n",
       "    </tr>\n",
       "    <tr>\n",
       "      <th>2747</th>\n",
       "      <td>then  as if i hadn t wasted enough of my life there  they poured salt in the wound by drawing out the time it took to bring the check</td>\n",
       "      <td>0</td>\n",
       "      <td>29</td>\n",
       "      <td>134</td>\n",
       "    </tr>\n",
       "  </tbody>\n",
       "</table>\n",
       "<p>2748 rows × 4 columns</p>\n",
       "</div>"
      ],
      "text/plain": [
       "                                                                                                                                      review  \\\n",
       "0                                                         so there is no way for me to plug it in here in the us unless i go by a converter    \n",
       "1                                                                                                                good case  excellent value    \n",
       "2                                                                                                                     great for the jawbone    \n",
       "3                                                             tied to charger for conversations lasting more than 45 minutes major problems    \n",
       "4                                                                                                                          the mic is great    \n",
       "...                                                                                                                                      ...   \n",
       "2743                                                                      i think food should have flavor and texture and both were lacking    \n",
       "2744                                                                                                                appetite instantly gone    \n",
       "2745                                                                                      overall i was not impressed and would not go back    \n",
       "2746                                             the whole experience was underwhelming  and i think we ll just go to ninja sushi next time    \n",
       "2747  then  as if i hadn t wasted enough of my life there  they poured salt in the wound by drawing out the time it took to bring the check    \n",
       "\n",
       "      sentiment  Lemmed_words  Lemmed_chars  \n",
       "0             0            21            82  \n",
       "1             1             4            27  \n",
       "2             1             4            22  \n",
       "3             0            12            78  \n",
       "4             1             4            17  \n",
       "...         ...           ...           ...  \n",
       "2743          0            12            66  \n",
       "2744          0             3            24  \n",
       "2745          0            10            50  \n",
       "2746          0            17            91  \n",
       "2747          0            29           134  \n",
       "\n",
       "[2748 rows x 4 columns]"
      ]
     },
     "execution_count": 21,
     "metadata": {},
     "output_type": "execute_result"
    }
   ],
   "source": [
    "lemmatizer = WordNetLemmatizer()\n",
    "\n",
    "def lem (token_text):\n",
    "    text=[lemmatizer.lemmatize(word)for word in token_text]\n",
    "    return text\n",
    "df['review'].apply(lambda x: lem(x))\n",
    "df['Lemmed_words'] = [len(x.split()) for x in df['review'].tolist()]\n",
    "df['Lemmed_chars'] = df['review'].apply(len)\n",
    "df"
   ]
  },
  {
   "cell_type": "code",
   "execution_count": 22,
   "id": "685e8101-b3e0-4ee2-bfde-5dddc0446dee",
   "metadata": {},
   "outputs": [
    {
     "data": {
      "text/plain": [
       "13.328602620087336"
      ]
     },
     "execution_count": 22,
     "metadata": {},
     "output_type": "execute_result"
    }
   ],
   "source": [
    "df['Lemmed_words'].mean()"
   ]
  },
  {
   "cell_type": "markdown",
   "id": "40b7d229-242c-4f6e-9d37-e3fb1dc1e786",
   "metadata": {},
   "source": [
    "I have found 5290 distinct words in the vocabulary, and a proposed embedded word length of 8.52. The max review length after sorting through all reviews is 1637 words. "
   ]
  },
  {
   "cell_type": "code",
   "execution_count": 24,
   "id": "c52cec08-a1fa-4ed4-8c64-b5865a13a825",
   "metadata": {},
   "outputs": [
    {
     "name": "stdout",
     "output_type": "stream",
     "text": [
      "Vocab:   5290\n",
      "Longest:   1637\n",
      "Emb Size:   8.528328451922611\n"
     ]
    }
   ],
   "source": [
    "#(Reiswig, n.d.)\n",
    "reviews = df['review'].tolist()\n",
    "vocab = []\n",
    "max_review_len = 72\n",
    "\n",
    "for review in reviews:\n",
    "    review_len = len(review.split(\" \"))\n",
    "    if review_len > max_review_len:\n",
    "        max_review_len = review_len\n",
    "\n",
    "for review in reviews:\n",
    "    for word in review.split(\" \"):\n",
    "        if not word in vocab:\n",
    "            vocab.append(word)\n",
    "\n",
    "vocab_size = len(vocab)\n",
    "\n",
    "print(\"Vocab:  \", vocab_size)\n",
    "print(\"Longest:  \", max_review_len)\n",
    "print(\"Emb Size:  \", len(vocab)**0.25)"
   ]
  },
  {
   "cell_type": "code",
   "execution_count": 25,
   "id": "60ad21db-e324-4f6f-bc2e-7ceb7f460284",
   "metadata": {},
   "outputs": [],
   "source": [
    "df.to_csv('C://Users/Aaminah/Desktop/masters/D213/cleaned_pretoken.csv',index=False)"
   ]
  },
  {
   "cell_type": "markdown",
   "id": "d06c3c93-040b-4096-8e92-2519a8f8ce31",
   "metadata": {},
   "source": [
    "#### __B2. Tokenization__ <a name=\"token\"></a>\n",
    "Tokenization is the process of breaking down sentences into the smallest components, in this case individual words. These tokens provide the basic building blocks for the neural network to understand. We enact tokenization on the dataset via tensorflow.keras.preprocessing Tokenizer package, where we input the vocabulary size and apply it to the cleaned dataset. Tokens are then encoded into numbers that refer back to a unique word in the dataset. The end goal of tokenizing and encoding is essentially an index of integers referring back to a single word, or token."
   ]
  },
  {
   "cell_type": "code",
   "execution_count": 27,
   "id": "9045ffa5-2a9d-4265-91fb-1929fbe94971",
   "metadata": {
    "scrolled": true
   },
   "outputs": [],
   "source": [
    "#(Sewell, n.d. -a)\n",
    "stop_words = set(stopwords.words('english'))\n",
    "data_set = []\n",
    "for review in df.review: \n",
    "    data_set.append([word for word in word_tokenize(review) if word not in stop_words])\n",
    "\n",
    "#embedding words\n",
    "x = data_set\n",
    "y = df['review']\n",
    "tokenizer = Tokenizer(num_words = vocab_size)\n",
    "tokenizer.fit_on_texts(x)\n",
    "encoded_docs = tokenizer.texts_to_sequences(x)\n",
    "#print('''\\n''', x)"
   ]
  },
  {
   "cell_type": "code",
   "execution_count": 28,
   "id": "e299e8fb-ba15-4798-bf97-0567a4422b72",
   "metadata": {},
   "outputs": [
    {
     "name": "stdout",
     "output_type": "stream",
     "text": [
      "so there is no way for me to plug it in here in the us unless i go by a converter \n",
      "['way', 'plug', 'us', 'unless', 'go', 'converter']\n",
      "[44, 263, 96, 459, 24, 2122]\n"
     ]
    }
   ],
   "source": [
    "print(df.review[0])\n",
    "print(x[0])\n",
    "print(encoded_docs[0])"
   ]
  },
  {
   "cell_type": "code",
   "execution_count": 29,
   "id": "2091e791-e0d7-4892-ae64-76dfbc936ee8",
   "metadata": {
    "scrolled": true
   },
   "outputs": [
    {
     "name": "stdout",
     "output_type": "stream",
     "text": [
      "{'good': 1, 'great': 2, 'movie': 3, 'phone': 4, 'film': 5, 'one': 6, '0': 7, '1': 8, 'food': 9, 'like': 10, 'place': 11, 'time': 12, 'service': 13, 'bad': 14, 'really': 15, 'well': 16, 'would': 17, 'best': 18, 'even': 19, 'ever': 20, 'also': 21, 'back': 22, 'quality': 23, 'go': 24, 'love': 25, 'made': 26, 'product': 27, 'work': 28, 'get': 29, 'excellent': 30, 'works': 31, 'could': 32, 'nice': 33, 'better': 34, 'never': 35, 'sound': 36, 'recommend': 37, 'much': 38, 'use': 39, 'headset': 40, 'think': 41, 'first': 42, 'battery': 43, 'way': 44, 'pretty': 45, 'see': 46, 'acting': 47, 'make': 48, 'got': 49, 'worst': 50, 'still': 51, '2': 52, '10': 53, 'everything': 54, 'say': 55, 'enough': 56, 'two': 57, 'ear': 58, 'little': 59, 'disappointed': 60, 'every': 61, 'characters': 62, 'right': 63, 'going': 64, 'thing': 65, 'price': 66, 'amazing': 67, 'minutes': 68, 'waste': 69, 'people': 70, 'real': 71, 'definitely': 72, 'case': 73, 'terrible': 74, 'money': 75, 'look': 76, 'new': 77, 'know': 78, 'experience': 79, 'came': 80, 'movies': 81, 'friendly': 82, 'many': 83, 'plot': 84, 'story': 85, 'far': 86, 'life': 87, 'poor': 88, 'piece': 89, 'used': 90, 'worth': 91, 'long': 92, 'years': 93, 'nothing': 94, 'seen': 95, 'us': 96, 'want': 97, 'lot': 98, 'quite': 99, 'wonderful': 100, 'restaurant': 101, 'happy': 102, 'screen': 103, 'always': 104, 'films': 105, 'character': 106, 'script': 107, 'highly': 108, 'camera': 109, 'found': 110, 'give': 111, 'anyone': 112, 'delicious': 113, 'easy': 114, 'times': 115, 'another': 116, 'watching': 117, 'vegas': 118, 'went': 119, 'bought': 120, 'absolutely': 121, 'loved': 122, 'car': 123, 'fine': 124, 'buy': 125, 'worked': 126, 'around': 127, 'funny': 128, 'probably': 129, 'however': 130, 'take': 131, 'awful': 132, 'comfortable': 133, 'since': 134, 'big': 135, 'item': 136, 'slow': 137, 'awesome': 138, 'thought': 139, 'horrible': 140, 'stars': 141, 'charger': 142, 'must': 143, 'impressed': 144, '5': 145, 'makes': 146, 'end': 147, 'cool': 148, 'find': 149, 'music': 150, 'things': 151, 'show': 152, 'totally': 153, 'scenes': 154, 'actors': 155, 'watch': 156, 'staff': 157, 'eat': 158, 'though': 159, 'last': 160, 'talk': 161, 'bluetooth': 162, 'black': 163, 'job': 164, 'small': 165, 'cheap': 166, 'fantastic': 167, 'night': 168, 'overall': 169, 'part': 170, 'family': 171, 'old': 172, 'day': 173, 'come': 174, 'cast': 175, 'line': 176, 'beautiful': 177, 'reception': 178, 'kind': 179, 'ordered': 180, 'stupid': 181, 'said': 182, 'feel': 183, 'perfect': 184, 'chicken': 185, 'problems': 186, 'problem': 187, 'sure': 188, 'performance': 189, 'actually': 190, 'done': 191, 'avoid': 192, 'try': 193, 'low': 194, 'especially': 195, 'next': 196, 'fresh': 197, 'special': 198, 'everyone': 199, 'charge': 200, 'least': 201, '3': 202, 'working': 203, 'order': 204, 'tried': 205, 'simply': 206, 'felt': 207, 'bit': 208, 'year': 209, 'customer': 210, 'anything': 211, 'sucks': 212, 'hard': 213, 'coming': 214, 'scene': 215, 'interesting': 216, 'menu': 217, 'salad': 218, 'pizza': 219, 'without': 220, 'hear': 221, 'calls': 222, 'looks': 223, 'purchase': 224, 'gets': 225, 'expect': 226, 'fit': 227, 'fast': 228, 'cell': 229, 'completely': 230, 'almost': 231, 'either': 232, 'away': 233, 'liked': 234, 'man': 235, 'enjoyed': 236, 'writing': 237, 'worse': 238, 'taste': 239, 'wait': 240, 'steak': 241, 'motorola': 242, 'left': 243, 'short': 244, 'clear': 245, 'seriously': 246, 'different': 247, 'device': 248, 'super': 249, 'using': 250, 'white': 251, 'call': 252, 'whole': 253, 'rather': 254, 'bland': 255, 'hour': 256, 'fact': 257, 'art': 258, 'dialogue': 259, 'server': 260, 'sushi': 261, 'flavor': 262, 'plug': 263, 'volume': 264, 'several': 265, 'started': 266, 'design': 267, 'three': 268, 'play': 269, 'full': 270, 'may': 271, 'getting': 272, 'perfectly': 273, 'side': 274, 'put': 275, 'incredible': 276, 'extremely': 277, 'tell': 278, 'return': 279, 'disappointing': 280, 'looking': 281, 'crap': 282, 'deal': 283, 'understand': 284, 'unfortunately': 285, 'took': 286, 'sucked': 287, 'enjoy': 288, 'believe': 289, 'saw': 290, 'buffet': 291, 'feeling': 292, 'director': 293, 'watched': 294, 'atmosphere': 295, 'burger': 296, 'yet': 297, 'need': 298, 'received': 299, 'huge': 300, 'high': 301, 'light': 302, 'fits': 303, 'hours': 304, 'less': 305, 'stay': 306, 'certainly': 307, 'mess': 308, 'disappointment': 309, 'hands': 310, 'care': 311, 'hot': 312, 'oh': 313, 'wrong': 314, 'barely': 315, 'truly': 316, 'mediocre': 317, 'soon': 318, 'ending': 319, 'boring': 320, 'tasty': 321, 'meal': 322, 'fun': 323, 'wasted': 324, 'original': 325, 'days': 326, 'months': 327, 'recommended': 328, 'kept': 329, 'picture': 330, 'phones': 331, 'world': 332, 'let': 333, 'series': 334, 'home': 335, 'strong': 336, 'pleased': 337, 'voice': 338, 'area': 339, 'glad': 340, 'company': 341, 'gave': 342, 'star': 343, 'none': 344, 'something': 345, 'tv': 346, 'together': 347, 'effects': 348, 'easily': 349, 'inside': 350, 'top': 351, 'kids': 352, 'predictable': 353, 'cinematography': 354, 'actor': 355, 'played': 356, 'drama': 357, 'cold': 358, 'selection': 359, 'prices': 360, 'sauce': 361, 'lunch': 362, 'breakfast': 363, 'waited': 364, 'decent': 365, 'helpful': 366, 'turn': 367, 'priced': 368, 'verizon': 369, 'dropped': 370, 'seems': 371, 'wear': 372, 'broke': 373, 'free': 374, 'wife': 375, 'set': 376, 'house': 377, 'check': 378, 'lost': 379, 'junk': 380, 'amazon': 381, 'ago': 382, 'couple': 383, 'face': 384, 'self': 385, 'trying': 386, 'wanted': 387, 'today': 388, 'keep': 389, '20': 390, 'guess': 391, 'bar': 392, 'else': 393, 'making': 394, 'places': 395, 'half': 396, 'directing': 397, 'game': 398, 'horror': 399, 'playing': 400, 'waitress': 401, 'second': 402, 'style': 403, 'spot': 404, 'eating': 405, 'fries': 406, 'table': 407, 'sandwich': 408, 'meat': 409, 'dishes': 410, 'clean': 411, 'value': 412, 'simple': 413, 'hate': 414, 'garbage': 415, 'audio': 416, 'mind': 417, 'buttons': 418, 'perhaps': 419, 'arrived': 420, 'quickly': 421, 'pictures': 422, 'although': 423, 'ask': 424, 'jabra': 425, 'obviously': 426, 'mostly': 427, 'expected': 428, 'important': 429, 'someone': 430, 'weak': 431, 'average': 432, 'finally': 433, 'waiting': 434, 'comes': 435, 'unit': 436, 'given': 437, 'quick': 438, 'plus': 439, 'point': 440, 'pay': 441, 'told': 442, 'entire': 443, '4': 444, 'fails': 445, 'word': 446, 'girl': 447, 'cinema': 448, 'amount': 449, 'twice': 450, 'suspense': 451, 'human': 452, 'beer': 453, 'dish': 454, 'dining': 455, 'spicy': 456, 'rude': 457, 'tasted': 458, 'unless': 459, 'book': 460, 'loud': 461, 'reasonable': 462, 'front': 463, 'cover': 464, 'week': 465, 'later': 466, 'feels': 467, 'headsets': 468, 'within': 469, 'software': 470, 'brilliant': 471, 'literally': 472, 'superb': 473, 'internet': 474, 'charm': 475, 'useless': 476, 'color': 477, 'room': 478, 'authentic': 479, 'cable': 480, '8': 481, 'nokia': 482, 'outside': 483, 'others': 484, 'mention': 485, 'might': 486, 'solid': 487, 'review': 488, 'store': 489, 'friends': 490, 'course': 491, 'needed': 492, 'wall': 493, 'whatever': 494, 'management': 495, 'joy': 496, 'lines': 497, 'non': 498, 'hilarious': 499, 'budget': 500, 'single': 501, 'editing': 502, 'written': 503, 'annoying': 504, 'classic': 505, 'bring': 506, 'maybe': 507, 'possible': 508, 'beyond': 509, 'close': 510, 'john': 511, 'action': 512, 'hope': 513, 'location': 514, 'sick': 515, 'subtle': 516, 'seeing': 517, 'drive': 518, '90': 519, '30': 520, 'comedy': 521, 'heart': 522, 'tender': 523, 'served': 524, 'overpriced': 525, 'warm': 526, 'waiter': 527, 'attentive': 528, 'cooked': 529, 'town': 530, 'ambiance': 531, 'chips': 532, 'blue': 533, 'bars': 534, 'hold': 535, 'ears': 536, 'features': 537, 'instead': 538, 'large': 539, 'headphones': 540, 'particular': 541, 'player': 542, 'songs': 543, 'sometimes': 544, 'longer': 545, 'costs': 546, 'dont': 547, 'signal': 548, 'basically': 549, 'seemed': 550, 'goes': 551, 'whether': 552, 'hit': 553, 'thin': 554, 'bother': 555, 'range': 556, 'living': 557, 'child': 558, 'mistake': 559, 'whatsoever': 560, 'feature': 561, 'adorable': 562, 'poorly': 563, 'clever': 564, 'lacking': 565, 'reason': 566, 'exactly': 567, 'dead': 568, 'plastic': 569, 'note': 570, 'difficult': 571, 'seem': 572, 'zero': 573, 'joke': 574, 'walked': 575, 'idea': 576, 'samsung': 577, 'cases': 578, 'extra': 579, 'reviews': 580, 'happened': 581, 'despite': 582, 'etc': 583, 'elsewhere': 584, 'hand': 585, 'rare': 586, 'lots': 587, 'setting': 588, 'rating': 589, 'rest': 590, 'wow': 591, 'ridiculous': 592, 'running': 593, 'lacks': 594, 'casting': 595, 'history': 596, 'flick': 597, 'lovely': 598, 'performances': 599, 'believable': 600, 'portrayal': 601, 'sat': 602, 'gives': 603, 'business': 604, 'terrific': 605, 'rent': 606, 'fish': 607, 'hitchcock': 608, 'holes': 609, 'considering': 610, 'memorable': 611, 'sweet': 612, 'become': 613, 'leave': 614, 'throughout': 615, 'looked': 616, 'damn': 617, 'pho': 618, 'shrimp': 619, 'potato': 620, 'dinner': 621, 'razr': 622, 'owner': 623, 'charging': 624, 'owned': 625, '7': 626, 'mobile': 627, 'provided': 628, 'moving': 629, 'sturdy': 630, 'party': 631, 'person': 632, 'choice': 633, 'holds': 634, 'bargain': 635, 'shipping': 636, 'rated': 637, 'impressive': 638, 'fall': 639, 'leather': 640, 'weeks': 641, 'stuff': 642, 'minute': 643, 'forever': 644, 'graphics': 645, 'offers': 646, 'options': 647, 'needs': 648, 'recently': 649, 'incredibly': 650, 'reasonably': 651, 'form': 652, 'embarrassing': 653, 'favorite': 654, 'cute': 655, 'buying': 656, 'cant': 657, 'games': 658, 'belt': 659, 'data': 660, 'along': 661, 'sides': 662, 'satisfied': 663, 'clarity': 664, 'wish': 665, 'turned': 666, 'reading': 667, 'computer': 668, 'ability': 669, 'roles': 670, 'ended': 671, 'replace': 672, 'touch': 673, 'total': 674, 'please': 675, 'due': 676, 'trash': 677, 'connection': 678, 'wind': 679, 'rate': 680, 'beat': 681, 'shots': 682, 'generally': 683, 'break': 684, 'thumbs': 685, 'dirty': 686, 'utterly': 687, 'ok': 688, 'flat': 689, 'audience': 690, 'empty': 691, 'consider': 692, 'production': 693, 'level': 694, 'deserves': 695, 'lame': 696, 'tom': 697, 'often': 698, 'mouth': 699, 'list': 700, 'trip': 701, 'direction': 702, 'imagination': 703, 'cult': 704, 'mean': 705, 'lead': 706, 'silent': 707, 'thriller': 708, 'usual': 709, 'pathetic': 710, 'lacked': 711, 'plain': 712, 'soundtrack': 713, 'fans': 714, 'eyes': 715, 'water': 716, 'shot': 717, 'dry': 718, 'fan': 719, 'involved': 720, 'period': 721, 'particularly': 722, 'recent': 723, 'par': 724, 'unbelievable': 725, 'rice': 726, 'sub': 727, '40': 728, 'sad': 729, 'asked': 730, 'tables': 731, 'portions': 732, 'dessert': 733, 'beef': 734, 'servers': 735, 'seafood': 736, 'pasta': 737, 'tasteless': 738, 'thai': 739, 'eaten': 740, 'seated': 741, 'bacon': 742, 'ice': 743, 'bread': 744, 'friend': 745, 'fried': 746, 'anytime': 747, 'mic': 748, 'sending': 749, 'clip': 750, 'advise': 751, 'website': 752, 'pair': 753, 'run': 754, 'instructions': 755, 'pull': 756, 'included': 757, 'worthless': 758, 'thats': 759, 'keyboard': 760, 'turns': 761, 'forget': 762, 'support': 763, 'clearly': 764, 'fairly': 765, 'trouble': 766, 'station': 767, 'purchased': 768, 'loves': 769, 'decision': 770, 'rocks': 771, 'number': 772, 'comfortably': 773, 'failed': 774, 'takes': 775, 'previous': 776, 'tool': 777, 'share': 778, 'wasting': 779, 'network': 780, 'likes': 781, 'lasts': 782, 'nearly': 783, 'anyway': 784, 'able': 785, 'issues': 786, 'lightweight': 787, 'hair': 788, 'market': 789, 'type': 790, 'earpiece': 791, 'unreliable': 792, 'seller': 793, 'plantronics': 794, 'charged': 795, 'strip': 796, 'lg': 797, 'gotten': 798, 'immediately': 799, 'easier': 800, 'appealing': 801, 'called': 802, 'happier': 803, 'starts': 804, 'effective': 805, 'weird': 806, 'appearance': 807, 'q': 808, 'expensive': 809, 'results': 810, 'im': 811, 'earlier': 812, 'palm': 813, 'missed': 814, 'cingular': 815, 'hated': 816, 'ringtones': 817, 'stop': 818, 'plays': 819, 'killer': 820, '50': 821, 'treo': 822, 'usb': 823, 'genuine': 824, 'red': 825, 'third': 826, 'ready': 827, 'chinese': 828, 'crisp': 829, 'video': 830, 'power': 831, 'passed': 832, 'shows': 833, 'cut': 834, 'somewhat': 835, 'cost': 836, 'son': 837, 'addition': 838, '12': 839, 'disgusting': 840, 'five': 841, 'yes': 842, 'checked': 843, 'says': 844, 'exceptional': 845, 'wonderfully': 846, 'christmas': 847, 'directed': 848, 'young': 849, 'song': 850, 'head': 851, 'showed': 852, 'main': 853, 'tale': 854, 'greatest': 855, 'gem': 856, 'true': 857, 'words': 858, 'massive': 859, 'pg': 860, 'complete': 861, 'green': 862, 'convincing': 863, 'honestly': 864, 'follow': 865, 'energy': 866, 'pretentious': 867, 'occasionally': 868, 'including': 869, 'chemistry': 870, 'fear': 871, 'depth': 872, 'bunch': 873, 'paid': 874, 'crazy': 875, 'storyline': 876, 'boyfriend': 877, 'gone': 878, 'already': 879, 'attempt': 880, 'torture': 881, 'pleasant': 882, 'premise': 883, 'ups': 884, 'age': 885, 'ray': 886, 'charles': 887, 'remember': 888, 'attention': 889, 'master': 890, 'visual': 891, 'mexican': 892, 'indeed': 893, 'thoroughly': 894, 'theater': 895, 'intelligence': 896, 'intelligent': 897, 'sense': 898, 'entertaining': 899, 'bored': 900, 'guy': 901, 'towards': 902, 'drago': 903, 'enjoyable': 904, 'god': 905, 'parts': 906, 'sets': 907, 'stories': 908, 'created': 909, 'role': 910, 'scamp': 911, 'charming': 912, 'insult': 913, 'death': 914, 'rolls': 915, 'space': 916, 'conclusion': 917, 'ten': 918, 'final': 919, 'serious': 920, 'mickey': 921, 'crowd': 922, 'james': 923, 'vibe': 924, 'dark': 925, 'honest': 926, 'known': 927, 'nasty': 928, 'delight': 929, 'thinking': 930, 'heard': 931, 'dance': 932, 'italian': 933, 'beginning': 934, 'appreciate': 935, 'tacos': 936, 'salmon': 937, 'visit': 938, 'establishment': 939, 'husband': 940, 'drinks': 941, 'yummy': 942, 'wine': 943, 'steaks': 944, 'pork': 945, 'burgers': 946, 'cream': 947, 'drink': 948, 'bay': 949, 'phoenix': 950, 'wings': 951, 'live': 952, 'folks': 953, 'chef': 954, 'tea': 955, 'vegetables': 956, 'soup': 957, 'owners': 958, 'manager': 959, 'jawbone': 960, 'conversations': 961, 'lasting': 962, 'contacts': 963, 'imagine': 964, 'needless': 965, 'static': 966, 'odd': 967, 'wonder': 968, 'fire': 969, 'mother': 970, 'pocket': 971, 'pc': 972, 'combination': 973, 'speed': 974, 'gon': 975, 'na': 976, 'returned': 977, 'protection': 978, 'machine': 979, '15': 980, 'seconds': 981, '510': 982, 'complaints': 983, 'glasses': 984, 'quiet': 985, 'saying': 986, 'packaged': 987, '6': 988, 'construction': 989, 'boy': 990, 'loads': 991, 'ease': 992, 'plan': 993, 'beware': 994, 'supposedly': 995, 'match': 996, 'pros': 997, 'flaw': 998, 'expectations': 999, 'display': 1000, 'sex': 1001, 'setup': 1002, 'earpieces': 1003, 'bt': 1004, 'earbud': 1005, 'coverage': 1006, 'tremendous': 1007, 'experienced': 1008, 'drops': 1009, 'description': 1010, 'hoping': 1011, 'sounds': 1012, 'sharp': 1013, 'chargers': 1014, 'handsfree': 1015, '13': 1016, 'bucks': 1017, 'replacement': 1018, 'strange': 1019, 'means': 1020, 'sony': 1021, 'comfort': 1022, 'aspect': 1023, 'appears': 1024, 'scary': 1025, 'drain': 1026, 'fry': 1027, 'giving': 1028, 'scratched': 1029, 'wise': 1030, 'microphone': 1031, 'uncomfortable': 1032, 'plugged': 1033, 'driving': 1034, 'neither': 1035, 'flip': 1036, 'inexpensive': 1037, 'sitting': 1038, 'los': 1039, 'angeles': 1040, 'wireless': 1041, 'save': 1042, 'help': 1043, 'era': 1044, 'breaks': 1045, 'effect': 1046, 'warning': 1047, 'alone': 1048, 'size': 1049, 'fi': 1050, 'wearing': 1051, 'sunglasses': 1052, 'returning': 1053, 'changing': 1054, 'worthwhile': 1055, 'pricing': 1056, 'regret': 1057, 'user': 1058, 'pitiful': 1059, 'noise': 1060, 'holster': 1061, 'eye': 1062, 'amazed': 1063, 'orders': 1064, 'thanks': 1065, 'edge': 1066, 'refund': 1067, 'drop': 1068, 'ones': 1069, 'properly': 1070, 'flawed': 1071, 'forced': 1072, 'speaker': 1073, 'constructed': 1074, 'holding': 1075, 'sprint': 1076, 'effort': 1077, 'breaking': 1078, 'stopped': 1079, 'pack': 1080, 'apart': 1081, 'surprised': 1082, 'fabulous': 1083, 'tinny': 1084, 'overly': 1085, 'placed': 1086, 'keeps': 1087, 'falling': 1088, 'tiny': 1089, 'four': 1090, 'spring': 1091, 'tries': 1092, 'interested': 1093, 'continue': 1094, 'pairing': 1095, 'balance': 1096, 'explain': 1097, 'biggest': 1098, 'stand': 1099, 'occupied': 1100, 'ripped': 1101, 'mini': 1102, 'iphone': 1103, 'multiple': 1104, 'outlet': 1105, 'freedom': 1106, 'mark': 1107, '100': 1108, 'plenty': 1109, 'convenient': 1110, 'date': 1111, 'bottom': 1112, 'wooden': 1113, 'boot': 1114, 'sorry': 1115, 'double': 1116, 'sounded': 1117, 'feet': 1118, 'everywhere': 1119, 'father': 1120, 'send': 1121, 'describe': 1122, 'letting': 1123, 'material': 1124, 'flaws': 1125, 'beep': 1126, 'managed': 1127, 'seat': 1128, 'otherwise': 1129, 'control': 1130, 'complain': 1131, 'lousy': 1132, 'painful': 1133, 'disappoint': 1134, 'speak': 1135, 'meaning': 1136, 'baby': 1137, 'delivers': 1138, 'sea': 1139, 'faux': 1140, 'significant': 1141, 'pure': 1142, 'brilliance': 1143, 'moment': 1144, 'talented': 1145, 'fare': 1146, 'hill': 1147, 'ed': 1148, 'ladies': 1149, 'grace': 1150, 'negative': 1151, 'cause': 1152, 'pointless': 1153, 'anne': 1154, 'children': 1155, 'parents': 1156, 'dialog': 1157, 'selections': 1158, 'gross': 1159, 'provoking': 1160, 'paced': 1161, 'lion': 1162, 'acted': 1163, 'checking': 1164, 'touching': 1165, 'scenery': 1166, 'paper': 1167, 'mature': 1168, 'episode': 1169, 'remake': 1170, 'nobody': 1171, 'putting': 1172, 'conflict': 1173, 'handled': 1174, 'hell': 1175, 'disaster': 1176, 'treat': 1177, 'yeah': 1178, 'girlfriend': 1179, 'stereotypes': 1180, 'cartoon': 1181, 'paul': 1182, 'women': 1183, 'brain': 1184, 'redeeming': 1185, 'appalling': 1186, 'presents': 1187, 'screenwriter': 1188, 'step': 1189, 'industry': 1190, 'indulgent': 1191, 'spent': 1192, 'daughter': 1193, 'singing': 1194, 'bore': 1195, 'dancing': 1196, 'dvd': 1197, 'struck': 1198, 'contained': 1199, 'theme': 1200, 'aerial': 1201, 'thrilled': 1202, 'deeply': 1203, 'interest': 1204, 'narrative': 1205, 'actress': 1206, 'spoilers': 1207, 'stunning': 1208, 'fx': 1209, 'surprisingly': 1210, 'released': 1211, 'ranks': 1212, 'journey': 1213, 'memories': 1214, 'summary': 1215, 'billy': 1216, 'possibly': 1217, 'trilogy': 1218, 'favourite': 1219, 'judge': 1220, 'wrap': 1221, 'leaves': 1222, 'reviewer': 1223, 'smart': 1224, 'bakery': 1225, 'stage': 1226, 'actresses': 1227, 'ways': 1228, 'modern': 1229, 'scared': 1230, 'supposed': 1231, 'learn': 1232, 'values': 1233, 'photography': 1234, 'huston': 1235, 'steve': 1236, 'ruthless': 1237, 'war': 1238, 'example': 1239, 'angel': 1240, 'clichés': 1241, 'thrown': 1242, 'nut': 1243, 'scale': 1244, 'glance': 1245, 'score': 1246, 'frightening': 1247, 'oscar': 1248, 'knew': 1249, 'stanwyck': 1250, 'fat': 1251, 'footage': 1252, 'opened': 1253, 'sort': 1254, 'behind': 1255, 'race': 1256, 'happen': 1257, 'unconvincing': 1258, 'produced': 1259, 'early': 1260, 'documentary': 1261, 'martin': 1262, 'racial': 1263, 'imaginative': 1264, 'credit': 1265, 'watchable': 1266, 'pace': 1267, 'lighting': 1268, 'past': 1269, 'excuse': 1270, 'nonsense': 1271, 'exquisite': 1272, 'south': 1273, 'lady': 1274, 'delightful': 1275, 'beautifully': 1276, 'wilkinson': 1277, 'laughable': 1278, 'begin': 1279, 'late': 1280, 'giallo': 1281, 'emotions': 1282, 'belly': 1283, 'spend': 1284, 'write': 1285, 'stinks': 1286, 'writer': 1287, 'suck': 1288, 'stayed': 1289, 'puppets': 1290, 'doubt': 1291, 'guys': 1292, 'hip': 1293, 'miyazaki': 1294, 'realized': 1295, 'animation': 1296, 'added': 1297, 'texture': 1298, 'recommendation': 1299, 'potatoes': 1300, 'brought': 1301, 'sashimi': 1302, 'moist': 1303, 'frozen': 1304, 'greek': 1305, 'dressing': 1306, 'pita': 1307, 'hummus': 1308, 'duck': 1309, 'salt': 1310, 'chewy': 1311, 'tip': 1312, 'cafe': 1313, 'ambience': 1314, 'busy': 1315, 'delish': 1316, 'melt': 1317, 'cheese': 1318, 'subway': 1319, 'restaurants': 1320, 'ate': 1321, 'stale': 1322, 'treated': 1323, 'vegetarian': 1324, 'healthy': 1325, 'decor': 1326, 'butter': 1327, 'egg': 1328, 'dog': 1329, 'insulted': 1330, 'brunch': 1331, 'soggy': 1332, 'lobster': 1333, 'flavorful': 1334, 'generous': 1335, 'patio': 1336, 'outstanding': 1337, 'pizzas': 1338, 'pulled': 1339, 'mom': 1340, 'equally': 1341, 'bathroom': 1342, 'door': 1343, 'stomach': 1344, 'beans': 1345, 'regular': 1346, '35': 1347, 'bill': 1348, 'meals': 1349, 'homemade': 1350, 'desserts': 1351, 'edible': 1352, 'seating': 1353, 'salsa': 1354, '45': 1355, 'major': 1356, 'dozen': 1357, 'extended': 1358, 'notice': 1359, 'tooth': 1360, 'unusable': 1361, 'contract': 1362, 'juice': 1363, 'regarding': 1364, 'pda': 1365, 'neat': 1366, 'gadget': 1367, 'e': 1368, 'essentially': 1369, 'microsoft': 1370, 'tech': 1371, 'elegant': 1372, 'angle': 1373, 'mp3': 1374, 'skip': 1375, 'lock': 1376, 'died': 1377, 'situations': 1378, 'docking': 1379, 'd807': 1380, 'advertised': 1381, 'handy': 1382, 'cheaper': 1383, 'seamlessly': 1384, 'buyer': 1385, 'apparently': 1386, 'relatively': 1387, 'resolution': 1388, 'slim': 1389, 'toast': 1390, 'sleek': 1391, 'compromise': 1392, 'basic': 1393, 'keypad': 1394, 'unhappy': 1395, 'winner': 1396, 'realize': 1397, 'careful': 1398, 'logitech': 1399, 'recognition': 1400, 'stated': 1401, 'blackberry': 1402, 'technology': 1403, 'wired': 1404, 'messages': 1405, 'faster': 1406, 'build': 1407, 'w810i': 1408, 'whine': 1409, 'maintain': 1410, 'humans': 1411, 'button': 1412, 'thank': 1413, 'igo': 1414, 'tips': 1415, 'connected': 1416, 'latest': 1417, 'storage': 1418, 'buzzing': 1419, 'override': 1420, 'functionality': 1421, 'ring': 1422, 'tone': 1423, 'dropping': 1424, 'weight': 1425, 'hardly': 1426, 'ends': 1427, 'consumer': 1428, 'background': 1429, 'usually': 1430, 'excited': 1431, 'additional': 1432, 'gels': 1433, 'purpose': 1434, 'secure': 1435, 'gosh': 1436, 'attractive': 1437, 'rubber': 1438, 'smell': 1439, 'unbearable': 1440, 'caused': 1441, 'flimsy': 1442, 'month': 1443, 'flawlessly': 1444, 'rotating': 1445, 'thru': 1446, 'cat': 1447, 'removing': 1448, 'compliments': 1449, 'state': 1450, 'allow': 1451, 'dialing': 1452, 'ipod': 1453, 'recharge': 1454, 'practically': 1455, 'add': 1456, 'boost': 1457, 'finished': 1458, 'ringing': 1459, 'auto': 1460, 'reverse': 1461, 'hurt': 1462, 'push': 1463, 'skype': 1464, 'shipped': 1465, 'promptly': 1466, 'prompt': 1467, 'noticed': 1468, 'colored': 1469, 'cheaply': 1470, 'att': 1471, 'distorted': 1472, 'forgot': 1473, 'model': 1474, 'finds': 1475, 'enter': 1476, 'modest': 1477, 'dying': 1478, 'built': 1479, 'install': 1480, 'purchasing': 1481, 'moto': 1482, 'figure': 1483, 'key': 1484, 'fully': 1485, 'memory': 1486, 'card': 1487, 'timely': 1488, 'update': 1489, 'cumbersome': 1490, 'delivery': 1491, 'switch': 1492, 'batteries': 1493, 'receiving': 1494, 'exchanged': 1495, 'cellphone': 1496, 'described': 1497, '11': 1498, 'nyc': 1499, 'defective': 1500, 'unacceptable': 1501, 'catching': 1502, 'function': 1503, 'timeframe': 1504, 'complaint': 1505, 'standard': 1506, 'ugly': 1507, 'improvement': 1508, 'accidentally': 1509, 'listening': 1510, 'kitchen': 1511, 'conversation': 1512, 'practical': 1513, 'ample': 1514, 'eargels': 1515, 'channel': 1516, 'numerous': 1517, 'frustration': 1518, 'understanding': 1519, 'wire': 1520, 'menus': 1521, 'broken': 1522, 'development': 1523, 'knows': 1524, 'operate': 1525, 'paired': 1526, 'normally': 1527, 'brand': 1528, 'players': 1529, 'comments': 1530, 'performed': 1531, 'echo': 1532, 'warranty': 1533, 'produce': 1534, 'luck': 1535, 'exchange': 1536, 'utter': 1537, 'download': 1538, 'designed': 1539, 'smoothly': 1540, 'study': 1541, 'access': 1542, 'somehow': 1543, 'flash': 1544, 'choices': 1545, 'tones': 1546, 'prime': 1547, 'jack': 1548, 'accept': 1549, 'except': 1550, 'allows': 1551, 'open': 1552, 'allowing': 1553, 'numbers': 1554, 'r': 1555, 'crashed': 1556, 'quit': 1557, 'via': 1558, 'span': 1559, 'signs': 1560, 'sizes': 1561, 'provides': 1562, 'classy': 1563, 'mainly': 1564, 'metro': 1565, 'smoke': 1566, 'carries': 1567, 'highest': 1568, 'protector': 1569, 'wont': 1570, 'impossible': 1571, 'refused': 1572, 'discount': 1573, 'talking': 1574, 'telephone': 1575, 'ordering': 1576, 'awkward': 1577, 'row': 1578, 'current': 1579, 'answer': 1580, 'read': 1581, 'laptop': 1582, 'sister': 1583, 'discomfort': 1584, 'normal': 1585, 'confusing': 1586, 'lose': 1587, 'cutouts': 1588, 'cuts': 1589, 'wild': 1590, 'carry': 1591, 'loose': 1592, 'receive': 1593, 'lightly': 1594, '2005': 1595, 'certain': 1596, 'unsatisfactory': 1597, 'hype': 1598, 'covered': 1599, 'falls': 1600, 'blew': 1601, 'touches': 1602, 'angles': 1603, 'became': 1604, 'jimmy': 1605, 'sisters': 1606, 'terms': 1607, 'masterpiece': 1608, 'masterpieces': 1609, 'fill': 1610, 'imaginable': 1611, 'pieces': 1612, 'create': 1613, 'levels': 1614, 'canada': 1615, 'sequel': 1616, 'unfunny': 1617, 'generic': 1618, 'morgan': 1619, 'jonah': 1620, 'lazy': 1621, 'presence': 1622, 'obvious': 1623, 'lesser': 1624, 'french': 1625, 'whiny': 1626, 'future': 1627, '9': 1628, 'warmth': 1629, 'delivering': 1630, 'unpredictable': 1631, 'badly': 1632, 'alexander': 1633, 'artist': 1634, 'lived': 1635, 'superbly': 1636, 'b': 1637, 'heaven': 1638, 'lives': 1639, 'church': 1640, 'tonight': 1641, 'uplifting': 1642, 'frankly': 1643, 'club': 1644, 'lane': 1645, 'chick': 1646, 'correct': 1647, 'bold': 1648, 'helps': 1649, 'idiot': 1650, 'accused': 1651, 'afraid': 1652, 'tremendously': 1653, 'sandra': 1654, 'bullock': 1655, 'moments': 1656, 'losing': 1657, 'ratings': 1658, 'dramatic': 1659, 'tension': 1660, 'central': 1661, 'themes': 1662, 'core': 1663, 'following': 1664, 'viewing': 1665, 'quinn': 1666, 'disliked': 1667, 'dollars': 1668, 'mad': 1669, 'cardboard': 1670, 'predictably': 1671, 'crafted': 1672, 'depressing': 1673, 'racism': 1674, 'charisma': 1675, 'explanation': 1676, 'drag': 1677, 'wayne': 1678, 'older': 1679, 'noteworthy': 1680, 'blood': 1681, 'forth': 1682, 'jamie': 1683, 'genius': 1684, 'hence': 1685, 'mishima': 1686, 'uninteresting': 1687, 'chilly': 1688, 'culture': 1689, 'schrader': 1690, 'realistic': 1691, 'talent': 1692, 'chance': 1693, 'senses': 1694, 'june': 1695, 'angry': 1696, 'sour': 1697, 'matter': 1698, 'noir': 1699, 'complex': 1700, 'psychological': 1701, 'soul': 1702, 'gripping': 1703, 'disturbing': 1704, 'jerky': 1705, 'camerawork': 1706, 'witty': 1707, 'ceases': 1708, 'directors': 1709, 'visually': 1710, 'spoiler': 1711, 'remaining': 1712, 'suffering': 1713, 'smile': 1714, 'vomited': 1715, 'coppola': 1716, '25': 1717, 'unfolds': 1718, 'contrast': 1719, 'sublime': 1720, 'offensive': 1721, 'poetry': 1722, 'masterful': 1723, 'nature': 1724, 'disbelief': 1725, 'female': 1726, 'array': 1727, 'nuts': 1728, 'dangerous': 1729, 'reactions': 1730, 'twist': 1731, 'shed': 1732, 'underneath': 1733, 'wide': 1734, 'relationship': 1735, 'assistant': 1736, 'laugh': 1737, 'de': 1738, 'taped': 1739, 'wholesome': 1740, 'portraying': 1741, 'taking': 1742, 'forgetting': 1743, 'attempts': 1744, 'situation': 1745, 'bear': 1746, 'kinda': 1747, 'question': 1748, 'lucy': 1749, 'japanese': 1750, 'america': 1751, 'composition': 1752, 'brian': 1753, 'largely': 1754, 'member': 1755, 'identify': 1756, 'connery': 1757, 'robert': 1758, 'murdered': 1759, 'humour': 1760, 'brother': 1761, 'ryan': 1762, 'hollywood': 1763, 'thus': 1764, 'undoubtedly': 1765, 'popular': 1766, 'positive': 1767, 'unique': 1768, 'european': 1769, 'circumstances': 1770, 'caught': 1771, 'junkyard': 1772, 'dogs': 1773, 'american': 1774, 'americans': 1775, 'pile': 1776, 'round': 1777, 'continuity': 1778, 'corn': 1779, 'box': 1780, 'directorial': 1781, 'proud': 1782, 'sand': 1783, 'sake': 1784, 'jobs': 1785, 'public': 1786, 'fox': 1787, 'unrecognizable': 1788, 'relations': 1789, 'taylor': 1790, 'surprising': 1791, 'entirely': 1792, 'chow': 1793, 'cheesy': 1794, 'proceedings': 1795, 'remotely': 1796, 'mercy': 1797, 'killing': 1798, 'overacting': 1799, 'awkwardly': 1800, 'english': 1801, 'hackneyed': 1802, 'blah': 1803, 'balanced': 1804, 'length': 1805, 'air': 1806, 'afternoon': 1807, 'creates': 1808, 'fascinating': 1809, 'humorous': 1810, 'filmed': 1811, 'thoughts': 1812, 'dislike': 1813, 'began': 1814, 'change': 1815, 'season': 1816, 'contains': 1817, '17': 1818, 'reality': 1819, '20th': 1820, 'century': 1821, 'implausible': 1822, 'jean': 1823, 'studio': 1824, 'indoor': 1825, 'start': 1826, 'middle': 1827, 'class': 1828, 'betty': 1829, 'aside': 1830, 'mouse': 1831, 'famous': 1832, 'ground': 1833, 'pleaser': 1834, 'turkey': 1835, 'among': 1836, '80': 1837, 'terribly': 1838, 'deserving': 1839, 'shame': 1840, 'version': 1841, 'dumb': 1842, 'zombie': 1843, 'monster': 1844, 'lack': 1845, 'notable': 1846, 'opening': 1847, 'sequence': 1848, 'gas': 1849, 'fair': 1850, 'teeth': 1851, 'sum': 1852, 'avoided': 1853, 'limited': 1854, 'sign': 1855, 'asleep': 1856, 'cartoons': 1857, 'deserved': 1858, 'element': 1859, 'sit': 1860, 'fifteen': 1861, 'volcano': 1862, 'abysmal': 1863, 'vomit': 1864, 'miss': 1865, 'dedication': 1866, 'versus': 1867, 'brings': 1868, 'focus': 1869, 'underlying': 1870, 'relationships': 1871, 'engaging': 1872, 'errol': 1873, 'flynn': 1874, 'dull': 1875, 'guests': 1876, 'surrounding': 1877, 'excellently': 1878, 'tops': 1879, 'typical': 1880, 'sci': 1881, 'revealing': 1882, 'africa': 1883, 'process': 1884, 'shakespear': 1885, 'macbeth': 1886, 'brief': 1887, 'moral': 1888, 'decay': 1889, 'forces': 1890, 'evil': 1891, 'adaptation': 1892, 'costumes': 1893, 'ball': 1894, 'judging': 1895, 'difference': 1896, 'documentaries': 1897, 'joe': 1898, 'watkins': 1899, 'peter': 1900, 'hollow': 1901, 'expert': 1902, 'ass': 1903, 'cole': 1904, 'disgrace': 1905, 'sleep': 1906, 'achievement': 1907, 'kid': 1908, 'tough': 1909, 'whenever': 1910, 'earth': 1911, 'emily': 1912, 'watson': 1913, 'prepared': 1914, 'compelling': 1915, 'sentiment': 1916, 'trap': 1917, 'fulci': 1918, 'genre': 1919, '70': 1920, 'personally': 1921, 'thick': 1922, 'blown': 1923, 'events': 1924, 'result': 1925, 'slightest': 1926, 'duet': 1927, 'astronaut': 1928, 'doctor': 1929, 'extraordinary': 1930, 'courtroom': 1931, 'highlights': 1932, 'discovering': 1933, 'court': 1934, 'understated': 1935, 'based': 1936, 'smells': 1937, 'male': 1938, 'phenomenal': 1939, 'opinion': 1940, 'neil': 1941, 'delights': 1942, 'sample': 1943, 'deliver': 1944, 'sharply': 1945, 'tongue': 1946, 'cheek': 1947, 'struggle': 1948, 'heads': 1949, 'reminded': 1950, 'childhood': 1951, 'lord': 1952, 'atrocious': 1953, 'spoil': 1954, 'references': 1955, 'act': 1956, 'pacing': 1957, 'consistent': 1958, 'dreams': 1959, 'uses': 1960, 'hopefully': 1961, 'loneliness': 1962, 'emilio': 1963, 'estevez': 1964, 'interplay': 1965, 'suggest': 1966, 'natural': 1967, 'street': 1968, 'readers': 1969, 'hearts': 1970, 'closed': 1971, 'depicts': 1972, 'reasons': 1973, 'ponyo': 1974, 'refreshing': 1975, 'traditional': 1976, 'wants': 1977, 'wave': 1978, 'deep': 1979, 'lange': 1980, 'crust': 1981, 'cashier': 1982, 'mmmm': 1983, 'overwhelmed': 1984, 'bite': 1985, 'familiar': 1986, 'favor': 1987, 'grossed': 1988, 'char': 1989, 'attitudes': 1990, 'customers': 1991, 'portion': 1992, 'attack': 1993, 'grill': 1994, 'downtown': 1995, 'scallop': 1996, 'refill': 1997, 'appetizers': 1998, 'batter': 1999, 'finish': 2000, 'meh': 2001, 'min': 2002, 'seasoned': 2003, 'opportunity': 2004, 'underwhelming': 2005, 'grease': 2006, 'roast': 2007, 'sugary': 2008, 'six': 2009, 'die': 2010, 'bye': 2011, 'serves': 2012, 'roasted': 2013, 'garlic': 2014, 'marrow': 2015, 'mary': 2016, 'bartender': 2017, 'lovers': 2018, 'preparing': 2019, 'indian': 2020, 'crispy': 2021, 'tuna': 2022, 'bagels': 2023, 'dine': 2024, 'rarely': 2025, 'curry': 2026, 'bathrooms': 2027, 'decorated': 2028, 'greeted': 2029, 'joint': 2030, 'overcooked': 2031, 'charcoal': 2032, 'decided': 2033, 'dirt': 2034, 'gyros': 2035, 'valley': 2036, 'bowl': 2037, 'disrespected': 2038, 'stepped': 2039, 'gold': 2040, 'puree': 2041, 'bug': 2042, 'shower': 2043, 'bisque': 2044, 'filet': 2045, 'pepper': 2046, 'cook': 2047, 'dealing': 2048, 'cheeseburger': 2049, 'yum': 2050, 'mayo': 2051, 'building': 2052, 'creamy': 2053, 'similar': 2054, 'sticks': 2055, 'tap': 2056, 'coffee': 2057, 'boba': 2058, 'taco': 2059, 'bachi': 2060, 'salads': 2061, 'neighborhood': 2062, 'soooo': 2063, 'stir': 2064, 'summer': 2065, 'toasted': 2066, 'serve': 2067, 'bites': 2068, 'omg': 2069, 'brick': 2070, 'oven': 2071, 'pancakes': 2072, 'eggs': 2073, 'evening': 2074, 'lukewarm': 2075, 'eggplant': 2076, 'stuffed': 2077, 'mall': 2078, 'perfection': 2079, 'impeccable': 2080, 'pop': 2081, 'assure': 2082, 'professional': 2083, 'nicest': 2084, 'biscuits': 2085, 'cow': 2086, 'driest': 2087, 'tots': 2088, 'acknowledged': 2089, 'margaritas': 2090, 'flower': 2091, 'group': 2092, 'crab': 2093, 'legs': 2094, 'sliced': 2095, 'filling': 2096, 'choose': 2097, 'entrees': 2098, 'tapas': 2099, 'vinegrette': 2100, 'helped': 2101, 'presentation': 2102, 'satisfying': 2103, 'grilled': 2104, 'focused': 2105, 'promise': 2106, 'legit': 2107, 'staying': 2108, 'fail': 2109, 'plate': 2110, 'serving': 2111, 'fly': 2112, 'mid': 2113, 'definately': 2114, 'flavorless': 2115, 'nachos': 2116, 'tribute': 2117, 'fell': 2118, 'services': 2119, 'heat': 2120, 'undercooked': 2121, 'converter': 2122, 'tied': 2123, 'jiggle': 2124, 'hundred': 2125, 'seperated': 2126, 'mere': 2127, 'ft': 2128, 'excessive': 2129, 'garbled': 2130, 'fooled': 2131, 'clicks': 2132, 'mechanism': 2133, 'followed': 2134, 'directions': 2135, 'kindle': 2136, 'commercials': 2137, 'misleading': 2138, 'couldnt': 2139, 'earphone': 2140, 'breakage': 2141, 'unacceptible': 2142, 'ideal': 2143, 'whose': 2144, 'sensitive': 2145, 'freeway': 2146, 'ac': 2147, 'highy': 2148, 'mins': 2149, '680': 2150, '2mp': 2151, 'pics': 2152, 'arguing': 2153, 'bulky': 2154, 'usable': 2155, 'useful': 2156, 'stream': 2157, 'submerged': 2158, 'faceplates': 2159, 'drawback': 2160, 'pause': 2161, 'activated': 2162, 'suddenly': 2163, 'ipods': 2164, 'bmw': 2165, 'hearing': 2166, 'wrongly': 2167, 'everyday': 2168, 'intended': 2169, 'runs': 2170, 'greater': 2171, 'buds': 2172, 'waaay': 2173, 'bluetooths': 2174, 'listener': 2175, 'integrated': 2176, 'flush': 2177, 'toilet': 2178, '375': 2179, 'styles': 2180, 'correctly': 2181, '350': 2182, 'jabra350': 2183, 'megapixels': 2184, 'renders': 2185, 'images': 2186, 'purcashed': 2187, 'geeky': 2188, 'oozes': 2189, 'embedded': 2190, 'stylish': 2191, 'qwerty': 2192, 'simpler': 2193, 'iam': 2194, 'disapoinment': 2195, 'accompanied': 2196, 'nicely': 2197, 'damage': 2198, 'definitly': 2199, 'majority': 2200, 'peachy': 2201, 'keen': 2202, 'upstairs': 2203, 'basement': 2204, 'reccomendation': 2205, 'relative': 2206, 'items': 2207, 'sudden': 2208, 'linking': 2209, '8530': 2210, 'curve': 2211, 'sketchy': 2212, 'web': 2213, 'browsing': 2214, 'significantly': 2215, 'unlike': 2216, 'colors': 2217, 'communications': 2218, 'communicate': 2219, 'monkeys': 2220, 'dna': 2221, 'copy': 2222, 'bougth': 2223, 'l7c': 2224, 'mode': 2225, 'file': 2226, 'browser': 2227, 'hs850': 2228, 'os': 2229, 'v1': 2230, '15g': 2231, 'crawl': 2232, 'recognizes': 2233, 'bluetoooth': 2234, 'thorn': 2235, 'abhor': 2236, 'disconnected': 2237, 'mail': 2238, 'backlight': 2239, 'message': 2240, 'lately': 2241, 'wit': 2242, 'pleather': 2243, 'deaf': 2244, 'prettier': 2245, 'investment': 2246, 'ticking': 2247, 'noises': 2248, 'electronics': 2249, 'available': 2250, 'fm': 2251, 'transmitters': 2252, 'h500': 2253, 'mega': 2254, 'pixel': 2255, 'good7': 2256, 'transmit': 2257, 'contacting': 2258, 'dollar': 2259, 'learned': 2260, 'lesson': 2261, 'online': 2262, 'earbugs': 2263, 'roam': 2264, 'crack': 2265, 'infatuated': 2266, 'freezes': 2267, 'frequently4': 2268, 'tick': 2269, 'headbands': 2270, 'ericsson': 2271, 'purchases': 2272, 'shine': 2273, 'calendar': 2274, 'sync': 2275, 'defeats': 2276, 'penny': 2277, 'wallet': 2278, 'excrutiatingly': 2279, 'glove': 2280, 'durable': 2281, 'factor': 2282, 'petroleum': 2283, 'stereo': 2284, 'absolutel': 2285, 'potentially': 2286, 'reversible': 2287, 'contstruct': 2288, 'hinge': 2289, 'installed': 2290, 'overnite': 2291, 'handset': 2292, 'attacked': 2293, 'protective': 2294, 'destroying': 2295, 'razor': 2296, 'v3i': 2297, 'shouldve': 2298, 'invented': 2299, 'sooner': 2300, 'engineered': 2301, 'complained': 2302, '2160': 2303, 'tracfone': 2304, 'instruction': 2305, 'manual': 2306, 'alarm': 2307, 'clock': 2308, 'antena': 2309, 'compared': 2310, 'usage': 2311, 'ngage': 2312, 'earbuds': 2313, 'riingtones': 2314, 'rip': 2315, 'frequentyly': 2316, 'adhesive': 2317, 'concrete': 2318, 'knock': 2319, 'wood': 2320, 'transformed': 2321, 'organizational': 2322, 'capability': 2323, 'vehicle': 2324, 'cradle': 2325, 'jerks': 2326, 'starter': 2327, 'loudspeaker': 2328, 'option': 2329, 'bumpers': 2330, 'lights': 2331, 'improve': 2332, 'leaks': 2333, 'according': 2334, 'applifies': 2335, 'specially': 2336, 'transmission': 2337, 's11': 2338, 'drivng': 2339, 'tape': 2340, 'embarassing': 2341, 'protects': 2342, 'operates': 2343, 'soyo': 2344, 'portraits': 2345, 'exterior': 2346, 'mentioned': 2347, 'gadgets': 2348, 'magical': 2349, 'comparably': 2350, 'offering': 2351, 'encourage': 2352, 'recieve': 2353, 'cradles': 2354, 'kits': 2355, 'excelent': 2356, 'cingulair': 2357, 'nicer': 2358, 'hoursthe': 2359, 'thereplacement': 2360, '2000': 2361, 'yell': 2362, 'iriver': 2363, 'spinn': 2364, 'fond': 2365, 'magnetic': 2366, 'strap': 2367, 'psyched': 2368, 'appointments': 2369, 'sanyo': 2370, 'survived': 2371, 'dozens': 2372, 'blacktop': 2373, 'ill': 2374, 'earphones': 2375, 'cellular': 2376, 'awsome': 2377, 'drained': 2378, 'earpad': 2379, 'displeased': 2380, 'defect': 2381, 'risk': 2382, 'restored': 2383, 'jx': 2384, 'searched': 2385, 'pad': 2386, 'lit': 2387, 'portable': 2388, 'colleague': 2389, 'bed': 2390, 'wi': 2391, 'morning': 2392, 'hat': 2393, 'shipment': 2394, 'surefire': 2395, 'gx2': 2396, 'bt50': 2397, 'buyers': 2398, 'remorse': 2399, 'accessoryone': 2400, 'inexcusable': 2401, 'carriers': 2402, 'tmobile': 2403, 'procedure': 2404, 'motorolas': 2405, 'vx9900': 2406, 'env': 2407, 'rocketed': 2408, 'destination': 2409, 'unknown': 2410, 'conditions': 2411, 'usefulness': 2412, 'bills': 2413, 'plans': 2414, 'overnight': 2415, 'respect': 2416, 'stuck': 2417, 'max': 2418, 'mute': 2419, 'hybrid': 2420, 'palmtop': 2421, 'excels': 2422, 'bt250v': 2423, 'bose': 2424, 'cancelling': 2425, 'commuter': 2426, 'photo': 2427, 'ad': 2428, 'noted': 2429, 'happens': 2430, 'frog': 2431, 'pushed': 2432, 'aluminum': 2433, 'vx': 2434, 'protected': 2435, 'handheld': 2436, 'tools': 2437, 'sturdiness': 2438, 'source': 2439, 'waterproof': 2440, 'sliding': 2441, 'pants': 2442, 'pockets': 2443, 'shield': 2444, 'incrediable': 2445, 'refuse': 2446, 'activate': 2447, 'gentle': 2448, 'threw': 2449, 'window': 2450, 'inches': 2451, 'counter': 2452, 'cracked': 2453, 'laughing': 2454, 'trunk': 2455, 'carried': 2456, 'hitch': 2457, 'directly': 2458, 'increase': 2459, 'shifting': 2460, 'bubbling': 2461, 'peeling': 2462, 'scratch': 2463, 'droid': 2464, 'exercise': 2465, 'earset': 2466, 'outgoing': 2467, 'package': 2468, 'patient': 2469, 'wirefly': 2470, 'contact': 2471, 'inform': 2472, 'practice': 2473, 'aggravating': 2474, 'virgin': 2475, 'muddy': 2476, 'casing': 2477, 'insert': 2478, 'glued': 2479, 'slid': 2480, 'plantronincs': 2481, 'continues': 2482, 'disapointing': 2483, 'fourth': 2484, 'fixes': 2485, 'accessing': 2486, 'downloading': 2487, 'performing': 2488, 'functions': 2489, 'constantly': 2490, 'happening': 2491, 'adapters': 2492, 'procedures': 2493, 'wiping': 2494, 'strength': 2495, 'louder': 2496, 'navigate': 2497, 'recessed': 2498, 'avoiding': 2499, 'smoking': 2500, 'linked': 2501, 'possesed': 2502, 'research': 2503, 'division': 2504, 'infuriating': 2505, 'walkman': 2506, 'charges': 2507, 'europe': 2508, 'asia': 2509, 'clipping': 2510, 'deffinitely': 2511, 'cent': 2512, 'behing': 2513, '5020': 2514, 'comfortible': 2515, '24': 2516, 'pain': 2517, 'arrival': 2518, 'fraction': 2519, 'crappy': 2520, 'e715': 2521, 'seeen': 2522, 'interface': 2523, 'decade': 2524, 'compete': 2525, 'designs': 2526, '700w': 2527, 'transceiver': 2528, 'steer': 2529, 'replacementr': 2530, 'pens': 2531, 'buyit': 2532, 'beats': 2533, 'fingers': 2534, 'steep': 2535, 'haul': 2536, 'dissapointing': 2537, 'originally': 2538, 'discarded': 2539, 'posted': 2540, 'detailed': 2541, 'grey': 2542, 'existing': 2543, 'cds': 2544, 'currently': 2545, 'shooters': 2546, 'delay': 2547, 'messes': 2548, 'bitpim': 2549, 'program': 2550, 'transfer': 2551, 'accessory': 2552, 'manufacturer': 2553, 'muffled': 2554, 'incoming': 2555, 'severe': 2556, 'resistant': 2557, 'contacted': 2558, 'receipt': 2559, 'linksys': 2560, 'refurb': 2561, 'snug': 2562, 'heavy': 2563, 'promised': 2564, 'loop': 2565, 'latch': 2566, 'visor': 2567, 'address': 2568, 'reboots': 2569, 'tungsten': 2570, 'e2': 2571, 'flipphones': 2572, 'sins': 2573, 'industrial': 2574, 'tracking': 2575, 'detachable': 2576, 'periodically': 2577, 'upload': 2578, 'locks': 2579, 'screens': 2580, 'randomly': 2581, 'locked': 2582, '325': 2583, 'worn': 2584, 'ringer': 2585, 'acceptable': 2586, 'upbeat': 2587, 'forgeries': 2588, 'abound': 2589, 'ca': 2590, '42': 2591, 'smallest': 2592, 'stays': 2593, 'drains': 2594, 'superfast': 2595, 'ergonomic': 2596, 'theory': 2597, 'clips': 2598, 'distracting': 2599, 'cbr': 2600, 'mp3s': 2601, 'preferably': 2602, 'windows': 2603, 'media': 2604, 'sos': 2605, 'signals': 2606, 'connect': 2607, 'near': 2608, 'startac': 2609, 'regretted': 2610, 'outperform': 2611, 'china': 2612, 'v325i': 2613, 'sim': 2614, '3o': 2615, 'replaced': 2616, '18': 2617, '4s': 2618, 'connecting': 2619, 'sources': 2620, 'imac': 2621, 'external': 2622, 'bells': 2623, 'whistles': 2624, 'slide': 2625, 'grip': 2626, 'prevents': 2627, 'slipping': 2628, 'exclaim': 2629, 'whoa': 2630, 'corded': 2631, 'functional': 2632, 'soft': 2633, 'tight': 2634, 'shape': 2635, 'copier': 2636, 'sent': 2637, 'anywhere': 2638, 'sold': 2639, 'units': 2640, 'krussel': 2641, 'tracfonewebsite': 2642, 'toactivate': 2643, 'texas': 2644, 'dit': 2645, '5320': 2646, 'blueant': 2647, 'supertooth': 2648, 'pcs': 2649, 'sch': 2650, 'r450': 2651, 'slider': 2652, 'premium': 2653, 'plugs': 2654, 'capacity': 2655, 'confortable': 2656, 'periods': 2657, 'ant': 2658, 'hey': 2659, 'pleasantly': 2660, 'suprised': 2661, 'dustpan': 2662, 'indoors': 2663, 'disposable': 2664, 'puff': 2665, 'ride': 2666, 'smoother': 2667, 'nano': 2668, 'dissapointed': 2669, 'reccommend': 2670, 'anti': 2671, 'glare': 2672, 'smartphone': 2673, 'atleast': 2674, 'amp': 2675, 'reoccure': 2676, 'somewhere': 2677, 'creaks': 2678, 'floor': 2679, 'apartment': 2680, 'inconspicuous': 2681, 'slowly': 2682, 'upgrade': 2683, 'securly': 2684, 'possibility': 2685, 'booking': 2686, 'entertainment': 2687, 'communication': 2688, 'activesync': 2689, 'optimal': 2690, 'synchronization': 2691, 'coupon': 2692, 'instance': 2693, 'ps3': 2694, 'cheapy': 2695, 'shouting': 2696, 'shiny': 2697, 'grtting': 2698, '44': 2699, 'v3c': 2700, 'exceeds': 2701, 'sight': 2702, 'improper': 2703, 'palms': 2704, 'hoped': 2705, 'v265': 2706, 'pads': 2707, 'stops': 2708, 'intermittently': 2709, 'reaching': 2710, 'keys': 2711, 'nightmare': 2712, 'speakerphone': 2713, 'cassette': 2714, 'cellphones': 2715, 'planning': 2716, 'products': 2717, 'sensor': 2718, 'reliability': 2719, 'beeping': 2720, 'dieing': 2721, 'ir': 2722, 'cancellation': 2723, 'counterfeit': 2724, 'travled': 2725, 'swivel': 2726, 'dual': 2727, '8125': 2728, 'keeping': 2729, 'bottowm': 2730, 'gimmick': 2731, 'opens': 2732, 'causing': 2733, 'trust': 2734, 'maintains': 2735, 'flawless': 2736, 'devices': 2737, 'holder': 2738, 'land': 2739, 'loops': 2740, 'owning': 2741, 'official': 2742, 'oem': 2743, 'loudest': 2744, 'competitors': 2745, 'saved': 2746, 'alot': 2747, 'unintelligible': 2748, 'restart': 2749, 'bend': 2750, 'leaf': 2751, 'metal': 2752, 'stress': 2753, 'leopard': 2754, 'print': 2755, 'saggy': 2756, 'floppy': 2757, 'looses': 2758, 'snap': 2759, '8525': 2760, 'fliptop': 2761, 'wobbly': 2762, 'eventually': 2763, 'fulfills': 2764, 'requirements': 2765, 'rests': 2766, 'websites': 2767, 'cables': 2768, 'lap': 2769, 'controls': 2770, 'accessable': 2771, 'mine': 2772, 'satisifed': 2773, 's710a': 2774, 'specs': 2775, 'armband': 2776, 'allot': 2777, 'clearer': 2778, 'keypads': 2779, 'reach': 2780, 'ericson': 2781, 'z500a': 2782, 'motor': 2783, 'center': 2784, 'voltage': 2785, 'humming': 2786, 'equipment': 2787, 'wake': 2788, 'styling': 2789, 'restocking': 2790, 'fee': 2791, 'darn': 2792, 'sweetest': 2793, 'securely': 2794, 'hook': 2795, 'canal': 2796, 'videos': 2797, 'negatively': 2798, 'adapter': 2799, 'provide': 2800, 'assumed': 2801, 'lense': 2802, 'text': 2803, 'messaging': 2804, 'tricky': 2805, 'lasted': 2806, 'flops': 2807, 'smudged': 2808, 'infra': 2809, 'port': 2810, 'irda': 2811, 'aimless': 2812, 'distressed': 2813, 'drifting': 2814, 'attempting': 2815, 'artiness': 2816, 'existent': 2817, 'gerardo': 2818, 'emptiness': 2819, 'science': 2820, 'teacher': 2821, 'owls': 2822, 'florida': 2823, 'muppets': 2824, 'overdue': 2825, 'screenplay': 2826, 'post': 2827, 'structure': 2828, 'tightly': 2829, 'vitally': 2830, 'occurs': 2831, 'content': 2832, 'superlative': 2833, 'require': 2834, 'puzzle': 2835, 'solving': 2836, 'pulls': 2837, 'punches': 2838, 'th': 2839, 'insane': 2840, 'unlockable': 2841, 'aye': 2842, 'doomed': 2843, 'conception': 2844, 'minor': 2845, 'confirm': 2846, 'exaggerating': 2847, 'trailer': 2848, 'carrell': 2849, 'co': 2850, 'freeman': 2851, 'helms': 2852, 'animals': 2853, 'integration': 2854, 'translate': 2855, 'succeeds': 2856, 'meagre': 2857, 'cancan': 2858, 'boasts': 2859, 'cutest': 2860, 'leading': 2861, 'heels': 2862, 'insipid': 2863, 'efforts': 2864, 'heche': 2865, 'sam': 2866, 'shepard': 2867, 'gung': 2868, 'ho': 2869, 'marine': 2870, 'sobering': 2871, 'riveted': 2872, 'resounding': 2873, 'hanks': 2874, 'fingernails': 2875, 'chalkboard': 2876, 'unnecessary': 2877, 'train': 2878, 'roller': 2879, 'coaster': 2880, 'grates': 2881, 'nerves': 2882, 'improved': 2883, 'improvisation': 2884, 'worry': 2885, 'surroundings': 2886, 'crackles': 2887, 'youthful': 2888, 'concentrate': 2889, 'meanders': 2890, 'builders': 2891, 'cross': 2892, 'g': 2893, 'cliche': 2894, 'predict': 2895, 'verbatim': 2896, 'chills': 2897, 'nevsky': 2898, 'whoever': 2899, 'planned': 2900, 'dodge': 2901, 'stratus': 2902, 'makers': 2903, 'restrained': 2904, 'québec': 2905, 'promote': 2906, 'suited': 2907, 'horrendous': 2908, 'retarded': 2909, 'girls': 2910, 'manna': 2911, 'evaluate': 2912, 'veteran': 2913, 'nostalgia': 2914, 'ursula': 2915, 'burton': 2916, 'nun': 2917, 'nuns': 2918, 'shirley': 2919, 'jones': 2920, 'rendition': 2921, 'cotton': 2922, 'unfaithful': 2923, 'gere': 2924, 'dialogs': 2925, 'shallow': 2926, 'insincere': 2927, 'politically': 2928, 'savant': 2929, 'peaking': 2930, 'columbo': 2931, 'neighbour': 2932, 'misplace': 2933, 'weaker': 2934, 'debated': 2935, 'sack': 2936, 'trumpeter': 2937, 'falsely': 2938, 'murder': 2939, 'applause': 2940, 'prelude': 2941, 'villain': 2942, 'michael': 2943, 'ironside': 2944, 'rocked': 2945, 'social': 2946, 'physical': 2947, 'outlets': 2948, 'ben': 2949, 'affleck': 2950, 'leaving': 2951, 'knocked': 2952, 'excruciatingly': 2953, 'wedding': 2954, 'agreed': 2955, 'aired': 2956, 'dribble': 2957, 'imdb': 2958, 'mirrormask': 2959, 'inexperience': 2960, 'meant': 2961, 'ineptly': 2962, 'stereotypically': 2963, 'schoolers': 2964, 'cry': 2965, 'relate': 2966, 'sharing': 2967, 'confuses': 2968, 'underwater': 2969, 'repeated': 2970, 'thousand': 2971, 'redeemed': 2972, 'mst3k': 2973, 'fodder': 2974, 'anthony': 2975, 'horse': 2976, 'walk': 2977, 'theatre': 2978, 'relief': 2979, 'pillow': 2980, 'tickets': 2981, 'identifies': 2982, 'haggis': 2983, 'handle': 2984, 'strokes': 2985, 'storytelling': 2986, 'painted': 2987, 'crayons': 2988, 'crash': 2989, 'provokes': 2990, 'emotion': 2991, 'teaches': 2992, 'prejudice': 2993, 'empowerment': 2994, 'shut': 2995, 'primal': 2996, 'impulse': 2997, 'preservation': 2998, 'shattered': 2999, 'recover': 3000, 'joins': 3001, 'revenge': 3002, 'boogeyman': 3003, 'zombiez': 3004, 'hellish': 3005, 'trinity': 3006, 'distinction': 3007, 'artless': 3008, 'endlessly': 3009, 'ugliest': 3010, 'merit': 3011, 'akin': 3012, 'atrocity': 3013, 'voyage': 3014, 'discovery': 3015, 'unrecommended': 3016, 'ms': 3017, 'garbo': 3018, 'bat': 3019, 'talents': 3020, 'netflix': 3021, 'stocking': 3022, 'renowned': 3023, 'frances': 3024, 'marion': 3025, 'suffered': 3026, 'heroes': 3027, 'shined': 3028, 'senior': 3029, 'showcasing': 3030, 'punched': 3031, 'gallon': 3032, 'spew': 3033, 'foxx': 3034, 'owns': 3035, 'spacek': 3036, 'coal': 3037, 'miner': 3038, 'quaid': 3039, 'balls': 3040, 'legendary': 3041, 'biographical': 3042, 'musician': 3043, 'ironically': 3044, 'secondly': 3045, 'perfected': 3046, 'chase': 3047, 'pandering': 3048, 'sabotages': 3049, 'rumbles': 3050, 'desperately': 3051, 'depending': 3052, 'logic': 3053, 'unremarkable': 3054, 'author': 3055, 'abstruse': 3056, 'reenactments': 3057, 'emotionally': 3058, 'adrift': 3059, 'stagy': 3060, 'sits': 3061, 'soldiers': 3062, 'masculinity': 3063, 'pledge': 3064, 'hairsplitting': 3065, 'purity': 3066, 'admiration': 3067, 'swords': 3068, 'kill': 3069, 'momentum': 3070, 'quicker': 3071, 'resume': 3072, 'amateurish': 3073, '80s': 3074, 'fascinated': 3075, 'inconsistencies': 3076, 'horrid': 3077, 'ballet': 3078, 'repertory': 3079, 'developments': 3080, 'woa': 3081, 'sappiest': 3082, 'unwatchable': 3083, 'filmography': 3084, 'site': 3085, 'intentions': 3086, 'undertone': 3087, 'fifties': 3088, 'existential': 3089, 'weariness': 3090, 'ought': 3091, 'regrettably': 3092, 'expression': 3093, 'celebration': 3094, 'patriotism': 3095, 'underlines': 3096, 'allison': 3097, 'concert': 3098, 'sequences': 3099, 'ridiculousness': 3100, 'surface': 3101, 'conceptually': 3102, 'everybody': 3103, 'fantasy': 3104, 'considered': 3105, 'understood': 3106, 'identified': 3107, 'crime': 3108, 'belmondo': 3109, 'lino': 3110, 'ventura': 3111, 'portrayals': 3112, 'detailing': 3113, 'loyalty': 3114, 'treachery': 3115, 'melville': 3116, 'manages': 3117, 'transcend': 3118, 'limitations': 3119, 'indie': 3120, 'continually': 3121, 'subverting': 3122, 'emerge': 3123, 'intense': 3124, 'crocdodile': 3125, 'believed': 3126, 'crocs': 3127, 'swamp': 3128, 'christopher': 3129, 'eccleston': 3130, 'tardis': 3131, 'continuation': 3132, 'succeeded': 3133, 'pi': 3134, 'witticisms': 3135, 'bob': 3136, 'rise': 3137, 'finale': 3138, 'kieslowski': 3139, 'amaze': 3140, 'colours': 3141, 'flag': 3142, 'connections': 3143, 'survivors': 3144, 'ferry': 3145, 'valentine': 3146, 'solidifying': 3147, 'happiness': 3148, 'dealt': 3149, 'roth': 3150, 'pearls': 3151, 'awarded': 3152, 'eloquently': 3153, 'francis': 3154, 'ford': 3155, 'gradually': 3156, 'develop': 3157, 'lies': 3158, 'nicola': 3159, 'roeg': 3160, 'wih': 3161, 'translating': 3162, 'strives': 3163, 'greatness': 3164, 'muddled': 3165, 'disparate': 3166, 'accurately': 3167, 'defined': 3168, 'tolerate': 3169, 'political': 3170, 'incorrectness': 3171, 'artistic': 3172, 'suspension': 3173, 'slavic': 3174, 'outlandish': 3175, 'psychotic': 3176, 'lovable': 3177, 'enjoyment': 3178, 'repair': 3179, 'bitchy': 3180, 'boss': 3181, 'tear': 3182, 'malta': 3183, 'settings': 3184, 'barren': 3185, 'hockey': 3186, 'defensemen': 3187, 'goalies': 3188, 'diving': 3189, 'net': 3190, 'superficial': 3191, 'stagey': 3192, 'farce': 3193, 'pyromaniac': 3194, 'waylaid': 3195, 'switched': 3196, 'yawn': 3197, 'educational': 3198, 'barney': 3199, 'duper': 3200, 'babie': 3201, 'bop': 3202, 'storm': 3203, 'trooper': 3204, 'potted': 3205, 'plants': 3206, 'shameful': 3207, 'television': 3208, 'writers': 3209, 'smack': 3210, 'bonus': 3211, 'episodes': 3212, 'latched': 3213, 'endearing': 3214, 'sibling': 3215, 'bond': 3216, 'unneeded': 3217, 'controversy': 3218, 'damian': 3219, 'versatile': 3220, 'cutting': 3221, 'passion': 3222, 'ireland': 3223, 'horrified': 3224, 'sympathetic': 3225, 'movements': 3226, 'shelf': 3227, 'elias': 3228, 'koteas': 3229, 'palance': 3230, 'angelina': 3231, 'naked': 3232, 'cameo': 3233, 'sven': 3234, 'ole': 3235, 'thorsen': 3236, 'ebay': 3237, 'poler': 3238, 'fort': 3239, 'steele': 3240, 'unrealistic': 3241, '70000': 3242, 'bell': 3243, 'higher': 3244, 'sink': 3245, 'slackers': 3246, 'excuses': 3247, 'actions': 3248, 'excerpts': 3249, 'stylized': 3250, 'exemplars': 3251, 'designer': 3252, 'powerful': 3253, 'explorations': 3254, 'politics': 3255, 'rendering': 3256, 'imperial': 3257, 'faultless': 3258, 'underappreciated': 3259, 'keith': 3260, 'bully': 3261, 'teddy': 3262, 'vivid': 3263, 'sean': 3264, 'noble': 3265, 'brigand': 3266, 'candace': 3267, 'bergen': 3268, 'feisty': 3269, 'heroine': 3270, 'wily': 3271, 'hay': 3272, 'kanaly': 3273, 'spiffy': 3274, 'radiant': 3275, 'lieutenant': 3276, 'roosevelt': 3277, 'stick': 3278, 'adventure': 3279, 'ryans': 3280, 'portrayed': 3281, 'schizophrenic': 3282, 'affected': 3283, 'apt': 3284, 'imitation': 3285, 'individual': 3286, 'fashioned': 3287, 'tuneful': 3288, 'rita': 3289, 'hayworth': 3290, 'pedestal': 3291, 'exploit': 3292, 'financial': 3293, 'gain': 3294, 'linear': 3295, 'narration': 3296, 'flashbacks': 3297, 'articulated': 3298, 'monica': 3299, 'bellucci': 3300, 'commentary': 3301, 'timers': 3302, 'laughs': 3303, 'northern': 3304, 'community': 3305, 'represents': 3306, 'vivian': 3307, 'schilling': 3308, '95': 3309, 'theatres': 3310, 'screamy': 3311, 'masculine': 3312, 'casted': 3313, 'throwback': 3314, 'student': 3315, '1980': 3316, 'experiences': 3317, 'abroad': 3318, 'interacting': 3319, 'nationalities': 3320, 'slightly': 3321, 'ticker': 3322, 'buildings': 3323, 'locations': 3324, 'hummh': 3325, 'yelps': 3326, 'hes': 3327, 'funniest': 3328, 'curtain': 3329, 'ive': 3330, 'edition': 3331, 'lid': 3332, 'romantic': 3333, 'laughed': 3334, 'chosen': 3335, 'tortured': 3336, 'blatant': 3337, 'propaganda': 3338, 'hatred': 3339, 'admitted': 3340, 'school': 3341, 'admins': 3342, 'thunderbirds': 3343, 'motion': 3344, 'needlessly': 3345, 'repeats': 3346, 'backed': 3347, 'vehicles': 3348, 'flakes': 3349, 'bordered': 3350, 'stupidity': 3351, 'filmmaker': 3352, 'hide': 3353, 'monumental': 3354, 'halfway': 3355, 'embarrassed': 3356, 'howell': 3357, 'bag': 3358, 'stephen': 3359, 'mchattie': 3360, 'lance': 3361, 'hendrikson': 3362, 'raging': 3363, 'cheekbones': 3364, 'professionals': 3365, 'debbie': 3366, 'rochon': 3367, 'contributory': 3368, 'former': 3369, 'chimp': 3370, 'tolerable': 3371, 'oy': 3372, 'vey': 3373, 'simplifying': 3374, 'brevity': 3375, 'fulfilling': 3376, 'amusing': 3377, 'convoluted': 3378, 'convince': 3379, 'questioning': 3380, 'bela': 3381, 'lugosi': 3382, 'extraneous': 3383, 'intoning': 3384, 'decidely': 3385, 'universal': 3386, 'armand': 3387, 'assante': 3388, 'tying': 3389, 'comprehensible': 3390, 'hang': 3391, 'camp': 3392, 'expecting': 3393, 'iq': 3394, 'mollusk': 3395, 'loosely': 3396, 'string': 3397, 'lower': 3398, 'scripts': 3399, 'victor': 3400, 'mclaglen': 3401, 'donlevy': 3402, 'president': 3403, 'u': 3404, 'unmoving': 3405, 'producer': 3406, 'gifted': 3407, 'cheerless': 3408, 'heist': 3409, 'characterisation': 3410, 'underbite': 3411, 'stoic': 3412, 'emoting': 3413, 'yun': 3414, 'tomorrow': 3415, 'abandoned': 3416, 'factory': 3417, 'executed': 3418, 'flying': 3419, 'judo': 3420, 'la': 3421, 'woo': 3422, 'squibs': 3423, 'derivative': 3424, 'hopeless': 3425, 'uneasy': 3426, 'composed': 3427, 'elderly': 3428, 'babbling': 3429, 'overwrought': 3430, 'pseudo': 3431, 'satanic': 3432, 'gibberish': 3433, 'corny': 3434, 'teen': 3435, 'goth': 3436, 'blush': 3437, 'olde': 3438, 'latin': 3439, 'sloppy': 3440, 'underacting': 3441, 'competent': 3442, 'jerry': 3443, 'falwell': 3444, 'starring': 3445, 'jaclyn': 3446, 'smith': 3447, 'lifetime': 3448, 'sells': 3449, 'assaulted': 3450, 'strident': 3451, 'cords': 3452, 'blare': 3453, 'pap': 3454, 'screened': 3455, 'punish': 3456, 'unemployed': 3457, 'understatement': 3458, 'universe': 3459, 'team': 3460, 'trond': 3461, 'fausa': 3462, 'aurvåg': 3463, 'bothersome': 3464, 'comment': 3465, '2006': 3466, 'move': 3467, 'initially': 3468, 'local': 3469, 'sites': 3470, 'buffalo': 3471, 'intrigued': 3472, 'applauded': 3473, 'lilt': 3474, 'duris': 3475, 'views': 3476, 'barcelona': 3477, 'famed': 3478, 'gaudi': 3479, 'towers': 3480, 'despised': 3481, 'rough': 3482, 'draft': 3483, 'shooting': 3484, 'completed': 3485, 'personalities': 3486, 'twists': 3487, 'occur': 3488, 'irritating': 3489, 'indescribably': 3490, 'idiotic': 3491, 'cheesiness': 3492, 'unethical': 3493, 'nc': 3494, 'zillion': 3495, 'washing': 3496, 'twirling': 3497, 'grade': 3498, 'z': 3499, 'road': 3500, '1948': 3501, 'silly': 3502, 'unmitigated': 3503, 'blandly': 3504, 'edward': 3505, 'chodorov': 3506, 'negulesco': 3507, 'widmark': 3508, 'unintentionally': 3509, 'comical': 3510, 'marbles': 3511, 'marred': 3512, 'constant': 3513, 'exteriors': 3514, 'prompted': 3515, 'aged': 3516, 'upper': 3517, 'uptight': 3518, 'mistakes': 3519, 'jokes': 3520, 'offend': 3521, 'littered': 3522, 'overt': 3523, 'slurs': 3524, 'members': 3525, 'whites': 3526, 'depicted': 3527, 'morons': 3528, 'boobs': 3529, 'lets': 3530, 'destroy': 3531, 'latifa': 3532, 'wouldnt': 3533, 'steamboat': 3534, 'willie': 3535, 'amazingly': 3536, 'plane': 3537, 'tons': 3538, 'granted': 3539, '1928': 3540, 'timeless': 3541, 'straw': 3542, 'cruel': 3543, 'bipolarity': 3544, 'thug': 3545, 'luv': 3546, 'diaper': 3547, 'commercial': 3548, 'awards': 3549, 'accolades': 3550, 'body': 3551, '1947': 3552, 'garfield': 3553, 'ann': 3554, 'revere': 3555, 'lilli': 3556, 'plmer': 3557, 'william': 3558, 'conrad': 3559, 'lee': 3560, 'cinematographers': 3561, 'wong': 3562, 'howe': 3563, 'qualities': 3564, 'thomerson': 3565, '1986': 3566, 'professor': 3567, 'established': 3568, 'students': 3569, 'necklace': 3570, 'containing': 3571, 'meteorite': 3572, 'matthews': 3573, 'wrote': 3574, '1995': 3575, 'grim': 3576, 'aspects': 3577, 'gore': 3578, 'convention': 3579, 'cg': 3580, 'slideshow': 3581, 'explosion': 3582, 'tanks': 3583, 'okay': 3584, 'critic': 3585, 'creature': 3586, 'ta': 3587, 'slimy': 3588, 'drooling': 3589, 'breeders': 3590, 'ebola': 3591, 'virus': 3592, 'comedic': 3593, 'timing': 3594, 'debits': 3595, 'popcorn': 3596, 'borders': 3597, 'lewis': 3598, 'considerable': 3599, 'incendiary': 3600, 'unrestrained': 3601, 'sole': 3602, 'bright': 3603, 'superbad': 3604, 'interim': 3605, 'originality': 3606, 'freshness': 3607, 'offer': 3608, 'evidently': 3609, 'reflected': 3610, 'borrowed': 3611, 'filmiing': 3612, 'expansive': 3613, 'convey': 3614, 'broad': 3615, 'sweep': 3616, 'landscapes': 3617, 'trashy': 3618, 'precisely': 3619, 'proudly': 3620, 'classical': 3621, 'wb': 3622, 'toons': 3623, 'delivered': 3624, 'underrated': 3625, 'murky': 3626, 'related': 3627, 'sitcoms': 3628, 'oriented': 3629, 'teenagers': 3630, 'peculiarity': 3631, 'excessively': 3632, 'phony': 3633, 'contrived': 3634, 'um': 3635, 'perabo': 3636, 'foolish': 3637, 'accents': 3638, 'hypocrisy': 3639, 'rubbish': 3640, 'researched': 3641, 'pitch': 3642, 'omit': 3643, 'instant': 3644, 'catchy': 3645, 'credits': 3646, 'simmering': 3647, 'boiling': 3648, 'warts': 3649, 'poet': 3650, 'bohemian': 3651, 'wartime': 3652, 'bombardments': 3653, 'london': 3654, 'outward': 3655, 'tranquillity': 3656, 'welsh': 3657, 'coastal': 3658, 'retreat': 3659, 'borderlines': 3660, 'friendship': 3661, 'lust': 3662, 'concerns': 3663, 'jealousy': 3664, 'rivalry': 3665, 'cowardice': 3666, 'egotism': 3667, 'heroism': 3668, 'sacrifice': 3669, 'suggests': 3670, 'tensions': 3671, 'inappropriate': 3672, 'smiling': 3673, 'keira': 3674, 'knightley': 3675, 'prone': 3676, 'inventive': 3677, 'pointillistic': 3678, 'behold': 3679, 'continuously': 3680, 'bertolucci': 3681, 'sidelined': 3682, 'inexplicable': 3683, 'crew': 3684, 'regardless': 3685, 'custer': 3686, 'alongside': 3687, 'olivia': 3688, 'havilland': 3689, 'dads': 3690, 'grew': 3691, 'realised': 3692, 'jim': 3693, 'connor': 3694, 'energetic': 3695, 'george': 3696, 'hosting': 3697, 'overs': 3698, 'monotonous': 3699, 'shenanigans': 3700, 'spy': 3701, 'kidnapped': 3702, 'foreign': 3703, 'random': 3704, 'taxidermists': 3705, 'stewart': 3706, 'hero': 3707, 'rips': 3708, 'climax': 3709, 'embassy': 3710, 'brooding': 3711, 'menace': 3712, 'nevertheless': 3713, 'stable': 3714, 'producers': 3715, 'scot': 3716, 'vandiver': 3717, 'nonetheless': 3718, 'campy': 3719, 'bendingly': 3720, 'scares': 3721, 'medical': 3722, 'terminology': 3723, 'iffy': 3724, 'insulin': 3725, 'dependant': 3726, 'diabetic': 3727, 'complexity': 3728, 'task': 3729, 'challenges': 3730, 'facing': 3731, 'attempted': 3732, 'truth': 3733, 'reconciliation': 3734, 'magnificent': 3735, 'woven': 3736, 'splendid': 3737, 'view': 3738, 'subtitles': 3739, 'aversion': 3740, 'therapy': 3741, 'jason': 3742, 'moved': 3743, 'tears': 3744, 'monolog': 3745, 'candle': 3746, 'sphere': 3747, 'helen': 3748, 'baxendale': 3749, 'credible': 3750, 'cheerfull': 3751, 'naughty': 3752, 'deadly': 3753, 'shakespears': 3754, 'lyrics': 3755, 'dr': 3756, 'seuss': 3757, 'brilliantly': 3758, 'animated': 3759, 'upa': 3760, 'finest': 3761, 'academy': 3762, 'award': 3763, 'integral': 3764, 'helping': 3765, 'bailey': 3766, 'eiko': 3767, 'ishioka': 3768, 'dracula': 3769, '1971': 3770, 'format': 3771, 'baaaaaad': 3772, 'collect': 3773, 'extant': 3774, 'austen': 3775, 'consolations': 3776, 'speaking': 3777, 'unbearably': 3778, 'kitchy': 3779, 'raw': 3780, 'sublimely': 3781, 'theatrical': 3782, 'terror': 3783, 'lie': 3784, 'escalating': 3785, 'monstrous': 3786, 'consequences': 3787, 'mesmerising': 3788, 'fumbling': 3789, 'hankies': 3790, 'faces': 3791, 'males': 3792, 'females': 3793, 'alike': 3794, 'julian': 3795, 'fellowes': 3796, 'triumphed': 3797, 'national': 3798, 'treasure': 3799, 'phrase': 3800, 'owed': 3801, 'kris': 3802, 'kristoffersen': 3803, 'marriage': 3804, 'errors': 3805, 'commented': 3806, 'cars': 3807, 'garage': 3808, 'facial': 3809, 'configuration': 3810, 'inspiration': 3811, 'overcome': 3812, 'rejection': 3813, 'punishment': 3814, 'park': 3815, 'southern': 3816, 'california': 3817, 'desert': 3818, 'patent': 3819, 'accessible': 3820, 'miserable': 3821, 'angela': 3822, 'bennett': 3823, 'pretext': 3824, 'repeating': 3825, 'robotic': 3826, 'moves': 3827, 'delete': 3828, 'uncalled': 3829, 'geek': 3830, 'bible': 3831, 'thumper': 3832, 'pulling': 3833, 'equivalent': 3834, 'dickens': 3835, 'carol': 3836, 'sensibility': 3837, 'success': 3838, 'depends': 3839, 'sydney': 3840, 'greenstreet': 3841, 'yardley': 3842, 'pleasing': 3843, 'rpg': 3844, 'respecting': 3845, 'rpger': 3846, 'youtube': 3847, 'lassie': 3848, 'painfully': 3849, 'dreary': 3850, 'waster': 3851, 'becomes': 3852, 'forgettable': 3853, 'shell': 3854, 'barking': 3855, 'transfers': 3856, 'relaxing': 3857, 'title': 3858, 'handles': 3859, 'dignity': 3860, 'shocking': 3861, 'memorized': 3862, 'fishnet': 3863, 'stockings': 3864, 'astonishingly': 3865, 'ham': 3866, 'fisted': 3867, 'irons': 3868, 'unconditional': 3869, 'ordeal': 3870, 'progresses': 3871, 'anguish': 3872, 'pans': 3873, 'reviewers': 3874, 'interview': 3875, 'vampire': 3876, 'lestat': 3877, 'stuart': 3878, 'townsend': 3879, 'cruise': 3880, 'aailiyah': 3881, 'akasha': 3882, 'entrance': 3883, 'sensitivities': 3884, 'treatments': 3885, 'details': 3886, 'dysfunction': 3887, 'football': 3888, 'perplexing': 3889, 'skilled': 3890, 'meredith': 3891, 'maker': 3892, 'worthy': 3893, 'syrupy': 3894, 'nine': 3895, 'goremeister': 3896, 'lucio': 3897, 'thrillers': 3898, 'standout': 3899, 'unpleasant': 3900, 'technically': 3901, 'riz': 3902, 'ortolani': 3903, 'recurring': 3904, 'unaccompanied': 3905, 'vocal': 3906, 'distant': 3907, 'dustin': 3908, 'hoffman': 3909, 'involving': 3910, 'issue': 3911, 'tired': 3912, 'ps': 3913, 'jennifer': 3914, 'rubin': 3915, 'harris': 3916, 'changes': 3917, 'nervous': 3918, 'starlet': 3919, 'coach': 3920, 'snow': 3921, 'ultra': 3922, 'exciting': 3923, 'uniqueness': 3924, 'foreigner': 3925, '1973': 3926, 'stranger': 3927, 'considers': 3928, 'ussr': 3929, 'scream': 3930, 'scare': 3931, 'indictment': 3932, 'justice': 3933, 'system': 3934, 'fundamental': 3935, 'legal': 3936, 'guilt': 3937, 'innocence': 3938, 'routine': 3939, 'constantine': 3940, 'intensity': 3941, 'motivations': 3942, 'inspiring': 3943, 'stinker': 3944, 'direct': 3945, 'release': 3946, 'trek': 3947, 'v': 3948, 'frontier': 3949, 'includes': 3950, 'shatner': 3951, 'nimoy': 3952, 'washed': 3953, 'tacky': 3954, 'spock': 3955, 'rescue': 3956, 'kirk': 3957, 'jet': 3958, 'mountain': 3959, 'humor': 3960, 'dosen': 3961, 'involves': 3962, 'vulcan': 3963, 'stealing': 3964, 'enterprise': 3965, 'uhura': 3966, 'distract': 3967, 'guards': 3968, 'subjects': 3969, 'jay': 3970, 'adams': 3971, 'unfortunate': 3972, 'subject': 3973, 'evokes': 3974, '70s': 3975, 'grainy': 3976, 'enhanced': 3977, 'surprises': 3978, 'achille': 3979, 'philippa': 3980, 'sing': 3981, 'giovanni': 3982, 'describes': 3983, 'layers': 3984, '18th': 3985, 'jutland': 3986, 'instruments': 3987, 'general': 3988, 'loewenhielm': 3989, 'partaking': 3990, 'cailles': 3991, 'en': 3992, 'sarcophage': 3993, 'savor': 3994, 'impression': 3995, 'generates': 3996, 'austere': 3997, 'backdrop': 3998, 'wanting': 3999, 'notch': 4000, 'fleshed': 4001, 'grimes': 4002, 'blake': 4003, 'scripted': 4004, 'deadpan': 4005, 'angus': 4006, 'scrimm': 4007, 'gently': 4008, 'menacing': 4009, 'violin': 4010, 'anatomist': 4011, 'entertained': 4012, 'phantasm': 4013, '1949': 4014, 'collective': 4015, 'concerning': 4016, 'kudos': 4017, 'juano': 4018, 'hernandez': 4019, 'supporting': 4020, 'murdering': 4021, 'trumbull': 4022, 'evinced': 4023, 'faithful': 4024, 'joyce': 4025, 'acclaimed': 4026, 'novella': 4027, 'feelings': 4028, 'gabriel': 4029, 'intangibles': 4030, 'leap': 4031, 'viewer': 4032, 'grasp': 4033, 'wondered': 4034, 'shortlist': 4035, 'emperor': 4036, 'surely': 4037, 'coherent': 4038, 'force': 4039, 'obliged': 4040, 'creative': 4041, 'subplots': 4042, 'native': 4043, 'brainsucking': 4044, 'telly': 4045, 'savalas': 4046, 'boyle': 4047, '54': 4048, 'sheer': 4049, 'tedium': 4050, 'melodrama': 4051, 'sinking': 4052, 'decisions': 4053, 'establish': 4054, 'follows': 4055, 'band': 4056, 'latter': 4057, 'mansonites': 4058, 'reporter': 4059, 'anniversary': 4060, 'killings': 4061, 'indication': 4062, 'meld': 4063, 'volatile': 4064, 'temperaments': 4065, 'seamless': 4066, 'union': 4067, 'creativity': 4068, 'powerhouse': 4069, 'fascination': 4070, 'celebrity': 4071, 'interpretations': 4072, 'fame': 4073, 'forgotten': 4074, 'kevin': 4075, 'spacey': 4076, 'verbal': 4077, 'tsunami': 4078, 'buddy': 4079, 'ackerman': 4080, 'scripting': 4081, 'unmatched': 4082, 'ages': 4083, 'younger': 4084, 'galley': 4085, 'pm': 4086, '8pm': 4087, '15pm': 4088, 'forwarded': 4089, 'horrendously': 4090, 'captain': 4091, 'howdy': 4092, 'semi': 4093, 'truck': 4094, 'linda': 4095, 'cardellini': 4096, 'poised': 4097, 'dee': 4098, 'snider': 4099, 'villains': 4100, 'sophisticated': 4101, 'miserably': 4102, 'unoriginal': 4103, 'cinematic': 4104, 'captured': 4105, 'celluloid': 4106, 'supernatural': 4107, 'thread': 4108, 'leni': 4109, 'parker': 4110, 'anita': 4111, 'laselva': 4112, 'taelons': 4113, 'idealogical': 4114, 'centers': 4115, 'puppet': 4116, 'flicks': 4117, 'explains': 4118, 'sinister': 4119, 'origins': 4120, 'f': 4121, 'x': 4122, 'insomniacs': 4123, 'heartwarming': 4124, 'chasing': 4125, 'nurse': 4126, 'unpredictability': 4127, 'labute': 4128, 'brutal': 4129, 'violence': 4130, 'seperate': 4131, 'secondary': 4132, 'incomprehensible': 4133, 'relation': 4134, 'primary': 4135, 'mystifying': 4136, 'shelves': 4137, 'warn': 4138, 'dumbest': 4139, 'hbo': 4140, 'cox': 4141, 'win': 4142, 'agree': 4143, 'jessica': 4144, 'dimensional': 4145, 'elaborately': 4146, 'aesthetically': 4147, 'sculpture': 4148, 'soap': 4149, 'operas': 4150, 'pray': 4151, 'charismatic': 4152, 'paolo': 4153, 'sorrentino': 4154, 'tony': 4155, 'unforgettable': 4156, 'titta': 4157, 'di': 4158, 'girolamo': 4159, 'vision': 4160, 'debut': 4161, 'charlie': 4162, 'kathy': 4163, 'bates': 4164, 'desperation': 4165, 'escapism': 4166, 'variation': 4167, 'fields': 4168, 'condescends': 4169, 'arts': 4170, 'daughters': 4171, 'paint': 4172, 'photograph': 4173, 'poignant': 4174, 'alert': 4175, 'decipher': 4176, 'meanings': 4177, 'matrix': 4178, 'sequels': 4179, 'mindblowing': 4180, 'dream': 4181, 'rickman': 4182, 'stowe': 4183, 'hilt': 4184, 'childrens': 4185, 'subversive': 4186, 'tract': 4187, 'gloriously': 4188, 'accurate': 4189, 'raver': 4190, 'idyllic': 4191, 'downs': 4192, 'groove': 4193, 'antithesis': 4194, 'traffic': 4195, 'crowe': 4196, 'picked': 4197, 'government': 4198, 'scientist': 4199, 'argued': 4200, 'humanity': 4201, 'dwight': 4202, 'schultz': 4203, 'sincere': 4204, 'critical': 4205, 'gorman': 4206, 'bechard': 4207, 'homework': 4208, 'appropriate': 4209, 'captures': 4210, 'essence': 4211, 'track': 4212, 'commands': 4213, 'contributing': 4214, 'threshold': 4215, 'hayao': 4216, 'eighth': 4217, 'ghibili': 4218, 'gake': 4219, 'ue': 4220, 'cliff': 4221, 'dominated': 4222, 'disney': 4223, 'pixar': 4224, 'cgi': 4225, 'comforting': 4226, 'relying': 4227, 'drawn': 4228, 'enchanting': 4229, 'remarkable': 4230, 'crayon': 4231, 'pencil': 4232, 'drawings': 4233, 'colorful': 4234, 'fanciful': 4235, 'drift': 4236, 'surf': 4237, '1998': 4238, 'impact': 4239, 'armageddon': 4240, 'choked': 4241, 'vessel': 4242, 'taken': 4243, 'mighty': 4244, 'frost': 4245, 'bonuses': 4246, 'fest': 4247, 'spoiled': 4248, 'brat': 4249, 'babysitting': 4250, 'sundays': 4251, 'march': 4252, 'judith': 4253, 'cutie': 4254, 'confidence': 4255, 'riot': 4256, 'hugo': 4257, 'weaving': 4258, 'obsessed': 4259, 'gay': 4260, 'estate': 4261, 'salesman': 4262, 'clients': 4263, 'houses': 4264, 'trysts': 4265, 'flaming': 4266, 'darren': 4267, 'hollander': 4268, 'flowed': 4269, 'bonding': 4270, 'hoot': 4271, 'n': 4272, 'jessice': 4273, 'clothes': 4274, 'virtue': 4275, 'regrettable': 4276, 'exceptionally': 4277, 'bank': 4278, 'holiday': 4279, 'rick': 4280, 'honeslty': 4281, 'ahead': 4282, 'warmer': 4283, 'wayyy': 4284, 'cape': 4285, 'cod': 4286, 'ravoli': 4287, 'cranberry': 4288, 'disgusted': 4289, 'shocked': 4290, 'indicate': 4291, 'cash': 4292, 'burrittos': 4293, 'interior': 4294, 'velvet': 4295, 'cake': 4296, 'ohhh': 4297, 'hole': 4298, 'luke': 4299, 'sever': 4300, 'combos': 4301, '23': 4302, 'blow': 4303, 'accident': 4304, 'grab': 4305, 'pub': 4306, 'hiro': 4307, 'melted': 4308, 'styrofoam': 4309, 'pucks': 4310, 'disgust': 4311, 'register': 4312, 'rib': 4313, 'section': 4314, 'firehouse': 4315, 'pink': 4316, 'mein': 4317, 'lined': 4318, 'strings': 4319, 'banana': 4320, 'petrified': 4321, 'receives': 4322, 'cocktails': 4323, 'handmade': 4324, 'military': 4325, 'dos': 4326, 'gringos': 4327, 'tastings': 4328, 'jeff': 4329, 'milkshake': 4330, 'chocolate': 4331, 'milk': 4332, 'excalibur': 4333, 'common': 4334, 'cheated': 4335, 'experiencing': 4336, 'parties': 4337, 'smelled': 4338, 'pan': 4339, 'cakes': 4340, 'raving': 4341, 'tailored': 4342, 'palate': 4343, 'ratio': 4344, 'tenders': 4345, 'unsatisfying': 4346, 'omelets': 4347, 'sexy': 4348, 'outrageously': 4349, 'flirting': 4350, 'hottest': 4351, 'rock': 4352, 'casino': 4353, 'forward': 4354, 'bone': 4355, 'bloddy': 4356, 'mussels': 4357, 'reduction': 4358, 'buffets': 4359, 'tigerlilly': 4360, 'personable': 4361, 'sooooo': 4362, 'yama': 4363, '40min': 4364, 'arriving': 4365, 'actual': 4366, 'blandest': 4367, 'cuisine': 4368, 'worries': 4369, 'loving': 4370, 'venture': 4371, 'host': 4372, 'bitches': 4373, 'liking': 4374, 'reviewing': 4375, 'venturing': 4376, 'penne': 4377, 'vodka': 4378, 'meatloaf': 4379, 'lox': 4380, 'capers': 4381, 'meet': 4382, 'weekend': 4383, 'suggestions': 4384, 'bamboo': 4385, 'shoots': 4386, 'blanket': 4387, 'moz': 4388, 'subpar': 4389, 'ignore': 4390, 'fiancé': 4391, 'mandalay': 4392, 'forty': 4393, 'vain': 4394, 'crostini': 4395, 'nigiri': 4396, 'flavored': 4397, 'voodoo': 4398, 'gluten': 4399, 'leftover': 4400, 'relocated': 4401, 'diverse': 4402, 'hella': 4403, 'salty': 4404, 'spinach': 4405, 'avocado': 4406, 'ingredients': 4407, 'handed': 4408, 'listed': 4409, 'waitresses': 4410, 'lordy': 4411, 'khao': 4412, 'soi': 4413, 'accommodations': 4414, 'inspired': 4415, 'desired': 4416, 'maintaining': 4417, 'coziness': 4418, 'weekly': 4419, 'haunt': 4420, 'asking': 4421, 'verge': 4422, 'dressed': 4423, 'rudely': 4424, 'hits': 4425, 'quantity': 4426, 'lemon': 4427, 'raspberry': 4428, 'cocktail': 4429, 'imagined': 4430, 'crepe': 4431, 'bits': 4432, 'missing': 4433, 'joey': 4434, 'voted': 4435, 'magazine': 4436, 'fridays': 4437, 'blows': 4438, 'exceeding': 4439, 'dreamed': 4440, 'serivce': 4441, 'inviting': 4442, '1979': 4443, 'foot': 4444, 'mixed': 4445, 'mushrooms': 4446, 'yukon': 4447, 'beateous': 4448, 'climbing': 4449, 'tartar': 4450, 'jamaican': 4451, 'mojitos': 4452, 'rich': 4453, 'accordingly': 4454, 'rinse': 4455, 'nude': 4456, 'bussell': 4457, 'sprouts': 4458, 'risotto': 4459, 'bodes': 4460, 'wrapped': 4461, 'dates': 4462, 'otto': 4463, 'welcome': 4464, 'mains': 4465, 'uninspired': 4466, 'drunk': 4467, 'patty': 4468, 'uploaded': 4469, 'sporting': 4470, 'walls': 4471, 'descriptions': 4472, 'eel': 4473, 'sauces': 4474, 'hardest': 4475, 'rolled': 4476, 'providing': 4477, 'flavourful': 4478, 'freezing': 4479, 'ayce': 4480, 'mood': 4481, 'gratitude': 4482, 'privileged': 4483, 'silently': 4484, 'peanut': 4485, 'godfathers': 4486, 'recall': 4487, 'visited': 4488, 'proclaimed': 4489, 'wildly': 4490, 'veggitarian': 4491, 'platter': 4492, 'madison': 4493, 'ironman': 4494, 'chefs': 4495, 'dedicated': 4496, 'spots': 4497, 'jenni': 4498, 'goat': 4499, 'skimp': 4500, 'mac': 4501, 'burned': 4502, 'saganaki': 4503, 'disagree': 4504, 'fellow': 4505, 'yelpers': 4506, 'noodles': 4507, 'chip': 4508, 'count': 4509, 'greedy': 4510, 'corporation': 4511, 'dime': 4512, 'outdoor': 4513, 'muffin': 4514, 'untoasted': 4515, 'bus': 4516, 'figured': 4517, 'publicly': 4518, 'loudly': 4519, 'bbq': 4520, 'lighter': 4521, 'downside': 4522, 'shawarrrrrrma': 4523, 'eyed': 4524, 'peas': 4525, 'unreal': 4526, 'vinaigrette': 4527, '00': 4528, 'honor': 4529, 'hut': 4530, 'coupons': 4531, 'unbelievably': 4532, 'covers': 4533, 'replenished': 4534, 'yucky': 4535, 'delicioso': 4536, 'spaghetti': 4537, 'tucson': 4538, 'chipotle': 4539, 'succulent': 4540, 'baseball': 4541, 'app': 4542, 'genuinely': 4543, 'enthusiastic': 4544, 'sadly': 4545, 'gordon': 4546, 'ramsey': 4547, 'shall': 4548, 'offered': 4549, 'handling': 4550, 'rowdy': 4551, 'despicable': 4552, 'craving': 4553, 'ache': 4554, 'elegantly': 4555, 'customize': 4556, 'bean': 4557, 'outta': 4558, 'inconsiderate': 4559, 'hi': 4560, 'dinners': 4561, 'outshining': 4562, 'halibut': 4563, 'starving': 4564, 'def': 4565, 'ethic': 4566, 'andddd': 4567, 'located': 4568, 'crystals': 4569, 'shopping': 4570, 'aria': 4571, 'summarize': 4572, 'nay': 4573, 'transcendant': 4574, 'pneumatic': 4575, 'condiment': 4576, 'dispenser': 4577, 'ians': 4578, 'kiddos': 4579, 'bouchon': 4580, 'accountant': 4581, 'screwed': 4582, 'reminds': 4583, 'shops': 4584, 'san': 4585, 'francisco': 4586, 'buldogis': 4587, 'gourmet': 4588, 'frustrated': 4589, 'petty': 4590, 'iced': 4591, 'hungry': 4592, 'sore': 4593, 'companions': 4594, 'smeared': 4595, 'tracked': 4596, 'bird': 4597, 'poop': 4598, 'furthermore': 4599, 'operation': 4600, 'connisseur': 4601, 'topic': 4602, 'jerk': 4603, 'strike': 4604, 'rushed': 4605, 'across': 4606, 'appetizer': 4607, 'absolutley': 4608, '5lb': 4609, '4ths': 4610, 'gristle': 4611, 'steiners': 4612, 'fs': 4613, 'pears': 4614, 'almonds': 4615, 'spicier': 4616, 'prefer': 4617, 'ribeye': 4618, 'mesquite': 4619, 'gooodd': 4620, 'connoisseur': 4621, 'mouthful': 4622, 'relaxed': 4623, 'venue': 4624, 'couples': 4625, 'groups': 4626, 'nargile': 4627, 'tater': 4628, 'southwest': 4629, 'vanilla': 4630, 'smooth': 4631, 'profiterole': 4632, 'choux': 4633, 'pastry': 4634, 'az': 4635, 'carly': 4636, 'ventilation': 4637, 'upgrading': 4638, 'letdown': 4639, 'camelback': 4640, 'shop': 4641, 'cartel': 4642, 'trimmed': 4643, 'claimed': 4644, 'jewel': 4645, 'las': 4646, 'boiled': 4647, 'toro': 4648, 'tartare': 4649, 'cavier': 4650, 'thinly': 4651, 'wagyu': 4652, 'truffle': 4653, 'attached': 4654, 'decide': 4655, 'humiliated': 4656, 'worker': 4657, 'name': 4658, 'callings': 4659, 'daily': 4660, 'specials': 4661, 'tragedy': 4662, 'pancake': 4663, 'crawfish': 4664, 'multi': 4665, 'grain': 4666, 'pumpkin': 4667, 'pecan': 4668, 'fluffy': 4669, 'airline': 4670, 'noca': 4671, 'gyro': 4672, 'lettuce': 4673, 'pastas': 4674, 'cheesecurds': 4675, 'finger': 4676, 'beauty': 4677, 'greasy': 4678, 'unhealthy': 4679, 'similarly': 4680, 'apology': 4681, 'tiramisu': 4682, 'cannoli': 4683, 'sun': 4684, 'meats': 4685, 'frenchman': 4686, 'martini': 4687, 'gc': 4688, 'thirty': 4689, 'vacant': 4690, 'yellowtail': 4691, 'carpaccio': 4692, 'strangers': 4693, 'hello': 4694, 'donut': 4695, 'saving': 4696, 'disgraceful': 4697, 'suffers': 4698, 'greens': 4699, 'hankering': 4700, 'theft': 4701, 'eew': 4702, 'overhaul': 4703, 'witnessed': 4704, 'regularly': 4705, 'swung': 4706, 'efficient': 4707, 'sucker': 4708, 'olives': 4709, 'perpared': 4710, 'giant': 4711, 'slices': 4712, 'dusted': 4713, 'powdered': 4714, 'sugar': 4715, 'fo': 4716, 'accomodate': 4717, 'vegan': 4718, 'veggie': 4719, 'crumby': 4720, 'pale': 4721, 'croutons': 4722, 'trips': 4723, 'crema': 4724, 'café': 4725, 'expanded': 4726, 'philadelphia': 4727, 'north': 4728, 'scottsdale': 4729, 'soooooo': 4730, 'freaking': 4731, 'papers': 4732, 'reheated': 4733, 'wedges': 4734, 'absolute': 4735, 'bloody': 4736, 'businesses': 4737, 'yellow': 4738, 'saffron': 4739, 'seasoning': 4740, 'grandmother': 4741, 'ignored': 4742, 'hostess': 4743, 'boys': 4744, 'shirt': 4745, 'drastically': 4746, 'caesar': 4747, 'madhouse': 4748, 'proven': 4749, 'moods': 4750, 'macarons': 4751, 'insanely': 4752, 'informative': 4753, 'plater': 4754, 'relax': 4755, 'screams': 4756, 'somethat': 4757, 'duo': 4758, 'violinists': 4759, 'requested': 4760, 'baklava': 4761, 'falafels': 4762, 'baba': 4763, 'ganoush': 4764, 'mgm': 4765, 'courteous': 4766, 'eclectic': 4767, 'onion': 4768, 'rings': 4769, 'nobu': 4770, 'google': 4771, 'smashburger': 4772, 'lover': 4773, 'plantains': 4774, 'spends': 4775, 'panna': 4776, 'cotta': 4777, 'flavors': 4778, 'slaw': 4779, 'drenched': 4780, 'piano': 4781, 'rge': 4782, 'fillet': 4783, 'relleno': 4784, 'sergeant': 4785, 'auju': 4786, 'hawaiian': 4787, 'breeze': 4788, 'mango': 4789, 'magic': 4790, 'pineapple': 4791, 'smoothies': 4792, 'mortified': 4793, 'anyways': 4794, 'dripping': 4795, '2007': 4796, 'hospitality': 4797, 'paradise': 4798, 'refrained': 4799, 'recommending': 4800, 'cibo': 4801, 'mouths': 4802, 'bellies': 4803, 'dough': 4804, 'elk': 4805, 'hooked': 4806, 'classics': 4807, 'sorely': 4808, 'quaint': 4809, 'deliciously': 4810, 'dylan': 4811, 'tummy': 4812, 'gratuity': 4813, 'larger': 4814, 'apple': 4815, 'han': 4816, 'nan': 4817, 'edinburgh': 4818, 'revisiting': 4819, 'naan': 4820, 'pine': 4821, 'touched': 4822, 'airport': 4823, 'speedy': 4824, 'calligraphy': 4825, 'stood': 4826, 'guest': 4827, 'extensive': 4828, 'inflate': 4829, 'smaller': 4830, 'grow': 4831, 'rapidly': 4832, 'lil': 4833, 'fuzzy': 4834, 'wontons': 4835, 'spice': 4836, 'whelm': 4837, '30s': 4838, 'arepas': 4839, 'jalapeno': 4840, 'shoe': 4841, 'block': 4842, 'fancy': 4843, 'affordable': 4844, 'soups': 4845, 'sunday': 4846, 'hunan': 4847, 'flair': 4848, 'bartenders': 4849, 'nutshell': 4850, 'restaraunt': 4851, 'sewer': 4852, 'veal': 4853, 'satifying': 4854, 'join': 4855, 'email': 4856, 'colder': 4857, 'describing': 4858, 'tepid': 4859, 'chains': 4860, 'crowds': 4861, 'juries': 4862, 'lawyers': 4863, 'arrives': 4864, 'paying': 4865, '85': 4866, 'wienerschnitzel': 4867, 'maine': 4868, 'roll': 4869, 'law': 4870, 'hereas': 4871, 'event': 4872, 'held': 4873, 'pissd': 4874, 'surprise': 4875, 'golden': 4876, 'hopes': 4877, 'bruschetta': 4878, 'devine': 4879, 'employee': 4880, 'lastly': 4881, 'mozzarella': 4882, 'negligent': 4883, 'unwelcome': 4884, 'packed': 4885, 'seasonal': 4886, 'fruit': 4887, 'peach': 4888, 'officially': 4889, 'containers': 4890, 'opposed': 4891, 'cramming': 4892, 'takeout': 4893, 'boxes': 4894, 'crêpe': 4895, 'delicate': 4896, 'kabuki': 4897, 'maria': 4898, 'article': 4899, 'spices': 4900, 'fucking': 4901, 'caballero': 4902, 'oysters': 4903, 'qualified': 4904, 'foods': 4905, 'tolerance': 4906, 'polite': 4907, 'wash': 4908, 'biscuit': 4909, 'coconut': 4910, 'fella': 4911, 'huevos': 4912, 'rancheros': 4913, 'wines': 4914, 'pricey': 4915, 'temp': 4916, 'prepare': 4917, 'bare': 4918, 'gloves': 4919, 'oil': 4920, 'pleasure': 4921, 'plethora': 4922, 'sandwiches': 4923, 'seal': 4924, 'approval': 4925, 'college': 4926, 'cooking': 4927, 'besides': 4928, 'costco': 4929, 'highlighted': 4930, 'grocery': 4931, 'dude': 4932, 'doughy': 4933, 'inch': 4934, 'albondigas': 4935, 'tomato': 4936, 'meatballs': 4937, 'occasions': 4938, 'medium': 4939, 'bloodiest': 4940, 'anymore': 4941, 'chai': 4942, 'latte': 4943, 'allergy': 4944, 'warnings': 4945, 'clue': 4946, 'contain': 4947, 'peanuts': 4948, 'mediterranean': 4949, 'beers': 4950, 'highlight': 4951, 'concern': 4952, 'mellow': 4953, 'mushroom': 4954, 'strawberry': 4955, 'unprofessional': 4956, 'loyal': 4957, 'patron': 4958, 'occasional': 4959, 'pats': 4960, 'bellagio': 4961, 'anticipated': 4962, 'sals': 4963, 'fav': 4964, 'unexperienced': 4965, 'employees': 4966, 'chickens': 4967, 'steakhouse': 4968, 'concept': 4969, 'guacamole': 4970, 'puréed': 4971, 'postinos': 4972, 'poisoning': 4973, 'batch': 4974, 'yay': 4975, 'eve': 4976, 'caring': 4977, 'teamwork': 4978, 'degree': 4979, 'ri': 4980, 'calamari': 4981, 'fondue': 4982, 'denny': 4983, 'downright': 4984, 'waaaaaayyyyyyyyyy': 4985, 'sangria': 4986, 'glass': 4987, 'brisket': 4988, 'trippy': 4989, 'hurry': 4990, 'reservation': 4991, 'stretch': 4992, 'cashew': 4993, 'chipolte': 4994, 'ranch': 4995, 'dipping': 4996, 'sause': 4997, 'watered': 4998, 'workers': 4999, 'douchey': 5000, 'garden': 5001, 'con': 5002, 'spotty': 5003, 'ensued': 5004, 'apologize': 5005, 'binge': 5006, 'drinking': 5007, 'carbs': 5008, 'insults': 5009, 'profound': 5010, 'deuchebaggery': 5011, 'solidify': 5012, 'combo': 5013, 'ala': 5014, 'cart': 5015, 'blame': 5016, 'rave': 5017, 'del': 5018, 'hamburger': 5019, 'ya': 5020, 'fireball': 5021, 'disapppointment': 5022, 'correction': 5023, 'heimer': 5024, 'brownish': 5025, 'ha': 5026, 'flop': 5027, '99': 5028, 'bigger': 5029, 'unwrapped': 5030, 'mile': 5031, 'brushfire': 5032, 'mirage': 5033, 'refried': 5034, 'dried': 5035, 'crusty': 5036, 'caterpillar': 5037, 'appetite': 5038, 'instantly': 5039, 'ninja': 5040, 'poured': 5041, 'wound': 5042, 'drawing': 5043}\n"
     ]
    }
   ],
   "source": [
    "#corroborating encoded review above\n",
    "print(tokenizer.word_index)"
   ]
  },
  {
   "cell_type": "code",
   "execution_count": 30,
   "id": "ff164634-9494-46db-91d6-f87b82724f3e",
   "metadata": {},
   "outputs": [
    {
     "name": "stdout",
     "output_type": "stream",
     "text": [
      "(2748, 4)\n",
      "Index(['review', 'sentiment', 'Lemmed_words', 'Lemmed_chars'], dtype='object')\n",
      "                                                                               review  \\\n",
      "0  so there is no way for me to plug it in here in the us unless i go by a converter    \n",
      "1                                                         good case  excellent value    \n",
      "2                                                              great for the jawbone    \n",
      "3      tied to charger for conversations lasting more than 45 minutes major problems    \n",
      "4                                                                   the mic is great    \n",
      "\n",
      "   sentiment  Lemmed_words  Lemmed_chars  \n",
      "0          0            21            82  \n",
      "1          1             4            27  \n",
      "2          1             4            22  \n",
      "3          0            12            78  \n",
      "4          1             4            17  \n"
     ]
    }
   ],
   "source": [
    "print(df.shape)\n",
    "print(df.columns)\n",
    "print(df.head())"
   ]
  },
  {
   "cell_type": "markdown",
   "id": "c4399ba0-c699-4edc-9aed-b4a325bfdda8",
   "metadata": {},
   "source": [
    "#### __B3. Padding process__ <a name=\"pad\"></a>\n",
    "Padding is a necessary step before sectioning data for the model, as it makes the encoded sequences all the same length of items with zeroes in an absence of information. Tensorflow.keras.preprocessing pad_sequences carries out this function. The max length is 200, which is about 3 times greater than the mean of all reviews. Padding is completed post, with all zeroes occurring after encoded values. The result is a dataframe containing all encoded information, with every record being the same length of 200 items."
   ]
  },
  {
   "cell_type": "code",
   "execution_count": 32,
   "id": "ae771bc7-2023-4a4c-822c-abbd88b26421",
   "metadata": {},
   "outputs": [
    {
     "name": "stdout",
     "output_type": "stream",
     "text": [
      "The original length is 2748\n",
      "The padded shape is (2748, 200)\n"
     ]
    }
   ],
   "source": [
    "padded_sequence = pad_sequences(encoded_docs, maxlen=200, padding = 'post')\n",
    "#2748 records as before, where all records are 200 in length\n",
    "print(f'The original length is {len(encoded_docs)}')\n",
    "print(f'The padded shape is {padded_sequence.shape}')"
   ]
  },
  {
   "cell_type": "code",
   "execution_count": 33,
   "id": "ed1e8595-fdb0-468f-b0e8-4a9b76e5f3a9",
   "metadata": {},
   "outputs": [
    {
     "name": "stdout",
     "output_type": "stream",
     "text": [
      "['way', 'plug', 'us', 'unless', 'go', 'converter']\n",
      "[44, 263, 96, 459, 24, 2122]\n"
     ]
    }
   ],
   "source": [
    "#cleaned record versus its encoded cognate\n",
    "print(x[0])\n",
    "print(encoded_docs[0])"
   ]
  },
  {
   "cell_type": "code",
   "execution_count": 34,
   "id": "36e657cb-28ef-41c2-a3fa-81588aad1ae1",
   "metadata": {},
   "outputs": [
    {
     "name": "stdout",
     "output_type": "stream",
     "text": [
      "[  44  263   96  459   24 2122    0    0    0    0    0    0    0    0\n",
      "    0    0    0    0    0    0    0    0    0    0    0    0    0    0\n",
      "    0    0    0    0    0    0    0    0    0    0    0    0    0    0\n",
      "    0    0    0    0    0    0    0    0    0    0    0    0    0    0\n",
      "    0    0    0    0    0    0    0    0    0    0    0    0    0    0\n",
      "    0    0    0    0    0    0    0    0    0    0    0    0    0    0\n",
      "    0    0    0    0    0    0    0    0    0    0    0    0    0    0\n",
      "    0    0    0    0    0    0    0    0    0    0    0    0    0    0\n",
      "    0    0    0    0    0    0    0    0    0    0    0    0    0    0\n",
      "    0    0    0    0    0    0    0    0    0    0    0    0    0    0\n",
      "    0    0    0    0    0    0    0    0    0    0    0    0    0    0\n",
      "    0    0    0    0    0    0    0    0    0    0    0    0    0    0\n",
      "    0    0    0    0    0    0    0    0    0    0    0    0    0    0\n",
      "    0    0    0    0    0    0    0    0    0    0    0    0    0    0\n",
      "    0    0    0    0]\n"
     ]
    }
   ],
   "source": [
    "#the same encoded record with post-padding\n",
    "print(padded_sequence[0])"
   ]
  },
  {
   "cell_type": "markdown",
   "id": "2bbbd745-de40-4bec-8d8e-b78529456e20",
   "metadata": {},
   "source": [
    "#### __B4. Categories of sentiment__ <a name=\"cat\"></a>\n",
    "There are 2 categories of sentiment -- positive and negative -- necessitating the creation of a binary classification model. This makes the dense layer at the end of the model have a 'sigmoid' activation type.\n",
    "\n",
    "Below is the process of factorizing the sentiment column, which is useful for predictions later on."
   ]
  },
  {
   "cell_type": "code",
   "execution_count": 36,
   "id": "324a0417-6aaf-4e20-ab1d-395181d7388d",
   "metadata": {},
   "outputs": [],
   "source": [
    "df['sentiment_label'] = df['sentiment']\n",
    "dict_sentiment = {\"sentiment_label\": {0: 'Negative',1: 'Positive'}}"
   ]
  },
  {
   "cell_type": "code",
   "execution_count": 37,
   "id": "dddcabd6-4002-4fc3-a19e-f45be4dc6af7",
   "metadata": {},
   "outputs": [],
   "source": [
    "df = df.replace(dict_sentiment)\n",
    "df[\"sentiment_label\"]= df[\"sentiment_label\"].astype(object)"
   ]
  },
  {
   "cell_type": "code",
   "execution_count": 38,
   "id": "9d404fa7-8987-49b9-8da7-bf5c3cb10fc0",
   "metadata": {},
   "outputs": [
    {
     "data": {
      "text/plain": [
       "(array([0, 1, 1, ..., 0, 0, 0], dtype=int64),\n",
       " Index(['Negative', 'Positive'], dtype='object'))"
      ]
     },
     "execution_count": 38,
     "metadata": {},
     "output_type": "execute_result"
    }
   ],
   "source": [
    "sentiment_label = df['sentiment_label'].factorize()\n",
    "sentiment_label"
   ]
  },
  {
   "cell_type": "markdown",
   "id": "2fb68c09-b28c-4d6c-a876-68d96369e187",
   "metadata": {},
   "source": [
    "#### __B5. Steps to prepare the data__ <a name=\"steps\"></a>\n",
    "The steps so far have been: concatenating datasets into one dataframe, cleaning data of any nulls or duplicates, converting text to lowercase, removing punctuation, lemmatizing, tokenizing, encoding, and padding. Since the data is cleaned and encoded, we can now split the data based on the industry standard of training 80% and testing 20% (Encord, n.d.). This ensures enough data to train the learning model, but also enough data to compare outputs against when testing."
   ]
  },
  {
   "cell_type": "code",
   "execution_count": 40,
   "id": "efaea420-67c5-4804-aa3b-e1d5bf30fa0d",
   "metadata": {},
   "outputs": [],
   "source": [
    "x_train, x_test, y_train, y_test = train_test_split(padded_sequence, df['sentiment'], test_size=0.2, random_state=7)"
   ]
  },
  {
   "cell_type": "markdown",
   "id": "68c54e2f-8d93-4d67-9605-998abd714720",
   "metadata": {},
   "source": [
    "#### __B6. Prepared dataset__ <a name=\"dataset\"></a>\n",
    "Below, the numpy array of padded data is converted to dataframe and exported as a .csv file, along with each training test split."
   ]
  },
  {
   "cell_type": "code",
   "execution_count": 42,
   "id": "d97b9298-f235-435c-8607-930a95aeaf9a",
   "metadata": {},
   "outputs": [
    {
     "data": {
      "text/html": [
       "<div>\n",
       "<style scoped>\n",
       "    .dataframe tbody tr th:only-of-type {\n",
       "        vertical-align: middle;\n",
       "    }\n",
       "\n",
       "    .dataframe tbody tr th {\n",
       "        vertical-align: top;\n",
       "    }\n",
       "\n",
       "    .dataframe thead th {\n",
       "        text-align: right;\n",
       "    }\n",
       "</style>\n",
       "<table border=\"1\" class=\"dataframe\">\n",
       "  <thead>\n",
       "    <tr style=\"text-align: right;\">\n",
       "      <th></th>\n",
       "      <th>0</th>\n",
       "      <th>1</th>\n",
       "      <th>2</th>\n",
       "      <th>3</th>\n",
       "      <th>4</th>\n",
       "      <th>5</th>\n",
       "      <th>6</th>\n",
       "      <th>7</th>\n",
       "      <th>8</th>\n",
       "      <th>9</th>\n",
       "      <th>...</th>\n",
       "      <th>190</th>\n",
       "      <th>191</th>\n",
       "      <th>192</th>\n",
       "      <th>193</th>\n",
       "      <th>194</th>\n",
       "      <th>195</th>\n",
       "      <th>196</th>\n",
       "      <th>197</th>\n",
       "      <th>198</th>\n",
       "      <th>199</th>\n",
       "    </tr>\n",
       "  </thead>\n",
       "  <tbody>\n",
       "    <tr>\n",
       "      <th>0</th>\n",
       "      <td>44</td>\n",
       "      <td>263</td>\n",
       "      <td>96</td>\n",
       "      <td>459</td>\n",
       "      <td>24</td>\n",
       "      <td>2122</td>\n",
       "      <td>0</td>\n",
       "      <td>0</td>\n",
       "      <td>0</td>\n",
       "      <td>0</td>\n",
       "      <td>...</td>\n",
       "      <td>0</td>\n",
       "      <td>0</td>\n",
       "      <td>0</td>\n",
       "      <td>0</td>\n",
       "      <td>0</td>\n",
       "      <td>0</td>\n",
       "      <td>0</td>\n",
       "      <td>0</td>\n",
       "      <td>0</td>\n",
       "      <td>0</td>\n",
       "    </tr>\n",
       "    <tr>\n",
       "      <th>1</th>\n",
       "      <td>1</td>\n",
       "      <td>73</td>\n",
       "      <td>30</td>\n",
       "      <td>412</td>\n",
       "      <td>0</td>\n",
       "      <td>0</td>\n",
       "      <td>0</td>\n",
       "      <td>0</td>\n",
       "      <td>0</td>\n",
       "      <td>0</td>\n",
       "      <td>...</td>\n",
       "      <td>0</td>\n",
       "      <td>0</td>\n",
       "      <td>0</td>\n",
       "      <td>0</td>\n",
       "      <td>0</td>\n",
       "      <td>0</td>\n",
       "      <td>0</td>\n",
       "      <td>0</td>\n",
       "      <td>0</td>\n",
       "      <td>0</td>\n",
       "    </tr>\n",
       "    <tr>\n",
       "      <th>2</th>\n",
       "      <td>2</td>\n",
       "      <td>960</td>\n",
       "      <td>0</td>\n",
       "      <td>0</td>\n",
       "      <td>0</td>\n",
       "      <td>0</td>\n",
       "      <td>0</td>\n",
       "      <td>0</td>\n",
       "      <td>0</td>\n",
       "      <td>0</td>\n",
       "      <td>...</td>\n",
       "      <td>0</td>\n",
       "      <td>0</td>\n",
       "      <td>0</td>\n",
       "      <td>0</td>\n",
       "      <td>0</td>\n",
       "      <td>0</td>\n",
       "      <td>0</td>\n",
       "      <td>0</td>\n",
       "      <td>0</td>\n",
       "      <td>0</td>\n",
       "    </tr>\n",
       "    <tr>\n",
       "      <th>3</th>\n",
       "      <td>2123</td>\n",
       "      <td>142</td>\n",
       "      <td>961</td>\n",
       "      <td>962</td>\n",
       "      <td>1355</td>\n",
       "      <td>68</td>\n",
       "      <td>1356</td>\n",
       "      <td>186</td>\n",
       "      <td>0</td>\n",
       "      <td>0</td>\n",
       "      <td>...</td>\n",
       "      <td>0</td>\n",
       "      <td>0</td>\n",
       "      <td>0</td>\n",
       "      <td>0</td>\n",
       "      <td>0</td>\n",
       "      <td>0</td>\n",
       "      <td>0</td>\n",
       "      <td>0</td>\n",
       "      <td>0</td>\n",
       "      <td>0</td>\n",
       "    </tr>\n",
       "    <tr>\n",
       "      <th>4</th>\n",
       "      <td>748</td>\n",
       "      <td>2</td>\n",
       "      <td>0</td>\n",
       "      <td>0</td>\n",
       "      <td>0</td>\n",
       "      <td>0</td>\n",
       "      <td>0</td>\n",
       "      <td>0</td>\n",
       "      <td>0</td>\n",
       "      <td>0</td>\n",
       "      <td>...</td>\n",
       "      <td>0</td>\n",
       "      <td>0</td>\n",
       "      <td>0</td>\n",
       "      <td>0</td>\n",
       "      <td>0</td>\n",
       "      <td>0</td>\n",
       "      <td>0</td>\n",
       "      <td>0</td>\n",
       "      <td>0</td>\n",
       "      <td>0</td>\n",
       "    </tr>\n",
       "    <tr>\n",
       "      <th>...</th>\n",
       "      <td>...</td>\n",
       "      <td>...</td>\n",
       "      <td>...</td>\n",
       "      <td>...</td>\n",
       "      <td>...</td>\n",
       "      <td>...</td>\n",
       "      <td>...</td>\n",
       "      <td>...</td>\n",
       "      <td>...</td>\n",
       "      <td>...</td>\n",
       "      <td>...</td>\n",
       "      <td>...</td>\n",
       "      <td>...</td>\n",
       "      <td>...</td>\n",
       "      <td>...</td>\n",
       "      <td>...</td>\n",
       "      <td>...</td>\n",
       "      <td>...</td>\n",
       "      <td>...</td>\n",
       "      <td>...</td>\n",
       "      <td>...</td>\n",
       "    </tr>\n",
       "    <tr>\n",
       "      <th>2743</th>\n",
       "      <td>41</td>\n",
       "      <td>9</td>\n",
       "      <td>262</td>\n",
       "      <td>1298</td>\n",
       "      <td>565</td>\n",
       "      <td>0</td>\n",
       "      <td>0</td>\n",
       "      <td>0</td>\n",
       "      <td>0</td>\n",
       "      <td>0</td>\n",
       "      <td>...</td>\n",
       "      <td>0</td>\n",
       "      <td>0</td>\n",
       "      <td>0</td>\n",
       "      <td>0</td>\n",
       "      <td>0</td>\n",
       "      <td>0</td>\n",
       "      <td>0</td>\n",
       "      <td>0</td>\n",
       "      <td>0</td>\n",
       "      <td>0</td>\n",
       "    </tr>\n",
       "    <tr>\n",
       "      <th>2744</th>\n",
       "      <td>5038</td>\n",
       "      <td>5039</td>\n",
       "      <td>878</td>\n",
       "      <td>0</td>\n",
       "      <td>0</td>\n",
       "      <td>0</td>\n",
       "      <td>0</td>\n",
       "      <td>0</td>\n",
       "      <td>0</td>\n",
       "      <td>0</td>\n",
       "      <td>...</td>\n",
       "      <td>0</td>\n",
       "      <td>0</td>\n",
       "      <td>0</td>\n",
       "      <td>0</td>\n",
       "      <td>0</td>\n",
       "      <td>0</td>\n",
       "      <td>0</td>\n",
       "      <td>0</td>\n",
       "      <td>0</td>\n",
       "      <td>0</td>\n",
       "    </tr>\n",
       "    <tr>\n",
       "      <th>2745</th>\n",
       "      <td>169</td>\n",
       "      <td>144</td>\n",
       "      <td>17</td>\n",
       "      <td>24</td>\n",
       "      <td>22</td>\n",
       "      <td>0</td>\n",
       "      <td>0</td>\n",
       "      <td>0</td>\n",
       "      <td>0</td>\n",
       "      <td>0</td>\n",
       "      <td>...</td>\n",
       "      <td>0</td>\n",
       "      <td>0</td>\n",
       "      <td>0</td>\n",
       "      <td>0</td>\n",
       "      <td>0</td>\n",
       "      <td>0</td>\n",
       "      <td>0</td>\n",
       "      <td>0</td>\n",
       "      <td>0</td>\n",
       "      <td>0</td>\n",
       "    </tr>\n",
       "    <tr>\n",
       "      <th>2746</th>\n",
       "      <td>253</td>\n",
       "      <td>79</td>\n",
       "      <td>2005</td>\n",
       "      <td>41</td>\n",
       "      <td>24</td>\n",
       "      <td>5040</td>\n",
       "      <td>261</td>\n",
       "      <td>196</td>\n",
       "      <td>12</td>\n",
       "      <td>0</td>\n",
       "      <td>...</td>\n",
       "      <td>0</td>\n",
       "      <td>0</td>\n",
       "      <td>0</td>\n",
       "      <td>0</td>\n",
       "      <td>0</td>\n",
       "      <td>0</td>\n",
       "      <td>0</td>\n",
       "      <td>0</td>\n",
       "      <td>0</td>\n",
       "      <td>0</td>\n",
       "    </tr>\n",
       "    <tr>\n",
       "      <th>2747</th>\n",
       "      <td>324</td>\n",
       "      <td>56</td>\n",
       "      <td>87</td>\n",
       "      <td>5041</td>\n",
       "      <td>1310</td>\n",
       "      <td>5042</td>\n",
       "      <td>5043</td>\n",
       "      <td>12</td>\n",
       "      <td>286</td>\n",
       "      <td>506</td>\n",
       "      <td>...</td>\n",
       "      <td>0</td>\n",
       "      <td>0</td>\n",
       "      <td>0</td>\n",
       "      <td>0</td>\n",
       "      <td>0</td>\n",
       "      <td>0</td>\n",
       "      <td>0</td>\n",
       "      <td>0</td>\n",
       "      <td>0</td>\n",
       "      <td>0</td>\n",
       "    </tr>\n",
       "  </tbody>\n",
       "</table>\n",
       "<p>2748 rows × 200 columns</p>\n",
       "</div>"
      ],
      "text/plain": [
       "       0     1     2     3     4     5     6    7    8    9    ...  190  191  \\\n",
       "0       44   263    96   459    24  2122     0    0    0    0  ...    0    0   \n",
       "1        1    73    30   412     0     0     0    0    0    0  ...    0    0   \n",
       "2        2   960     0     0     0     0     0    0    0    0  ...    0    0   \n",
       "3     2123   142   961   962  1355    68  1356  186    0    0  ...    0    0   \n",
       "4      748     2     0     0     0     0     0    0    0    0  ...    0    0   \n",
       "...    ...   ...   ...   ...   ...   ...   ...  ...  ...  ...  ...  ...  ...   \n",
       "2743    41     9   262  1298   565     0     0    0    0    0  ...    0    0   \n",
       "2744  5038  5039   878     0     0     0     0    0    0    0  ...    0    0   \n",
       "2745   169   144    17    24    22     0     0    0    0    0  ...    0    0   \n",
       "2746   253    79  2005    41    24  5040   261  196   12    0  ...    0    0   \n",
       "2747   324    56    87  5041  1310  5042  5043   12  286  506  ...    0    0   \n",
       "\n",
       "      192  193  194  195  196  197  198  199  \n",
       "0       0    0    0    0    0    0    0    0  \n",
       "1       0    0    0    0    0    0    0    0  \n",
       "2       0    0    0    0    0    0    0    0  \n",
       "3       0    0    0    0    0    0    0    0  \n",
       "4       0    0    0    0    0    0    0    0  \n",
       "...   ...  ...  ...  ...  ...  ...  ...  ...  \n",
       "2743    0    0    0    0    0    0    0    0  \n",
       "2744    0    0    0    0    0    0    0    0  \n",
       "2745    0    0    0    0    0    0    0    0  \n",
       "2746    0    0    0    0    0    0    0    0  \n",
       "2747    0    0    0    0    0    0    0    0  \n",
       "\n",
       "[2748 rows x 200 columns]"
      ]
     },
     "execution_count": 42,
     "metadata": {},
     "output_type": "execute_result"
    }
   ],
   "source": [
    "df_padded = pd.DataFrame(padded_sequence)\n",
    "df_padded"
   ]
  },
  {
   "cell_type": "code",
   "execution_count": 43,
   "id": "dddfc631-477b-46ef-a20d-e3a64a7ad19b",
   "metadata": {},
   "outputs": [],
   "source": [
    "df_padded.to_csv('C://Users/Aaminah/Desktop/masters/D213/cleaned_total.csv',index=False)"
   ]
  },
  {
   "cell_type": "code",
   "execution_count": 44,
   "id": "bbee6267-49a2-45e7-a733-8491c1cc4ae4",
   "metadata": {},
   "outputs": [],
   "source": [
    "df_x_train = pd.DataFrame(x_train) \n",
    "df_x_train.to_csv('C://Users/Aaminah/Desktop/masters/D213/x_train_pt1.csv', index=False)"
   ]
  },
  {
   "cell_type": "code",
   "execution_count": 45,
   "id": "f99b867d-51de-40ae-9be0-d884a3e06ff7",
   "metadata": {},
   "outputs": [],
   "source": [
    "df_x_test = pd.DataFrame(x_test) \n",
    "df_x_test.to_csv('C://Users/Aaminah/Desktop/masters/D213/x_test_pt1.csv', index=False)"
   ]
  },
  {
   "cell_type": "code",
   "execution_count": 46,
   "id": "9a94ea62-d8cb-4a79-b89b-613574e15920",
   "metadata": {},
   "outputs": [],
   "source": [
    "df_y_train = pd.DataFrame(y_train) \n",
    "df_y_train.to_csv('C://Users/Aaminah/Desktop/masters/D213/y_train_pt1.csv', index=False)"
   ]
  },
  {
   "cell_type": "code",
   "execution_count": 47,
   "id": "aa48a351-b29c-482f-9aa0-caa6a2e3b8ad",
   "metadata": {},
   "outputs": [],
   "source": [
    "df_y_test = pd.DataFrame(y_test) \n",
    "df_y_test.to_csv('C://Users/Aaminah/Desktop/masters/D213/y_test_pt1.csv', index=False)"
   ]
  },
  {
   "cell_type": "markdown",
   "id": "bf98d9ca-3464-49d0-a4d7-f392f2a6a24c",
   "metadata": {},
   "source": [
    "#### __C1. Model summary__ <a name=\"modelsum\"></a>\n",
    "Keras provides the framework for sequential models, consisting of layers that pass on tensor array outputs to layers below. Each layer contributes to the process in which the input training data is parsed, recursively learned from, and outputted into a model. The model is created with the vocabulary size, suggested embedded length of 32, and input_length of 200, which is the length of the padded sequences. "
   ]
  },
  {
   "cell_type": "code",
   "execution_count": 49,
   "id": "139943ee-bc14-4e50-9ef6-056384000997",
   "metadata": {},
   "outputs": [
    {
     "data": {
      "text/html": [
       "<pre style=\"white-space:pre;overflow-x:auto;line-height:normal;font-family:Menlo,'DejaVu Sans Mono',consolas,'Courier New',monospace\"><span style=\"font-weight: bold\">Model: \"sequential\"</span>\n",
       "</pre>\n"
      ],
      "text/plain": [
       "\u001b[1mModel: \"sequential\"\u001b[0m\n"
      ]
     },
     "metadata": {},
     "output_type": "display_data"
    },
    {
     "data": {
      "text/html": [
       "<pre style=\"white-space:pre;overflow-x:auto;line-height:normal;font-family:Menlo,'DejaVu Sans Mono',consolas,'Courier New',monospace\">┏━━━━━━━━━━━━━━━━━━━━━━━━━━━━━━━━━┳━━━━━━━━━━━━━━━━━━━━━━━━┳━━━━━━━━━━━━━━━┓\n",
       "┃<span style=\"font-weight: bold\"> Layer (type)                    </span>┃<span style=\"font-weight: bold\"> Output Shape           </span>┃<span style=\"font-weight: bold\">       Param # </span>┃\n",
       "┡━━━━━━━━━━━━━━━━━━━━━━━━━━━━━━━━━╇━━━━━━━━━━━━━━━━━━━━━━━━╇━━━━━━━━━━━━━━━┩\n",
       "│ embedding (<span style=\"color: #0087ff; text-decoration-color: #0087ff\">Embedding</span>)           │ (<span style=\"color: #00d7ff; text-decoration-color: #00d7ff\">None</span>, <span style=\"color: #00af00; text-decoration-color: #00af00\">200</span>, <span style=\"color: #00af00; text-decoration-color: #00af00\">32</span>)        │       <span style=\"color: #00af00; text-decoration-color: #00af00\">169,280</span> │\n",
       "├─────────────────────────────────┼────────────────────────┼───────────────┤\n",
       "│ spatial_dropout1d               │ (<span style=\"color: #00d7ff; text-decoration-color: #00d7ff\">None</span>, <span style=\"color: #00af00; text-decoration-color: #00af00\">200</span>, <span style=\"color: #00af00; text-decoration-color: #00af00\">32</span>)        │             <span style=\"color: #00af00; text-decoration-color: #00af00\">0</span> │\n",
       "│ (<span style=\"color: #0087ff; text-decoration-color: #0087ff\">SpatialDropout1D</span>)              │                        │               │\n",
       "├─────────────────────────────────┼────────────────────────┼───────────────┤\n",
       "│ lstm (<span style=\"color: #0087ff; text-decoration-color: #0087ff\">LSTM</span>)                     │ (<span style=\"color: #00d7ff; text-decoration-color: #00d7ff\">None</span>, <span style=\"color: #00af00; text-decoration-color: #00af00\">50</span>)             │        <span style=\"color: #00af00; text-decoration-color: #00af00\">16,600</span> │\n",
       "├─────────────────────────────────┼────────────────────────┼───────────────┤\n",
       "│ dropout (<span style=\"color: #0087ff; text-decoration-color: #0087ff\">Dropout</span>)               │ (<span style=\"color: #00d7ff; text-decoration-color: #00d7ff\">None</span>, <span style=\"color: #00af00; text-decoration-color: #00af00\">50</span>)             │             <span style=\"color: #00af00; text-decoration-color: #00af00\">0</span> │\n",
       "├─────────────────────────────────┼────────────────────────┼───────────────┤\n",
       "│ dense (<span style=\"color: #0087ff; text-decoration-color: #0087ff\">Dense</span>)                   │ (<span style=\"color: #00d7ff; text-decoration-color: #00d7ff\">None</span>, <span style=\"color: #00af00; text-decoration-color: #00af00\">1</span>)              │            <span style=\"color: #00af00; text-decoration-color: #00af00\">51</span> │\n",
       "└─────────────────────────────────┴────────────────────────┴───────────────┘\n",
       "</pre>\n"
      ],
      "text/plain": [
       "┏━━━━━━━━━━━━━━━━━━━━━━━━━━━━━━━━━┳━━━━━━━━━━━━━━━━━━━━━━━━┳━━━━━━━━━━━━━━━┓\n",
       "┃\u001b[1m \u001b[0m\u001b[1mLayer (type)                   \u001b[0m\u001b[1m \u001b[0m┃\u001b[1m \u001b[0m\u001b[1mOutput Shape          \u001b[0m\u001b[1m \u001b[0m┃\u001b[1m \u001b[0m\u001b[1m      Param #\u001b[0m\u001b[1m \u001b[0m┃\n",
       "┡━━━━━━━━━━━━━━━━━━━━━━━━━━━━━━━━━╇━━━━━━━━━━━━━━━━━━━━━━━━╇━━━━━━━━━━━━━━━┩\n",
       "│ embedding (\u001b[38;5;33mEmbedding\u001b[0m)           │ (\u001b[38;5;45mNone\u001b[0m, \u001b[38;5;34m200\u001b[0m, \u001b[38;5;34m32\u001b[0m)        │       \u001b[38;5;34m169,280\u001b[0m │\n",
       "├─────────────────────────────────┼────────────────────────┼───────────────┤\n",
       "│ spatial_dropout1d               │ (\u001b[38;5;45mNone\u001b[0m, \u001b[38;5;34m200\u001b[0m, \u001b[38;5;34m32\u001b[0m)        │             \u001b[38;5;34m0\u001b[0m │\n",
       "│ (\u001b[38;5;33mSpatialDropout1D\u001b[0m)              │                        │               │\n",
       "├─────────────────────────────────┼────────────────────────┼───────────────┤\n",
       "│ lstm (\u001b[38;5;33mLSTM\u001b[0m)                     │ (\u001b[38;5;45mNone\u001b[0m, \u001b[38;5;34m50\u001b[0m)             │        \u001b[38;5;34m16,600\u001b[0m │\n",
       "├─────────────────────────────────┼────────────────────────┼───────────────┤\n",
       "│ dropout (\u001b[38;5;33mDropout\u001b[0m)               │ (\u001b[38;5;45mNone\u001b[0m, \u001b[38;5;34m50\u001b[0m)             │             \u001b[38;5;34m0\u001b[0m │\n",
       "├─────────────────────────────────┼────────────────────────┼───────────────┤\n",
       "│ dense (\u001b[38;5;33mDense\u001b[0m)                   │ (\u001b[38;5;45mNone\u001b[0m, \u001b[38;5;34m1\u001b[0m)              │            \u001b[38;5;34m51\u001b[0m │\n",
       "└─────────────────────────────────┴────────────────────────┴───────────────┘\n"
      ]
     },
     "metadata": {},
     "output_type": "display_data"
    },
    {
     "data": {
      "text/html": [
       "<pre style=\"white-space:pre;overflow-x:auto;line-height:normal;font-family:Menlo,'DejaVu Sans Mono',consolas,'Courier New',monospace\"><span style=\"font-weight: bold\"> Total params: </span><span style=\"color: #00af00; text-decoration-color: #00af00\">185,931</span> (726.29 KB)\n",
       "</pre>\n"
      ],
      "text/plain": [
       "\u001b[1m Total params: \u001b[0m\u001b[38;5;34m185,931\u001b[0m (726.29 KB)\n"
      ]
     },
     "metadata": {},
     "output_type": "display_data"
    },
    {
     "data": {
      "text/html": [
       "<pre style=\"white-space:pre;overflow-x:auto;line-height:normal;font-family:Menlo,'DejaVu Sans Mono',consolas,'Courier New',monospace\"><span style=\"font-weight: bold\"> Trainable params: </span><span style=\"color: #00af00; text-decoration-color: #00af00\">185,931</span> (726.29 KB)\n",
       "</pre>\n"
      ],
      "text/plain": [
       "\u001b[1m Trainable params: \u001b[0m\u001b[38;5;34m185,931\u001b[0m (726.29 KB)\n"
      ]
     },
     "metadata": {},
     "output_type": "display_data"
    },
    {
     "data": {
      "text/html": [
       "<pre style=\"white-space:pre;overflow-x:auto;line-height:normal;font-family:Menlo,'DejaVu Sans Mono',consolas,'Courier New',monospace\"><span style=\"font-weight: bold\"> Non-trainable params: </span><span style=\"color: #00af00; text-decoration-color: #00af00\">0</span> (0.00 B)\n",
       "</pre>\n"
      ],
      "text/plain": [
       "\u001b[1m Non-trainable params: \u001b[0m\u001b[38;5;34m0\u001b[0m (0.00 B)\n"
      ]
     },
     "metadata": {},
     "output_type": "display_data"
    },
    {
     "name": "stdout",
     "output_type": "stream",
     "text": [
      "None\n"
     ]
    }
   ],
   "source": [
    "#(Sewell, n.d.)\n",
    "model = Sequential() \n",
    "model.add(Embedding(vocab_size, 32, input_shape = (x_train.shape[1],)))\n",
    "model.add(SpatialDropout1D(0.25))\n",
    "model.add(LSTM(50, dropout=0.5, recurrent_dropout=0.5))\n",
    "model.add(Dropout(0.2))\n",
    "model.add(Dense(1, activation='sigmoid')) \n",
    "model.compile(loss='binary_crossentropy',optimizer='adam', metrics=['accuracy'])  \n",
    "print(model.summary()) "
   ]
  },
  {
   "cell_type": "markdown",
   "id": "dbbf88ad-e049-48b3-a77d-58f953f8af88",
   "metadata": {
    "jp-MarkdownHeadingCollapsed": true
   },
   "source": [
    "#### __C2. Network architecture__ <a name=\"net\"></a>\n",
    "According to Keras documentation, the 5 layers are as follows: </br>\n",
    ">Embedding layers use the vocabulary size and embedding size to learn the relationship between the inputs, which are words (Panchal, n.d.).</br>\n",
    ">Spatial dropout1D layer promotes independence between feature maps, where 0.5 is the fraction of the units to drop for the linear transformation of inputs and the recurrent state.</br>\n",
    ">LSTM input layer takes in the array of training data and activates to the output, providing persistent memory. </br>\n",
    ">Dropout layer is an extra layer to prevent overfitting, where 0.2 is the fraction of input units to drop.</br>\n",
    ">Dense layer connects the input to the outputs in each layer, where the sigmoid activation correlates to the binary sentiment outputs in the data. This is the output layer. </br>\n",
    "\n",
    "The total number of parameters is 185,931. These refer to the total weights and biases in the training set. According to Klu AI, \"weights adjust the influence of inputs on outputs by controlling the connection strength between neurons. Biases are constants added to neurons, ensuring activation even without input.\" "
   ]
  },
  {
   "cell_type": "markdown",
   "id": "fd66f34e-52fb-48e7-81fe-4c864e472254",
   "metadata": {
    "jp-MarkdownHeadingCollapsed": true
   },
   "source": [
    "#### __C3. Hyperparameters__ <a name=\"hyper\"></a>\n",
    "The activation function 'sigmoid' refers to our binary sentiment output. The maximum number of epochs or iterations is 20, which is recommended.  The batch size of records processed at once is 512, which performed better than 256 or 128. The optimizer used is adam, which is well-suited to the amount of binary data being processed. Nodes are also known as neurons or units within each layer: the dense layer, for example, has 1 node, compared to LSTM layer's 50 nodes. The loss function is binary_crossentropy, meaning losses are calculated from subtracting the y_pred probability from the y_true binary value. The state of fit will be evaluated by loss and accuracy."
   ]
  },
  {
   "cell_type": "markdown",
   "id": "bc967f2f-3e83-40ea-9a58-435b597e5a50",
   "metadata": {},
   "source": [
    "#### __D1. Stopping criteria__ <a name=\"stopping\"></a>\n",
    "Patience is the number of epochs with no improvement at which point training ends, set to 3. Enabled in the early stopping monitor, this is a good measure to prevent overfitting the model.\n",
    "\n",
    "The model stopped running at 4 epochs, indicating the optimal point of stopping for the model."
   ]
  },
  {
   "cell_type": "code",
   "execution_count": 53,
   "id": "7af12634-6c95-45aa-a457-4353078936a6",
   "metadata": {},
   "outputs": [
    {
     "name": "stdout",
     "output_type": "stream",
     "text": [
      "Epoch 1/20\n",
      "\u001b[1m5/5\u001b[0m \u001b[32m━━━━━━━━━━━━━━━━━━━━\u001b[0m\u001b[37m\u001b[0m \u001b[1m3s\u001b[0m 222ms/step - accuracy: 0.4825 - loss: 0.6943 - val_accuracy: 0.4782 - val_loss: 0.6932\n",
      "Epoch 2/20\n",
      "\u001b[1m5/5\u001b[0m \u001b[32m━━━━━━━━━━━━━━━━━━━━\u001b[0m\u001b[37m\u001b[0m \u001b[1m1s\u001b[0m 158ms/step - accuracy: 0.4928 - loss: 0.6935 - val_accuracy: 0.4782 - val_loss: 0.6936\n",
      "Epoch 3/20\n",
      "\u001b[1m5/5\u001b[0m \u001b[32m━━━━━━━━━━━━━━━━━━━━\u001b[0m\u001b[37m\u001b[0m \u001b[1m1s\u001b[0m 140ms/step - accuracy: 0.5065 - loss: 0.6937 - val_accuracy: 0.4782 - val_loss: 0.6937\n",
      "Epoch 4/20\n",
      "\u001b[1m5/5\u001b[0m \u001b[32m━━━━━━━━━━━━━━━━━━━━\u001b[0m\u001b[37m\u001b[0m \u001b[1m1s\u001b[0m 141ms/step - accuracy: 0.4945 - loss: 0.6934 - val_accuracy: 0.4782 - val_loss: 0.6936\n"
     ]
    }
   ],
   "source": [
    "early_stopping_monitor = EarlyStopping(patience=3)\n",
    "history = model.fit(x_train, y_train, epochs=20, batch_size=512, validation_data=(x_test, y_test), callbacks=[early_stopping_monitor])"
   ]
  },
  {
   "cell_type": "markdown",
   "id": "3bfd331b-d4cd-4609-a49e-b1c2d782dd5e",
   "metadata": {},
   "source": [
    "#### __D2. Fitness__ <a name=\"fitness\"></a>\n",
    "The history function of sequential modeling shows the accuracy, val_accuracy, loss, and val_loss measures for each epoch run. Val_accuracy is the degree to which the model accurately predicted values, and val_loss is the difference between actual and predicted values. Val_accuracy of 0.4782 and val_loss of 0.6932 indicate a 48% overall accuracy, with around 0.7 units in losses. The comparison of val_accuracy and accuracy can tell us if the model is overfit: given that respective values are similar (0.4909 vs 0.4782 for accuracy and 0.6938 vs 6932 for loss), we can conclude that the early stopping measure was successful in preventing overfitting in this model. "
   ]
  },
  {
   "cell_type": "code",
   "execution_count": 55,
   "id": "ac11aa43-b6f6-40d8-8d26-d4df76304669",
   "metadata": {},
   "outputs": [
    {
     "data": {
      "text/plain": [
       "{'accuracy': [0.49090081453323364,\n",
       "  0.49408552050590515,\n",
       "  0.5090991854667664,\n",
       "  0.4959053695201874],\n",
       " 'loss': [0.6938977241516113,\n",
       "  0.6936272978782654,\n",
       "  0.6935776472091675,\n",
       "  0.6933057904243469],\n",
       " 'val_accuracy': [0.4781818091869354,\n",
       "  0.4781818091869354,\n",
       "  0.4781818091869354,\n",
       "  0.4781818091869354],\n",
       " 'val_loss': [0.6932454109191895,\n",
       "  0.6935601830482483,\n",
       "  0.6936644315719604,\n",
       "  0.6936014294624329]}"
      ]
     },
     "execution_count": 55,
     "metadata": {},
     "output_type": "execute_result"
    }
   ],
   "source": [
    "history.history"
   ]
  },
  {
   "cell_type": "markdown",
   "id": "03b9cb88-c4c3-4bf9-b9da-da4f83afb5dd",
   "metadata": {},
   "source": [
    "#### __ED3. Training process__ <a name=\"training\"></a>\n",
    "The models below display the model's accuracy and loss measures per epoch."
   ]
  },
  {
   "cell_type": "code",
   "execution_count": 57,
   "id": "b12ee3b0-1df1-40ae-b4ef-d4c7695dee17",
   "metadata": {},
   "outputs": [
    {
     "data": {
      "image/png": "[encoded data removed]",
      "text/plain": [
       "<Figure size 1000x600 with 1 Axes>"
      ]
     },
     "metadata": {},
     "output_type": "display_data"
    },
    {
     "data": {
      "text/plain": [
       "<Figure size 1000x600 with 0 Axes>"
      ]
     },
     "metadata": {},
     "output_type": "display_data"
    }
   ],
   "source": [
    "plt.plot(history.history['accuracy'], label='acc')\n",
    "plt.plot(history.history['val_accuracy'], label='val_acc')\n",
    "plt.legend()\n",
    "plt.show()\n",
    "plt.savefig(\"Accuracy plot.jpg\")"
   ]
  },
  {
   "cell_type": "code",
   "execution_count": 58,
   "id": "56dabd2c-98a1-4939-98b9-9bd914efa1e8",
   "metadata": {},
   "outputs": [
    {
     "data": {
      "image/png": "[encoded data removed]",
      "text/plain": [
       "<Figure size 1000x600 with 1 Axes>"
      ]
     },
     "metadata": {},
     "output_type": "display_data"
    },
    {
     "data": {
      "text/plain": [
       "<Figure size 1000x600 with 0 Axes>"
      ]
     },
     "metadata": {},
     "output_type": "display_data"
    }
   ],
   "source": [
    "plt.plot(history.history['loss'], label='loss')\n",
    "plt.plot(history.history['val_loss'], label='val_loss')\n",
    "plt.legend()\n",
    "plt.show()\n",
    "plt.savefig(\"Loss plot.jpg\")"
   ]
  },
  {
   "cell_type": "markdown",
   "id": "8b6ebca7-4fdf-42f3-8589-fba07ec58e8b",
   "metadata": {},
   "source": [
    "#### __D4. Predictive accuracy__ <a name=\"pred\"></a>\n",
    "The model is not very accurate; less than 50% of its overall predictions were correct according to the val_accuracy. Despite the val_ measures being very similar to accuracy and losses of the training data, there is still a sizeable difference between both measures as seen in the graphs above. When predicting sentiment using this model, this inaccuracy is evident. Both labels below are erroneously predicted as negative when one is positive; around 50% of the total tested inputs are classified accurately."
   ]
  },
  {
   "cell_type": "code",
   "execution_count": 60,
   "id": "346b05ea-1575-48a8-b56b-9b8b8cc6d0f7",
   "metadata": {},
   "outputs": [],
   "source": [
    "def predict_sentiment(text):\n",
    "    tw = tokenizer.texts_to_sequences([text])\n",
    "    tw = pad_sequences(tw,maxlen=200)\n",
    "    prediction = int(model.predict(tw).round().item())\n",
    "    print(\"Predicted label: \", sentiment_label[1][prediction])"
   ]
  },
  {
   "cell_type": "code",
   "execution_count": 61,
   "id": "8b1c3901-7c26-460a-9c79-6ecc33e649b2",
   "metadata": {},
   "outputs": [
    {
     "name": "stdout",
     "output_type": "stream",
     "text": [
      "\u001b[1m1/1\u001b[0m \u001b[32m━━━━━━━━━━━━━━━━━━━━\u001b[0m\u001b[37m\u001b[0m \u001b[1m0s\u001b[0m 450ms/step\n",
      "Predicted label:  Negative\n",
      "\u001b[1m1/1\u001b[0m \u001b[32m━━━━━━━━━━━━━━━━━━━━\u001b[0m\u001b[37m\u001b[0m \u001b[1m0s\u001b[0m 21ms/step\n",
      "Predicted label:  Negative\n"
     ]
    }
   ],
   "source": [
    "test_sentence1 = \"I enjoyed my journey on this flight.\"\n",
    "predict_sentiment(test_sentence1)\n",
    "\n",
    "test_sentence2 = \"This is the worst flight experience of my life!\"\n",
    "predict_sentiment(test_sentence2)"
   ]
  },
  {
   "cell_type": "markdown",
   "id": "2394b6a8-c9ef-46e1-abf5-fa48f3ace3a0",
   "metadata": {},
   "source": [
    "#### __E. Code__ <a name=\"code\"></a>\n",
    "The model is saved as a .keras file below. "
   ]
  },
  {
   "cell_type": "code",
   "execution_count": 67,
   "id": "2aae83f7-371f-4f12-be90-e134bd8fa319",
   "metadata": {},
   "outputs": [],
   "source": [
    "model.save('C://Users/Aaminah/Desktop/masters/D213/model.keras')"
   ]
  },
  {
   "cell_type": "markdown",
   "id": "59b4d1bd-f0f5-40f2-a314-40bb85622499",
   "metadata": {},
   "source": [
    "#### __F. Functionality__ <a name=\"funct\"></a>\n",
    "With an average accuracy of about 49%, the model has a long way to go before it is truly useful in high-profile cases. The early stopping measure ensured no overfitting, so the number of epochs that the model settles at is the most optimized. The loss function is calculated by binary crossentropy, which could be changed in order to find more accurate measures of loss. Overall the large batch size  means more data is processed at once, which the model has proved to be capable of doing. Setting the initial embedding input_length value to 200 accommodates the total length of each padded record, meaning as much of each record is processed as possible. This model is flexible to myriad datasets, where specific hyperparameters such as the activation function and optimizers would be tweaked to accommodate data beyond the binary sequential data used here. Until adjustments are made to make the model more accurate, this model is likely not functional for significant use."
   ]
  },
  {
   "cell_type": "markdown",
   "id": "544b58b4-cbcb-44ab-a70b-5f649c1b85f5",
   "metadata": {},
   "source": [
    "#### __G. Recommendation__ <a name=\"rec\"></a>\n",
    "The model has poor accuracy, but still holds some potential to be improved. Tweaks to batch sizes, the number of epochs run through, fine-tuning the length of vocabulary in the dataset, as well as changing the method of nodes per layer are all avenues through which the model's accuracy could increase. "
   ]
  },
  {
   "cell_type": "markdown",
   "id": "1debee2a-96b4-4e17-967e-ca6a6a1c9749",
   "metadata": {},
   "source": [
    "#### __H. Reporting__<a name=\"report\"></a>\n",
    "The code is provided in 'ahalipoto_pa2.ipynb'. The HTML version of this presentation is saved as 'ahalipoto_pa2.html'."
   ]
  },
  {
   "cell_type": "markdown",
   "id": "538bcf31-9632-4c5b-bc1f-9249473c13cd",
   "metadata": {
    "jp-MarkdownHeadingCollapsed": true
   },
   "source": [
    "#### __I. Sources for third-party code__ <a name=\"sourcescode\"></a>\n",
    "Gupta, K. (2023, February 21). Remove punctuation from string using Python (4 best methods). FavTutor. https://favtutor.com/blogs/remove-punctuation-from-string-python\n",
    "\n",
    "Reiswig, N. (n.d.). Advanced-data-analytics/d213sentimentneuralnetworks.ipynb at main · Nicolereiswig/advanced-data-analytics. GitHub. https://github.com/NicoleReiswig/Advanced-Data-Analytics/blob/main/D213SentimentNeuralNetworks.ipynb \n",
    "\n",
    "Sewell, W. (n.d.). D213 SA Webinar 4. Panopto. https://wgu.hosted.panopto.com/Panopto/Pages/Viewer.aspx?id=c2642337-7947-4e7c-aa8d-af7b01456876\n",
    "\n",
    "Sewell, W. (n.d.-a). Webinar 5 SA. Panopto. https://wgu.hosted.panopto.com/Panopto/Pages/Viewer.aspx?id=8502edc2-27b3-46ed-ab9c-af89012040ed"
   ]
  },
  {
   "cell_type": "markdown",
   "id": "c6d2113d-334c-4ebb-9238-b79fc8e4bdd8",
   "metadata": {},
   "source": [
    "#### __J. Web Sources__ <a name=\"sources\"></a>\n",
    "Keras. (n.d.). Keras Documentation: Core layers. https://keras.io/api/layers/core_layers/ \n",
    "\n",
    "Panchal, S. (1964, July 1). Uses of embedding/ embedding layer in deep learning. Stack Overflow. https://stackoverflow.com/questions/56333914/uses-of-embedding-embedding-layer-in-deep-learning \n",
    "\n",
    "Sewell, W. (n.d.-a). Advanced Data Analytics D213 Advanced Data Analytics. SRM. https://srm--c.vf.force.com/servlet/fileField?retURL=https%3A%2F%2Fsrm--c.vf.force.com%2Fapex%2FCourseArticle%3Fid%3DkA0S60000000o01KAA%26groupId%3D%26searchTerm%3D%26courseCode%3DD213%26rtn%3D%252Fapex%252FCommonsExpandedSearch&entityId=ka0S60000004X5RIAU&_CONFIRMATIONTOKEN=VmpFPSxNakF5TkMweE1TMHlORlF3TWpvd09Ub3hOUzR4TXpGYSxLcXBJZmh4S3AwZzBRNkdIQmE0VktQcEZjQU5KYVVRNmc1LWJaZ0g2TDdJPSxaREZrWVdOaQ%3D%3D&common.udd.actions.ActionsUtilORIG_URI=%2Fservlet%2FfileField&field=FileUpload__Body__s \n",
    "\n",
    "Tokenizing text in Python. IBM developer. (n.d.). https://developer.ibm.com/tutorials/awb-tokenizing-text-in-python/ \n",
    "\n",
    "Training, validation, test split for Machine Learning Datasets. Encord. (n.d.). https://encord.com/blog/train-val-test-split/ \n",
    "\n",
    "Verma, S. (2023, July 17). Understanding input and output shapes in LSTM: Keras. Medium. https://shiva-verma.medium.com/understanding-input-and-output-shape-in-lstm-keras-c501ee95c65e \n",
    "\n",
    "What are weights and biases?. Klu. (n.d.). https://klu.ai/glossary/weights-and-biases \n",
    "\n",
    "What is RNN? - recurrent neural networks explained - AWS. What is RNN (Recurrent Neural Network)? (n.d.). https://aws.amazon.com/what-is/recurrent-neural-network/ "
   ]
  },
  {
   "cell_type": "code",
   "execution_count": null,
   "id": "ef1c3552-0cdc-4590-80bd-43c86f107d54",
   "metadata": {},
   "outputs": [],
   "source": []
  }
 ],
 "metadata": {
  "kernelspec": {
   "display_name": "Python 3 (ipykernel)",
   "language": "python",
   "name": "python3"
  },
  "language_info": {
   "codemirror_mode": {
    "name": "ipython",
    "version": 3
   },
   "file_extension": ".py",
   "mimetype": "text/x-python",
   "name": "python",
   "nbconvert_exporter": "python",
   "pygments_lexer": "ipython3",
   "version": "3.12.3"
  }
 },
 "nbformat": 4,
 "nbformat_minor": 5
}
